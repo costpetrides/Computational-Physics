{
  "nbformat": 4,
  "nbformat_minor": 0,
  "metadata": {
    "colab": {
      "provenance": [],
      "authorship_tag": "ABX9TyNMjmRrRRI19ieYCx0s0t35",
      "include_colab_link": true
    },
    "kernelspec": {
      "name": "python3",
      "display_name": "Python 3"
    },
    "language_info": {
      "name": "python"
    }
  },
  "cells": [
    {
      "cell_type": "markdown",
      "metadata": {
        "id": "view-in-github",
        "colab_type": "text"
      },
      "source": [
        "<a href=\"https://colab.research.google.com/github/costpetrides/Computational-Physics/blob/main/2020-2023.ipynb\" target=\"_parent\"><img src=\"https://colab.research.google.com/assets/colab-badge.svg\" alt=\"Open In Colab\"/></a>"
      ]
    },
    {
      "cell_type": "markdown",
      "source": [
        "**Πρόβλημα 1:**"
      ],
      "metadata": {
        "id": "yHsUIz7NoSrP"
      }
    },
    {
      "cell_type": "code",
      "execution_count": 2,
      "metadata": {
        "colab": {
          "base_uri": "https://localhost:8080/",
          "height": 344
        },
        "id": "sM-SyDfNoMbQ",
        "outputId": "81f2366d-6a64-4f2c-8993-34bbdbfcbc69"
      },
      "outputs": [
        {
          "output_type": "stream",
          "name": "stdout",
          "text": [
            "The mean value is:  3.5\n",
            "The Variance: 2.6\n",
            "The Standard deviation: 1.60 \n"
          ]
        },
        {
          "output_type": "execute_result",
          "data": {
            "text/plain": [
              "Text(0, 0.5, 'Frequency')"
            ]
          },
          "metadata": {},
          "execution_count": 2
        },
        {
          "output_type": "display_data",
          "data": {
            "text/plain": [
              "<Figure size 432x288 with 1 Axes>"
            ],
            "image/png": "[encoded data removed]"
          },
          "metadata": {
            "needs_background": "light"
          }
        }
      ],
      "source": [
        "import numpy as np\n",
        "import matplotlib.pyplot as plt\n",
        "import math\n",
        "\n",
        "x = np.array([4, 2, 3, 6, 1, 5, 1, 5, 6, 3, 2, 1, 2, 1, 2, 5, 5, 3, 1, 2, 3, 4,  \n",
        "3, 6, 3, 6, 4, 2, 3, 3, 6, 4, 1, 1, 6, 4, 6, 3, 4, 6, 6, 4, 2, 2,\n",
        "6, 3, 6, 5, 4, 6, 3, 3, 3, 4, 2, 5, 3, 3, 2, 3, 5, 4, 3, 4, 3, 6,\n",
        "3, 6, 3, 5, 2, 3, 2, 3, 6, 1, 2, 3, 3, 3, 5, 5, 5, 2, 6, 1, 3, 3,\n",
        "3, 2, 3, 3, 3, 4, 4, 3, 5, 5, 5, 1, 2, 1, 1, 3, 3, 3, 3, 6, 4, 4,\n",
        "3, 6, 2, 4, 3, 6, 5, 3, 6, 2, 3, 3, 5, 3, 4, 5, 4, 3, 1, 3, 2, 6,\n",
        "4, 3, 5, 4, 3, 3, 1, 6, 4, 4, 3, 6, 4, 3, 6, 4, 3, 5, 3, 4, 3, 6,\n",
        "2, 3, 6, 1, 3, 6, 1, 4, 1, 2, 1, 6, 4, 3, 3, 4, 3, 2, 6, 1, 3, 4,\n",
        "6, 6, 4, 1, 1, 3, 3, 3, 5, 3, 4, 3, 1, 3, 5, 3, 5, 6, 4, 5, 3, 5,\n",
        "5, 6, 3, 1, 3, 3, 6, 1, 6, 5, 2, 5, 4, 1, 3, 6, 5, 3, 2, 3, 1, 3,\n",
        "6, 4, 1, 6, 3, 1, 2, 6, 4, 6, 4, 3, 3, 5, 4, 4, 1, 5, 6, 3, 5, 3,\n",
        "4, 5, 4, 1, 2, 6, 6, 3, 2, 3, 4, 4, 3, 3, 4, 6, 5, 4, 3, 1, 2, 6,\n",
        "2, 1, 3, 2, 1, 3, 3, 3, 6, 3, 1, 2, 6, 3, 1, 6, 1, 4, 6, 5, 3, 1,\n",
        "2, 6, 2, 1, 1, 3, 5, 6, 1, 5, 5, 3, 5, 3])      # Πίνακας με τα στοιχεία \n",
        "\n",
        "N  = len(x)         #Εντολή ποου μετρά το πλήθος των στοιχείων του x πίνακα \n",
        "mean  = sum(x)/N\n",
        "ss = sum((x-mean)**2)/(N-1)\n",
        "\n",
        "print('The mean value is:  %.1f' %(mean)) \n",
        "print('The Variance: %.1f' %(ss))\n",
        "print('The Standard deviation: %.2f ' %(math.sqrt(ss)))\n",
        "\n",
        "\n",
        "#Plot Histogram \n",
        "bins = range(1,8)\n",
        "plt.hist(x, bins, ec = 'black')\n",
        "plt.xlabel('Xj')\n",
        "plt.ylabel('Frequency')"
      ]
    }
  ]
}