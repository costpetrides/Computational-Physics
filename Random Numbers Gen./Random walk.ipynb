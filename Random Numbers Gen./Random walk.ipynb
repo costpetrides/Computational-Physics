{
  "nbformat": 4,
  "nbformat_minor": 0,
  "metadata": {
    "colab": {
      "provenance": [],
      "authorship_tag": "ABX9TyPFvi5HUHAaZ+71sjWDc5XH",
      "include_colab_link": true
    },
    "kernelspec": {
      "name": "python3",
      "display_name": "Python 3"
    },
    "language_info": {
      "name": "python"
    }
  },
  "cells": [
    {
      "cell_type": "markdown",
      "metadata": {
        "id": "view-in-github",
        "colab_type": "text"
      },
      "source": [
        "<a href=\"https://colab.research.google.com/github/costpetrides/Computational-Physics/blob/main/Random%20Numbers%20Gen./Random%20walk.ipynb\" target=\"_parent\"><img src=\"https://colab.research.google.com/assets/colab-badge.svg\" alt=\"Open In Colab\"/></a>"
      ]
    },
    {
      "cell_type": "markdown",
      "source": [
        "# Random walk"
      ],
      "metadata": {
        "id": "AJlQhxyJj4NY"
      }
    },
    {
      "cell_type": "markdown",
      "source": [
        "**Example 1:** Random walk in 1D for t=100s . Assume that you can move (+/- 1 step every 1s)"
      ],
      "metadata": {
        "id": "fHntjX6JkG_e"
      }
    },
    {
      "cell_type": "code",
      "source": [
        "import numpy as np\n",
        "import matplotlib.pyplot as plt\n",
        "\n",
        "\n",
        "def step():\n",
        "  x=round(np.random.rand())\n",
        "  if x==0:\n",
        "    return -1\n",
        "  else:\n",
        "    return 1\n",
        "\n",
        "\n",
        "def walk(N):\n",
        "  pos=0\n",
        "  x=[0]\n",
        "  for i in range(N):\n",
        "    pos+=step()\n",
        "    x+=[pos]\n",
        "  print('Position x(%.f)=%.2f' %(i,pos))\n",
        "  plt.plot(x)\n",
        "  plt.show()\n",
        "\n",
        "walk(100)"
      ],
      "metadata": {
        "colab": {
          "base_uri": "https://localhost:8080/",
          "height": 282
        },
        "id": "rfZ4jePIj5qY",
        "outputId": "a0c17f47-f8eb-4a0b-855d-ee211fe1ed60"
      },
      "execution_count": null,
      "outputs": [
        {
          "output_type": "stream",
          "name": "stdout",
          "text": [
            "Position x(99)=-8.00\n"
          ]
        },
        {
          "output_type": "display_data",
          "data": {
            "text/plain": [
              "<Figure size 432x288 with 1 Axes>"
            ],
            "image/png": "[encoded data removed]"
          },
          "metadata": {
            "needs_background": "light"
          }
        }
      ]
    },
    {
      "cell_type": "markdown",
      "source": [
        "**Example 2:** Is there any position that is more likely to be the last one?"
      ],
      "metadata": {
        "id": "-DfrkUDHwVGV"
      }
    },
    {
      "cell_type": "code",
      "source": [
        "def final_pos(N):\n",
        "  pos=0\n",
        "  for i in range(N):\n",
        "    pos+=step()\n",
        "  return pos\n",
        "\n",
        "x=[final_pos(100) for i in range(100)]\n",
        "bin=np.linspace(-100,100,20)\n",
        "plt.hist(x,ec='black',bins=bin)\n",
        "plt.show()"
      ],
      "metadata": {
        "colab": {
          "base_uri": "https://localhost:8080/",
          "height": 265
        },
        "id": "jMZ7Na5lwv0_",
        "outputId": "068813d4-82e8-4996-a41f-f103f66e4b6a"
      },
      "execution_count": null,
      "outputs": [
        {
          "output_type": "display_data",
          "data": {
            "text/plain": [
              "<Figure size 432x288 with 1 Axes>"
            ],
            "image/png": "[encoded data removed]"
          },
          "metadata": {
            "needs_background": "light"
          }
        }
      ]
    },
    {
      "cell_type": "markdown",
      "source": [
        "**Example 3:** Random walk in 2D for t=400s . Assume that you can move (+/- 1 step every 1s)"
      ],
      "metadata": {
        "id": "llICBYHbLhRE"
      }
    },
    {
      "cell_type": "code",
      "source": [
        "def u():\n",
        "  return 4*np.random.rand()+1\n",
        "\n",
        "\n",
        "x=[0]\n",
        "y=[0]\n",
        "for i in range(200):\n",
        "  dice=u()\n",
        "  if dice<=2:\n",
        "    x+=[x[-1] +1]\n",
        "    y+=[y[-1]]\n",
        "  elif dice<=3:\n",
        "    x+=[x[-1] -1]\n",
        "    y+=[y[-1]]\n",
        "  elif dice<=4:\n",
        "    x+=[x[-1]]\n",
        "    y+=[y[-1] +1]\n",
        "  elif dice<=5:\n",
        "    x+=[x[-1]]\n",
        "    y+=[y[-1] -1]\n",
        "  plt.plot(x,y)\n"
      ],
      "metadata": {
        "colab": {
          "base_uri": "https://localhost:8080/",
          "height": 265
        },
        "id": "8XsJ1c2DLnP3",
        "outputId": "f74fc607-3866-467e-c92b-dd1193fa03a0"
      },
      "execution_count": 58,
      "outputs": [
        {
          "output_type": "display_data",
          "data": {
            "text/plain": [
              "<Figure size 432x288 with 1 Axes>"
            ],
            "image/png": "[encoded data removed]"
          },
          "metadata": {
            "needs_background": "light"
          }
        }
      ]
    },
    {
      "cell_type": "markdown",
      "source": [
        "**Example 4:** Is there any position that is more likely to be the last one (2D)?"
      ],
      "metadata": {
        "id": "4p6I5Z-qPICb"
      }
    },
    {
      "cell_type": "code",
      "source": [
        "xlast=[]\n",
        "ylast=[]\n",
        "for j in range(1000):\n",
        "  x=[0]\n",
        "  y=[0]\n",
        "  for i in range(200):\n",
        "    dice=u()\n",
        "    if dice<=2:\n",
        "      x+=[x[-1] +1]\n",
        "      y+=[y[-1]]\n",
        "    elif dice<=3:\n",
        "      x+=[x[-1] -1]\n",
        "      y+=[y[-1]]\n",
        "    elif dice<=4:\n",
        "      x+=[x[-1]]\n",
        "      y+=[y[-1] +1]\n",
        "    elif dice<=5:\n",
        "      x+=[x[-1]]\n",
        "      y+=[y[-1] -1]\n",
        "  xlast+=[x[-1]]\n",
        "  ylast+=[y[-1]]\n",
        "\n",
        "bin=np.linspace(-50,50,100)\n",
        "\n",
        "plt.hist(xlast,bin)\n",
        "plt.xlabel('position / x-axis')\n",
        "plt.title('x-axis')\n",
        "plt.show()\n",
        "\n",
        "plt.hist(ylast,bin)\n",
        "plt.xlabel('position / y-axis')\n",
        "plt.title('y-axis')\n",
        "plt.show()"
      ],
      "metadata": {
        "colab": {
          "base_uri": "https://localhost:8080/",
          "height": 573
        },
        "id": "A9Pi2HXjPLRM",
        "outputId": "cc12161f-b503-42b6-f638-f2bad262212e"
      },
      "execution_count": 62,
      "outputs": [
        {
          "output_type": "display_data",
          "data": {
            "text/plain": [
              "<Figure size 432x288 with 1 Axes>"
            ],
            "image/png": "[encoded data removed]"
          },
          "metadata": {
            "needs_background": "light"
          }
        },
        {
          "output_type": "display_data",
          "data": {
            "text/plain": [
              "<Figure size 432x288 with 1 Axes>"
            ],
            "image/png": "[encoded data removed]"
          },
          "metadata": {
            "needs_background": "light"
          }
        }
      ]
    }
  ]
}