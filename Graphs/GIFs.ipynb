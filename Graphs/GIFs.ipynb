{
  "nbformat": 4,
  "nbformat_minor": 0,
  "metadata": {
    "colab": {
      "provenance": [],
      "authorship_tag": "ABX9TyNEf/w/xPMIVSkCk3KslasM",
      "include_colab_link": true
    },
    "kernelspec": {
      "name": "python3",
      "display_name": "Python 3"
    },
    "language_info": {
      "name": "python"
    }
  },
  "cells": [
    {
      "cell_type": "markdown",
      "metadata": {
        "id": "view-in-github",
        "colab_type": "text"
      },
      "source": [
        "<a href=\"https://colab.research.google.com/github/costpetrides/Computational-Physics/blob/main/Graphs/GIFs.ipynb\" target=\"_parent\"><img src=\"https://colab.research.google.com/assets/colab-badge.svg\" alt=\"Open In Colab\"/></a>"
      ]
    },
    {
      "cell_type": "code",
      "execution_count": 1,
      "metadata": {
        "colab": {
          "base_uri": "https://localhost:8080/"
        },
        "id": "MFH5IS2cEug1",
        "outputId": "ca61adbc-bf65-40a3-9b4f-7e31a5206aca"
      },
      "outputs": [
        {
          "output_type": "stream",
          "name": "stdout",
          "text": [
            "Requirement already satisfied: pillow in /usr/local/lib/python3.10/dist-packages (11.0.0)\n"
          ]
        }
      ],
      "source": [
        "pip install pillow"
      ]
    },
    {
      "cell_type": "code",
      "source": [
        "from PIL import Image, GifImagePlugin\n",
        "\n",
        "def make_gif_infinite_loop(input_path):\n",
        "    try:\n",
        "        # Open the GIF file\n",
        "        gif = Image.open(input_path)\n",
        "\n",
        "        # Ensure it's an animated GIF\n",
        "        if not getattr(gif, \"is_animated\", False):\n",
        "            print(\"The provided file is not an animated GIF.\")\n",
        "            return\n",
        "\n",
        "        # Extract all frames\n",
        "        frames = []\n",
        "        for frame in range(0, gif.n_frames):\n",
        "            gif.seek(frame)\n",
        "            frames.append(gif.copy())\n",
        "\n",
        "        # Save the frames as a new GIF with infinite looping\n",
        "        frames[0].save(\n",
        "            input_path,\n",
        "            save_all=True,\n",
        "            append_images=frames[1:],\n",
        "            loop=0,  # Infinite loop\n",
        "            duration=gif.info[\"duration\"]  # Keep original frame duration\n",
        "        )\n",
        "        print(f\"GIF updated with infinite looping: {input_path}\")\n",
        "\n",
        "    except Exception as e:\n",
        "        print(f\"Error: {e}\")\n",
        "\n",
        "# Example usage\n",
        "input_gif = \"/content/1.gif\"  # Replace this with the path to your input GIF\n",
        "make_gif_infinite_loop(input_gif)\n"
      ],
      "metadata": {
        "colab": {
          "base_uri": "https://localhost:8080/"
        },
        "id": "VoNWj2RiE4Ba",
        "outputId": "93631446-6fa9-4b07-9cb0-978b2e7ee70f"
      },
      "execution_count": 8,
      "outputs": [
        {
          "output_type": "stream",
          "name": "stdout",
          "text": [
            "GIF updated with infinite looping: /content/1.gif\n"
          ]
        }
      ]
    }
  ]
}