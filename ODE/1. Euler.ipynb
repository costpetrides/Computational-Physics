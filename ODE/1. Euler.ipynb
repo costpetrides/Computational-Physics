{
  "nbformat": 4,
  "nbformat_minor": 0,
  "metadata": {
    "colab": {
      "name": "Untitled194.ipynb",
      "provenance": [],
      "authorship_tag": "ABX9TyN49PoJuJRJYT8IoO9QsZHI",
      "include_colab_link": true
    },
    "kernelspec": {
      "name": "python3",
      "display_name": "Python 3"
    },
    "language_info": {
      "name": "python"
    }
  },
  "cells": [
    {
      "cell_type": "markdown",
      "metadata": {
        "id": "view-in-github",
        "colab_type": "text"
      },
      "source": [
        "<a href=\"https://colab.research.google.com/github/costpetrides/Computational-Physics/blob/main/1.%20Euler.ipynb\" target=\"_parent\"><img src=\"https://colab.research.google.com/assets/colab-badge.svg\" alt=\"Open In Colab\"/></a>"
      ]
    },
    {
      "cell_type": "markdown",
      "source": [
        "# Euler Method "
      ],
      "metadata": {
        "id": "FOsszQYl24SL"
      }
    },
    {
      "cell_type": "markdown",
      "source": [
        "**ODE:** $\\;\\;\\; f(t,y)=y'$\n",
        "\n",
        "$a \\leq t \\leq b $\n",
        "\n",
        "y(0)=c   $ \\;\\;\\; → w[0]=c \\;\\;,\\;\\;   t[0]=0$"
      ],
      "metadata": {
        "id": "WNqbgfPY3Ea_"
      }
    },
    {
      "cell_type": "markdown",
      "source": [
        "**Matrix:**\n",
        "\n",
        "N=int(np.ceil($\\frac{b-a}{τ}$)   $\\;\\; τ$: small constant \n",
        "\n",
        "w=np.zeros(n+1)\n",
        "\n",
        "t=np.zeros(n+1)"
      ],
      "metadata": {
        "id": "QmyDbpKS4Joy"
      }
    },
    {
      "cell_type": "markdown",
      "source": [
        "**Formula:**     $\\;\\;\\; i\\; →\\; N$\n",
        "\n",
        "$w_{i+1}=w_{i}\\;+\\;τ \\cdot f(t_{i},w_{i})$\n",
        "\n",
        "$t_{i+1}=t_{i}\\;+\\;τ$"
      ],
      "metadata": {
        "id": "iuL-kv4E5Z6Z"
      }
    },
    {
      "cell_type": "markdown",
      "source": [
        "----\n"
      ],
      "metadata": {
        "id": "3lecQcMm6kAo"
      }
    },
    {
      "cell_type": "markdown",
      "source": [
        "**Example:**\n",
        "\n",
        "Solve the ODE for τ=0.02:\n",
        "\n",
        "$y'=0.5y , \\: \\:\\: \\: \\: 0\\leq t \\leq 2 \\: \\: ,\\: \\: \\: y(0)=1$ "
      ],
      "metadata": {
        "id": "LHoFnybr6mr-"
      }
    },
    {
      "cell_type": "code",
      "source": [
        "import numpy as np\n",
        "import math\n",
        "import matplotlib.pyplot as plt\n",
        "\n",
        "def f(t,y):\n",
        "  return 0.5*y\n",
        "\n",
        "a=0\n",
        "b=2\n",
        "c=1\n",
        "τ=0.02\n",
        "\n",
        "N=int(np.ceil(b-a)/τ)\n",
        "\n",
        "w=np.zeros(N+1)\n",
        "t=np.zeros(N+1)\n",
        "\n",
        "w[0]=c\n",
        "t[0]=0\n",
        "\n",
        "for i in range(N):\n",
        "  w[i+1]=w[i]+τ*f(t[i],w[i])\n",
        "  t[i+1]=t[i]+τ\n",
        "\n",
        "print('The solution for τ=%.2f is %.3f' %(τ,w[-1]))\n",
        "plt.plot(t,w,label='t=0.02')\n",
        "plt.legend()\n",
        "plt.xlabel('t [sec]')\n",
        "plt.ylabel('y')"
      ],
      "metadata": {
        "colab": {
          "base_uri": "https://localhost:8080/",
          "height": 313
        },
        "id": "DHvksVpH5113",
        "outputId": "54a30d62-646f-4551-b202-53fac59b8f0b"
      },
      "execution_count": 16,
      "outputs": [
        {
          "output_type": "stream",
          "name": "stdout",
          "text": [
            "The solution for τ=0.02 is 2.705\n"
          ]
        },
        {
          "output_type": "execute_result",
          "data": {
            "text/plain": [
              "Text(0, 0.5, 'y')"
            ]
          },
          "metadata": {},
          "execution_count": 16
        },
        {
          "output_type": "display_data",
          "data": {
            "text/plain": [
              "<Figure size 432x288 with 1 Axes>"
            ],
            "image/png": "[encoded data removed]"
          },
          "metadata": {
            "needs_background": "light"
          }
        }
      ]
    },
    {
      "cell_type": "code",
      "source": [
        "import numpy as np\n",
        "import matplotlib.pyplot as plt\n",
        "\n",
        "def f(t,y):\n",
        "  return 0.5*y\n",
        "\n",
        "def sol(x):\n",
        "  a=0\n",
        "  b=2\n",
        "  c=1\n",
        "\n",
        "  τ=x\n",
        "  N=int(np.ceil((b-a)/τ))\n",
        " \n",
        "\n",
        "\n",
        "  w=np.zeros(N+1)\n",
        "  t=np.zeros(N+1)\n",
        "\n",
        "  w[0]=c\n",
        "  t[0]=0\n",
        "\n",
        "  for i in range(N):\n",
        "    w[i+1]=w[i] + τ*f(t[i],w[i])\n",
        "    t[i+1]=t[i] + τ\n",
        "  \n",
        "  return w\n",
        "\n",
        "plt.plot(sol(0.5),label='τ=0.6')\n",
        "plt.plot(sol(0.2),label='τ=0.2')\n",
        "plt.plot(sol(0.02),label='τ=0.09')\n",
        "plt.plot(sol(0.002),label='τ=0.02')\n",
        "plt.legend()\n",
        "plt.show()\n"
      ],
      "metadata": {
        "colab": {
          "base_uri": "https://localhost:8080/",
          "height": 265
        },
        "id": "mpXXFYeR-AG7",
        "outputId": "4ab48b31-96b0-4e05-be6e-14b90217b62a"
      },
      "execution_count": 18,
      "outputs": [
        {
          "output_type": "display_data",
          "data": {
            "text/plain": [
              "<Figure size 432x288 with 1 Axes>"
            ],
            "image/png": "[encoded data removed]"
          },
          "metadata": {
            "needs_background": "light"
          }
        }
      ]
    }
  ]
}
