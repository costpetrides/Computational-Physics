{
  "nbformat": 4,
  "nbformat_minor": 0,
  "metadata": {
    "colab": {
      "provenance": [],
      "authorship_tag": "ABX9TyPhNAVI8MqtRVNzDCEyg2f/",
      "include_colab_link": true
    },
    "kernelspec": {
      "name": "python3",
      "display_name": "Python 3"
    },
    "language_info": {
      "name": "python"
    }
  },
  "cells": [
    {
      "cell_type": "markdown",
      "metadata": {
        "id": "view-in-github",
        "colab_type": "text"
      },
      "source": [
        "<a href=\"https://colab.research.google.com/github/costpetrides/Computational-Physics/blob/main/Integrals/Solutions.ipynb\" target=\"_parent\"><img src=\"https://colab.research.google.com/assets/colab-badge.svg\" alt=\"Open In Colab\"/></a>"
      ]
    },
    {
      "cell_type": "code",
      "execution_count": null,
      "metadata": {
        "id": "UdbajXZslB8W"
      },
      "outputs": [],
      "source": [
        "import numpy as np\n",
        "import matplotlib.pyplot as plt"
      ]
    },
    {
      "cell_type": "markdown",
      "source": [
        "# 10.1"
      ],
      "metadata": {
        "id": "9wP6xe4cmnaU"
      }
    },
    {
      "cell_type": "markdown",
      "source": [
        "**i.**\n",
        "\n",
        "\n",
        "$I=\\sum_{i}^{n} f(x) \\cdot \\left(\\frac{b-a}{n}\\right)$\n"
      ],
      "metadata": {
        "id": "mNojcudwoakL"
      }
    },
    {
      "cell_type": "code",
      "source": [
        "a=1\n",
        "b=5\n",
        "N=10**8\n",
        "h=(b-a)/N\n",
        "\n",
        "x=np.linspace(a,b,N)\n",
        "f= np.exp(x)*np.sqrt(x)\n",
        "\n",
        "I=h*sum(f[1:N])\n",
        "print('I1=%.3f' %(I))\n",
        "\n",
        "#Graph\n",
        "plt.plot(x,f)\n",
        "plt.show()"
      ],
      "metadata": {
        "colab": {
          "base_uri": "https://localhost:8080/",
          "height": 281
        },
        "id": "pUesupdZ7tfr",
        "outputId": "bc8bff2e-0281-4ab7-df36-47fa3ddaa4cc"
      },
      "execution_count": null,
      "outputs": [
        {
          "output_type": "stream",
          "name": "stdout",
          "text": [
            "I1=292.208\n"
          ]
        },
        {
          "output_type": "display_data",
          "data": {
            "text/plain": [
              "<Figure size 432x288 with 1 Axes>"
            ],
            "image/png": "[encoded data removed]"
          },
          "metadata": {
            "needs_background": "light"
          }
        }
      ]
    },
    {
      "cell_type": "markdown",
      "source": [
        "**ii.**"
      ],
      "metadata": {
        "id": "m0w9Jq_bodm5"
      }
    },
    {
      "cell_type": "code",
      "source": [
        "a=0\n",
        "b=1\n",
        "N=10**8\n",
        "h=(b-a)/N\n",
        "\n",
        "x=np.linspace(a,b,N)\n",
        "f=np.sqrt(np.sin(x))*np.cos(3*x)\n",
        "\n",
        "I=sum(f)*h\n",
        "print('I2=%.3f' %(I))\n",
        "plt.plot(x,f)\n",
        "plt.show()"
      ],
      "metadata": {
        "colab": {
          "base_uri": "https://localhost:8080/",
          "height": 281
        },
        "id": "XGLzHDZ3ofRr",
        "outputId": "165a6267-89bd-4a4e-e0da-8c87b601ef01"
      },
      "execution_count": null,
      "outputs": [
        {
          "output_type": "stream",
          "name": "stdout",
          "text": [
            "I2=-0.110\n"
          ]
        },
        {
          "output_type": "display_data",
          "data": {
            "text/plain": [
              "<Figure size 432x288 with 1 Axes>"
            ],
            "image/png": "[encoded data removed]"
          },
          "metadata": {
            "needs_background": "light"
          }
        }
      ]
    },
    {
      "cell_type": "markdown",
      "source": [
        "# 10.2\n",
        "\n",
        "$\n",
        "     I= \\frac{h}{2} \\sum_{i}^{n} \\left( f(a) + f(b) \\right) \\:\\: \\:, \\:\\:\\: h=b-a\n",
        "$"
      ],
      "metadata": {
        "id": "_LuC77XV4Bkl"
      }
    },
    {
      "cell_type": "markdown",
      "source": [
        "#i."
      ],
      "metadata": {
        "id": "iNGD1HePVT91"
      }
    },
    {
      "cell_type": "code",
      "source": [
        "import numpy as np\n",
        "\n",
        "a=1\n",
        "b=4\n",
        "n = 10**4\n",
        "\n",
        "h = (b - a)/n\n",
        "x = np.linspace(a, b, n)\n",
        "\n",
        "f=np.exp(x)+ 5*x\n",
        "\n",
        "I= (h/2)*(f[0] + 2 * sum(f[1:n-1]) + f[n-1])\n",
        "\n",
        "print('I2=%.3f' %(I))\n",
        "plt.plot(x,f)\n",
        "plt.show()"
      ],
      "metadata": {
        "colab": {
          "base_uri": "https://localhost:8080/",
          "height": 281
        },
        "id": "NGyC6ei-69qj",
        "outputId": "e2a44a9d-341d-4672-dfae-93c2116ff626"
      },
      "execution_count": null,
      "outputs": [
        {
          "output_type": "stream",
          "name": "stdout",
          "text": [
            "I2=89.371\n"
          ]
        },
        {
          "output_type": "display_data",
          "data": {
            "text/plain": [
              "<Figure size 432x288 with 1 Axes>"
            ],
            "image/png": "[encoded data removed]"
          },
          "metadata": {
            "needs_background": "light"
          }
        }
      ]
    },
    {
      "cell_type": "markdown",
      "source": [
        "# ii."
      ],
      "metadata": {
        "id": "AcL-cLTiVVmM"
      }
    },
    {
      "cell_type": "code",
      "source": [
        "a=1\n",
        "b=5\n",
        "n=10**4\n",
        "h=(b-a)/n\n",
        "\n",
        "x=np.linspace(a,b,n)\n",
        "f=np.exp(x)*np.log(x)**2\n",
        "\n",
        "I=h/2*(f[0] + 2*sum(f[1:n-1]) +f[n-1])\n",
        "\n",
        "print('I2=%.3f' %(I))\n",
        "plt.plot(x,f)\n",
        "plt.show()"
      ],
      "metadata": {
        "colab": {
          "base_uri": "https://localhost:8080/",
          "height": 283
        },
        "id": "uJeg_vTXVXAQ",
        "outputId": "f7bd7de8-4a4c-4807-8e02-246772f82663"
      },
      "execution_count": null,
      "outputs": [
        {
          "output_type": "stream",
          "name": "stdout",
          "text": [
            "I2=285.785\n"
          ]
        },
        {
          "output_type": "display_data",
          "data": {
            "text/plain": [
              "<Figure size 432x288 with 1 Axes>"
            ],
            "image/png": "[encoded data removed]"
          },
          "metadata": {
            "needs_background": "light"
          }
        }
      ]
    },
    {
      "cell_type": "markdown",
      "source": [
        "# 10.3\n",
        "        \n",
        "$\n",
        "  I= \\frac{h}{3} \\sum_{i}^{n} \\left( f(x_{o}) + 4f(x_{1}) +f(x_{2}) \\right) \\:\\: \\:, \\:\\:\\: h=\\frac{b-a}{2}\n",
        "$"
      ],
      "metadata": {
        "id": "JkTrhFFUji4u"
      }
    },
    {
      "cell_type": "markdown",
      "source": [
        "# i."
      ],
      "metadata": {
        "id": "gW21uWFCp4i6"
      }
    },
    {
      "cell_type": "code",
      "source": [
        "a = 0\n",
        "b = 4\n",
        "n = 10**4\n",
        "h = (b - a) /n\n",
        "\n",
        "x = np.linspace(a, b, n)\n",
        "f = np.exp(x) + 5*x**3\n",
        "\n",
        "I = (h/3) * (f[0] + 2*sum(f[0:n-2:2]) + 4*sum(f[1:n-1:2]) + f[n-1])\n",
        "\n",
        "print('I2=%.3f' %(I))\n",
        "plt.plot(x,f)\n",
        "plt.show()"
      ],
      "metadata": {
        "colab": {
          "base_uri": "https://localhost:8080/",
          "height": 281
        },
        "id": "K1MwR0H6joNh",
        "outputId": "bc69146c-18fa-4795-ef14-fd9208a19860"
      },
      "execution_count": null,
      "outputs": [
        {
          "output_type": "stream",
          "name": "stdout",
          "text": [
            "I2=373.411\n"
          ]
        },
        {
          "output_type": "display_data",
          "data": {
            "text/plain": [
              "<Figure size 432x288 with 1 Axes>"
            ],
            "image/png": "[encoded data removed]"
          },
          "metadata": {
            "needs_background": "light"
          }
        }
      ]
    },
    {
      "cell_type": "markdown",
      "source": [
        "# ii."
      ],
      "metadata": {
        "id": "RgwwvWAMp5vw"
      }
    },
    {
      "cell_type": "code",
      "source": [
        "a = 5\n",
        "b = 89\n",
        "n = 10**4\n",
        "h = (b - a) /n\n",
        "\n",
        "x = np.linspace(a, b, n)\n",
        "f = np.sqrt(x**3)/x**2\n",
        "\n",
        "I = (h/3) * (f[0] + 2*sum(f[0:n-2:2]) + 4*sum(f[1:n-1:2]) + f[n-1])\n",
        "\n",
        "print('I2=%.3f' %(I))\n",
        "plt.plot(x,f)\n",
        "plt.show()"
      ],
      "metadata": {
        "colab": {
          "base_uri": "https://localhost:8080/",
          "height": 281
        },
        "id": "N8jws0xBp9cu",
        "outputId": "eb615293-2857-4c06-f108-cfddc4827b80"
      },
      "execution_count": null,
      "outputs": [
        {
          "output_type": "stream",
          "name": "stdout",
          "text": [
            "I2=14.396\n"
          ]
        },
        {
          "output_type": "display_data",
          "data": {
            "text/plain": [
              "<Figure size 432x288 with 1 Axes>"
            ],
            "image/png": "[encoded data removed]"
          },
          "metadata": {
            "needs_background": "light"
          }
        }
      ]
    },
    {
      "cell_type": "markdown",
      "source": [
        "# 10.4"
      ],
      "metadata": {
        "id": "sdL-ERfG5LqF"
      }
    },
    {
      "cell_type": "markdown",
      "source": [
        "# i.\n",
        "\n",
        "$\n",
        "I_{trap}= \\frac{h}{2} \\left(  f(a) + \\sum_{1}^{n-1} 2f(x_{i}) +f(b) \\right) \\:\\:,\\:\\: h=\\frac{b-a}{n}\n",
        "$"
      ],
      "metadata": {
        "id": "aQXMcbp_5QNo"
      }
    },
    {
      "cell_type": "code",
      "source": [
        "def Itr(a,b,n):\n",
        "  h=(b-a)/n\n",
        "  x=np.linspace(a,b,n)\n",
        "  f=np.exp(x)*np.sqrt(x)\n",
        "\n",
        "  return (h/2)*(f[0] + 2*sum(f[1:n-1]) +f[n-1])\n",
        "\n",
        "Str1=Itr(2,10,1000)\n",
        "Str2=Itr(2,10,2000)\n",
        "Etr=(Str2-Str1)/3\n",
        "\n",
        "\n",
        "print('Itrapezium=%.3f +/- %.3f' %(Str2,Etr))"
      ],
      "metadata": {
        "colab": {
          "base_uri": "https://localhost:8080/"
        },
        "id": "sQoG657g5PDs",
        "outputId": "ab2e50f2-8f46-4aac-ffef-06c91934093e"
      },
      "execution_count": null,
      "outputs": [
        {
          "output_type": "stream",
          "name": "stdout",
          "text": [
            "Itrapezium=65919.547 +/- 10.894\n"
          ]
        }
      ]
    },
    {
      "cell_type": "markdown",
      "source": [
        "# ii.\n",
        "\n",
        "$\n",
        "I_{simp}= \\frac{h}{3} \\left(  f(a) + 2\\sum_{0}^{n-2:2} 2f(x_{2i}) + 4\\sum_{1}^{n-1:2} 2f(x_{2i-1}) ,+f(b) \\right) \\:\\:,\\:\\: h=\\frac{b-a}{n}\n",
        "$"
      ],
      "metadata": {
        "id": "9qXtbTHR8R28"
      }
    },
    {
      "cell_type": "code",
      "source": [
        "def Isim(a,b,n):\n",
        "  h=(b-a)/n\n",
        "  x=np.linspace(a,b,n)\n",
        "  f=np.exp(x)*np.sqrt(x)\n",
        "\n",
        "  return (h/3)*(f[0] + 2*sum(f[0:n-2:2]) +4*sum(f[1:n-1:2])+f[n-1])\n",
        "\n",
        "Ssim1=Isim(2,10,1000)\n",
        "Ssim2=Isim(2,10,2000)\n",
        "Etr=(Ssim2-Ssim1)/15\n",
        "\n",
        "print('Isimpson=%.3f +/- %.3f' %(Ssim2,Etr))"
      ],
      "metadata": {
        "colab": {
          "base_uri": "https://localhost:8080/"
        },
        "id": "4qYR2FbZ8TVg",
        "outputId": "0c1509d1-ba8f-440e-a70c-4bf0a868aa40"
      },
      "execution_count": null,
      "outputs": [
        {
          "output_type": "stream",
          "name": "stdout",
          "text": [
            "Isimpson=65641.836 +/- 20.576\n"
          ]
        }
      ]
    }
  ]
}