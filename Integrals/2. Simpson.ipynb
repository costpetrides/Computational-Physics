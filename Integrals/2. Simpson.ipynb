{
  "nbformat": 4,
  "nbformat_minor": 0,
  "metadata": {
    "colab": {
      "name": "Untitled106.ipynb",
      "provenance": [],
      "authorship_tag": "ABX9TyNNeCVadNFwkiELUm6PXYU7",
      "include_colab_link": true
    },
    "kernelspec": {
      "name": "python3",
      "display_name": "Python 3"
    },
    "language_info": {
      "name": "python"
    }
  },
  "cells": [
    {
      "cell_type": "markdown",
      "metadata": {
        "id": "view-in-github",
        "colab_type": "text"
      },
      "source": [
        "<a href=\"https://colab.research.google.com/github/costpetrides/Computational-Physics/blob/main/Integrals/2.%20Simpson.ipynb\" target=\"_parent\"><img src=\"https://colab.research.google.com/assets/colab-badge.svg\" alt=\"Open In Colab\"/></a>"
      ]
    },
    {
      "cell_type": "markdown",
      "source": [
        "# Integral - Simpson Rule"
      ],
      "metadata": {
        "id": "UF9CBho0MrK9"
      }
    },
    {
      "cell_type": "markdown",
      "source": [
        "$\\int_{a}^{b} f(x)dx = \\frac{h}{3} \\;\\left [ f(a) \\;+\\; f(b) \\;+\\;   \\sum_{even}2f(x_{2i}) \\;+\\;  \\sum_{odd} 4f(x_{2i-1}) \\right ] $\n",
        "\n",
        "\n"
      ],
      "metadata": {
        "id": "AxD4E1MSM0jb"
      }
    },
    {
      "cell_type": "markdown",
      "source": [
        "$x=a+h\\cdot i$ → step"
      ],
      "metadata": {
        "id": "9i_Z1XnFUM0I"
      }
    },
    {
      "cell_type": "markdown",
      "source": [
        "$h=\\frac{(b-a)}{n}$"
      ],
      "metadata": {
        "id": "4kT2TkU_UO-s"
      }
    },
    {
      "cell_type": "code",
      "source": [
        "import numpy as np\n",
        "\n",
        "def f(x):\n",
        "  return np.exp(x) + 5*x**2\n",
        "\n",
        "a=0\n",
        "b=4\n",
        "n=30\n",
        "h=(b-a)/n\n",
        "\n",
        "I=(f(a)+f(b))\n",
        "\n",
        "for i in range(n):\n",
        "  x=a+h*i\n",
        "  if i %2==0:\n",
        "    I+=2*f(x)\n",
        "  else:\n",
        "    I+=4*f(x)\n",
        "\n",
        "print('The integral value is I=%.3f' %(I*(h/3)))"
      ],
      "metadata": {
        "id": "CpYwmi1EsF0r",
        "outputId": "6e7c4cc5-d02c-44ea-c726-30dcf4931900",
        "colab": {
          "base_uri": "https://localhost:8080/"
        }
      },
      "execution_count": 2,
      "outputs": [
        {
          "output_type": "stream",
          "name": "stdout",
          "text": [
            "The integral value is I=160.354\n"
          ]
        }
      ]
    }
  ]
}