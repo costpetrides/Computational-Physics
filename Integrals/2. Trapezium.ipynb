{
  "nbformat": 4,
  "nbformat_minor": 0,
  "metadata": {
    "colab": {
      "name": "Untitled179.ipynb",
      "provenance": [],
      "authorship_tag": "ABX9TyM64z9nttZv3u0hUhM22GRY",
      "include_colab_link": true
    },
    "kernelspec": {
      "name": "python3",
      "display_name": "Python 3"
    },
    "language_info": {
      "name": "python"
    }
  },
  "cells": [
    {
      "cell_type": "markdown",
      "metadata": {
        "id": "view-in-github",
        "colab_type": "text"
      },
      "source": [
        "<a href=\"https://colab.research.google.com/github/costpetrides/Computational-Physics/blob/main/Integrals/2.%20Trapezium.ipynb\" target=\"_parent\"><img src=\"https://colab.research.google.com/assets/colab-badge.svg\" alt=\"Open In Colab\"/></a>"
      ]
    },
    {
      "cell_type": "markdown",
      "source": [
        "# Integral - Trapezium Rule"
      ],
      "metadata": {
        "id": "WhCCdQUPd9yY"
      }
    },
    {
      "cell_type": "markdown",
      "source": [
        "$\\int_{a}^{b} f(x)dx = \\frac{h}{3} \\;\\left [ f(a) \\;+\\; f(b) \\;+\\;   \\sum_{i}^{n-1}2f(x_{2i}) \\right ] $\n",
        "\n",
        "\n"
      ],
      "metadata": {
        "id": "GtEQAZZcebP_"
      }
    },
    {
      "cell_type": "markdown",
      "source": [
        "x=np.linspace(a,b,100)"
      ],
      "metadata": {
        "id": "Au2wR0nbjwdL"
      }
    },
    {
      "cell_type": "markdown",
      "source": [
        "Example:\n",
        "\n",
        "$\\int_{o}^{4} e^{x} \\;+\\;5x^{2} \\;dx$"
      ],
      "metadata": {
        "id": "1F8CKoozf-8g"
      }
    },
    {
      "cell_type": "code",
      "source": [
        "import numpy as np\n",
        "\n",
        "def f(x):\n",
        "  return np.exp(x)+5*x**2\n",
        "\n",
        "a=0\n",
        "b=4\n",
        "\n",
        "N=1000\n",
        "x=np.linspace(a,b,N)\n",
        "f=np.exp(x)+5*x**2\n",
        "\n",
        "h=(b-a)/N\n",
        "\n",
        "I=h/2*(f[0] + 2*sum(f[1:N-1]) +f[N-1])\n",
        "\n",
        "print('The integral value is I=%.3f' %(I))"
      ],
      "metadata": {
        "colab": {
          "base_uri": "https://localhost:8080/"
        },
        "id": "2RFG7bPpgqEF",
        "outputId": "f8b23b9e-0d78-41dd-9b20-5482faa64fd9"
      },
      "execution_count": 8,
      "outputs": [
        {
          "output_type": "stream",
          "name": "stdout",
          "text": [
            "The integral value is I=160.105\n"
          ]
        }
      ]
    },
    {
      "cell_type": "markdown",
      "source": [
        "Example:\n",
        "\n",
        "$\\int_{1}^{4} e^{x} log^{2}(x) \\;dx$"
      ],
      "metadata": {
        "id": "mEuIrwlMfACH"
      }
    },
    {
      "cell_type": "code",
      "source": [
        "import matplotlib.pyplot as plt\n",
        "\n",
        "a=1\n",
        "b=5\n",
        "n=10**4\n",
        "h=(b-a)/n\n",
        "\n",
        "x=np.linspace(a,b,n)\n",
        "f=np.exp(x)*np.log(x)**2\n",
        "\n",
        "I=h/2*(f[0] + 2*sum(f[1:n-1]) +f[n-1])\n",
        "\n",
        "print('I2=%.3f' %(I))\n",
        "plt.plot(x,f)\n",
        "plt.show()\n",
        "     "
      ],
      "metadata": {
        "id": "Uld6U8Hye9SF",
        "outputId": "57a35c08-23ff-486d-e3c2-46937002da86",
        "colab": {
          "base_uri": "https://localhost:8080/",
          "height": 284
        }
      },
      "execution_count": 4,
      "outputs": [
        {
          "output_type": "stream",
          "name": "stdout",
          "text": [
            "I2=285.785\n"
          ]
        },
        {
          "output_type": "display_data",
          "data": {
            "text/plain": [
              "<Figure size 432x288 with 1 Axes>"
            ],
            "image/png": "[encoded data removed]"
          },
          "metadata": {
            "needs_background": "light"
          }
        }
      ]
    }
  ]
}