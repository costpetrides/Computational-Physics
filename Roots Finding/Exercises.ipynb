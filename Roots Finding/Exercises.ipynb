{
  "nbformat": 4,
  "nbformat_minor": 0,
  "metadata": {
    "colab": {
      "provenance": [],
      "authorship_tag": "ABX9TyPqDGrjuQN4kfE+XO7jGfCx",
      "include_colab_link": true
    },
    "kernelspec": {
      "name": "python3",
      "display_name": "Python 3"
    },
    "language_info": {
      "name": "python"
    }
  },
  "cells": [
    {
      "cell_type": "markdown",
      "metadata": {
        "id": "view-in-github",
        "colab_type": "text"
      },
      "source": [
        "<a href=\"https://colab.research.google.com/github/costpetrides/Computational-Physics/blob/main/Roots%20Finding/Exercises.ipynb\" target=\"_parent\"><img src=\"https://colab.research.google.com/assets/colab-badge.svg\" alt=\"Open In Colab\"/></a>"
      ]
    },
    {
      "cell_type": "code",
      "execution_count": null,
      "metadata": {
        "id": "l3ee9M9ItAhO"
      },
      "outputs": [],
      "source": [
        "import numpy as np\n",
        "import matplotlib.pyplot as plt"
      ]
    },
    {
      "cell_type": "markdown",
      "source": [
        "## Exercise 1\n",
        "### i."
      ],
      "metadata": {
        "id": "-cYUXIpbtHP4"
      }
    },
    {
      "cell_type": "code",
      "source": [
        "def f(x):\n",
        "  return x**3 -x-1\n",
        "\n",
        "a=1\n",
        "b=2\n",
        "root=[]\n",
        "\n",
        "for i in range(1000):\n",
        "  c=(a+b)/2\n",
        "  if f(a)*f(c)<0:\n",
        "    b=c\n",
        "  else:\n",
        "    a=c\n",
        "  root+=[c]\n",
        "  print('N=',i,'Sol=',c)\n",
        "  if abs(f(c))<1.e-6:\n",
        "    break\n",
        "\n",
        "plt.plot(root)\n",
        "plt.axhline(y = 1.324718, c='red')\n",
        "plt.show()    "
      ],
      "metadata": {
        "colab": {
          "base_uri": "https://localhost:8080/",
          "height": 622
        },
        "id": "D-7wHB7vtO0e",
        "outputId": "cd8c1d56-7a32-4c62-8077-2d14c73815be"
      },
      "execution_count": null,
      "outputs": [
        {
          "output_type": "stream",
          "name": "stdout",
          "text": [
            "N= 0 Sol= 1.5\n",
            "N= 1 Sol= 1.25\n",
            "N= 2 Sol= 1.375\n",
            "N= 3 Sol= 1.3125\n",
            "N= 4 Sol= 1.34375\n",
            "N= 5 Sol= 1.328125\n",
            "N= 6 Sol= 1.3203125\n",
            "N= 7 Sol= 1.32421875\n",
            "N= 8 Sol= 1.326171875\n",
            "N= 9 Sol= 1.3251953125\n",
            "N= 10 Sol= 1.32470703125\n",
            "N= 11 Sol= 1.324951171875\n",
            "N= 12 Sol= 1.3248291015625\n",
            "N= 13 Sol= 1.32476806640625\n",
            "N= 14 Sol= 1.324737548828125\n",
            "N= 15 Sol= 1.3247222900390625\n",
            "N= 16 Sol= 1.3247146606445312\n",
            "N= 17 Sol= 1.3247184753417969\n",
            "N= 18 Sol= 1.324716567993164\n",
            "N= 19 Sol= 1.3247175216674805\n",
            "N= 20 Sol= 1.3247179985046387\n"
          ]
        },
        {
          "output_type": "display_data",
          "data": {
            "text/plain": [
              "<Figure size 432x288 with 1 Axes>"
            ],
            "image/png": "[encoded data removed]"
          },
          "metadata": {
            "needs_background": "light"
          }
        }
      ]
    },
    {
      "cell_type": "markdown",
      "source": [
        "### ii."
      ],
      "metadata": {
        "id": "BKweZuFBufwW"
      }
    },
    {
      "cell_type": "code",
      "source": [
        "def f(x):\n",
        "  return x**3 -x-1\n",
        "\n",
        "a=1\n",
        "b=2\n",
        "root=[]\n",
        "\n",
        "for i in range(1000):\n",
        "  c=(a*f(b)-b*f(a))/(f(b)-f(a))\n",
        "  if f(a)*f(c)<0:\n",
        "    b=c\n",
        "  else:\n",
        "    a=c\n",
        "  root+=[c]\n",
        "  print('N=',i,'Sol=',c)\n",
        "  if abs(f(c))<1.e-6:\n",
        "    break\n",
        "\n",
        "plt.plot(root)\n",
        "plt.axhline(y = 1.324718, c='red')\n",
        "plt.show() "
      ],
      "metadata": {
        "colab": {
          "base_uri": "https://localhost:8080/",
          "height": 554
        },
        "id": "DpvJyeNquhWK",
        "outputId": "c453f879-0997-4f13-ffcb-2bcd655e89cc"
      },
      "execution_count": null,
      "outputs": [
        {
          "output_type": "stream",
          "name": "stdout",
          "text": [
            "N= 0 Sol= 1.1666666666666667\n",
            "N= 1 Sol= 1.2531120331950207\n",
            "N= 2 Sol= 1.2934374019186834\n",
            "N= 3 Sol= 1.3112810214872344\n",
            "N= 4 Sol= 1.3189885035664628\n",
            "N= 5 Sol= 1.322282717465796\n",
            "N= 6 Sol= 1.3236842938551607\n",
            "N= 7 Sol= 1.3242794617319507\n",
            "N= 8 Sol= 1.3245319865800917\n",
            "N= 9 Sol= 1.3246390933080368\n",
            "N= 10 Sol= 1.3246845151666695\n",
            "N= 11 Sol= 1.3247037764713758\n",
            "N= 12 Sol= 1.3247119440797213\n",
            "N= 13 Sol= 1.3247154074520977\n",
            "N= 14 Sol= 1.3247168760448744\n",
            "N= 15 Sol= 1.324717498779053\n",
            "N= 16 Sol= 1.3247177628396751\n"
          ]
        },
        {
          "output_type": "display_data",
          "data": {
            "text/plain": [
              "<Figure size 432x288 with 1 Axes>"
            ],
            "image/png": "[encoded data removed]"
          },
          "metadata": {
            "needs_background": "light"
          }
        }
      ]
    },
    {
      "cell_type": "markdown",
      "source": [
        "### iii."
      ],
      "metadata": {
        "id": "S7r4N1YJxOH0"
      }
    },
    {
      "cell_type": "code",
      "source": [
        "def f(x):\n",
        "  return x**3 -x-1\n",
        "\n",
        "def df(x):\n",
        "  h=0.001\n",
        "  return (f(x+h)-f(x))/h\n",
        "\n",
        "x=2\n",
        "root=[]\n",
        "\n",
        "for i in range(1000):\n",
        "  x=x-f(x)/df(x)\n",
        "  root+=[x]\n",
        "  print('N=',i,'Sol=',c)\n",
        "  if abs(f(x))<1.e-6:\n",
        "    break\n",
        "\n",
        "plt.plot(root)\n",
        "plt.axhline(y = 1.324718, c='red')\n",
        "plt.show() "
      ],
      "metadata": {
        "colab": {
          "base_uri": "https://localhost:8080/",
          "height": 350
        },
        "id": "w4i5v_xexMYN",
        "outputId": "41914834-c073-431b-e7b7-0beb8da4f15f"
      },
      "execution_count": null,
      "outputs": [
        {
          "output_type": "stream",
          "name": "stdout",
          "text": [
            "N= 0 Sol= 1218151811978385.0\n",
            "N= 1 Sol= 1218151811978385.0\n",
            "N= 2 Sol= 1218151811978385.0\n",
            "N= 3 Sol= 1218151811978385.0\n",
            "N= 4 Sol= 1218151811978385.0\n"
          ]
        },
        {
          "output_type": "display_data",
          "data": {
            "text/plain": [
              "<Figure size 432x288 with 1 Axes>"
            ],
            "image/png": "[encoded data removed]"
          },
          "metadata": {
            "needs_background": "light"
          }
        }
      ]
    },
    {
      "cell_type": "markdown",
      "source": [
        "### iv."
      ],
      "metadata": {
        "id": "7x2jW606EJgF"
      }
    },
    {
      "cell_type": "code",
      "source": [
        "def f(x):\n",
        "  return x**3 -x-1\n",
        "\n",
        "\n",
        "a=1\n",
        "b=2\n",
        "Root=[]\n",
        "for i in range(100):\n",
        "  c = a - (b - a) * f(a)/ (f(b) - f(a))\n",
        "  print('N=%.f : Root=%.3f' %(i,c))\n",
        "  Root+=[c]\n",
        "  if abs(f(c))<=1.e-6:\n",
        "    break\n",
        "  a = b\n",
        "  b = c \n",
        "\n",
        "plt.plot(Root)\n",
        "plt.axhline(y = 1.324718, c='red')\n",
        "plt.show()"
      ],
      "metadata": {
        "colab": {
          "base_uri": "https://localhost:8080/",
          "height": 367
        },
        "id": "Vw6js975ELI-",
        "outputId": "e805b335-e26f-4b2a-8d36-31cc1e28ec46"
      },
      "execution_count": null,
      "outputs": [
        {
          "output_type": "stream",
          "name": "stdout",
          "text": [
            "N=0 : Root=1.167\n",
            "N=1 : Root=1.253\n",
            "N=2 : Root=1.337\n",
            "N=3 : Root=1.324\n",
            "N=4 : Root=1.325\n",
            "N=5 : Root=1.325\n"
          ]
        },
        {
          "output_type": "display_data",
          "data": {
            "text/plain": [
              "<Figure size 432x288 with 1 Axes>"
            ],
            "image/png": "[encoded data removed]"
          },
          "metadata": {
            "needs_background": "light"
          }
        }
      ]
    },
    {
      "cell_type": "markdown",
      "source": [
        "### v."
      ],
      "metadata": {
        "id": "g_-bC1wuF4Rz"
      }
    },
    {
      "cell_type": "code",
      "source": [
        "def f(x):\n",
        "  return x**3 - x-1\n",
        "\n",
        "def g(x):\n",
        "  return (x+1)**(1/3)\n",
        "\n",
        "x=1\n",
        "root=[]\n",
        "for i in range(100):\n",
        "  x=g(x)\n",
        "  root+=[x]\n",
        "  print('N=',i,'Sol=',x)\n",
        "  if abs(f(x))<=1.e-6:\n",
        "    break\n",
        "\n",
        "plt.plot(root)\n",
        "plt.axhline(y = 1.324718, c='red')\n",
        "plt.show()  "
      ],
      "metadata": {
        "colab": {
          "base_uri": "https://localhost:8080/",
          "height": 418
        },
        "id": "2M92c8XFF8Qw",
        "outputId": "745459b1-4459-4e4b-d2c7-56d0b5d534be"
      },
      "execution_count": null,
      "outputs": [
        {
          "output_type": "stream",
          "name": "stdout",
          "text": [
            "N= 0 Sol= 1.2599210498948732\n",
            "N= 1 Sol= 1.3122938366832888\n",
            "N= 2 Sol= 1.3223538191388249\n",
            "N= 3 Sol= 1.324268744551578\n",
            "N= 4 Sol= 1.3246326252509202\n",
            "N= 5 Sol= 1.3247017485103587\n",
            "N= 6 Sol= 1.3247148784409506\n",
            "N= 7 Sol= 1.324717372435671\n",
            "N= 8 Sol= 1.3247178461621456\n"
          ]
        },
        {
          "output_type": "display_data",
          "data": {
            "text/plain": [
              "<Figure size 432x288 with 1 Axes>"
            ],
            "image/png": "[encoded data removed]"
          },
          "metadata": {
            "needs_background": "light"
          }
        }
      ]
    },
    {
      "cell_type": "markdown",
      "source": [
        "## Exercise 3"
      ],
      "metadata": {
        "id": "b2L62LGxNxJG"
      }
    },
    {
      "cell_type": "code",
      "source": [
        "\n",
        "r=1\n",
        "\n",
        "def V(r):\n",
        "  return 4*( (1/r)**12 - (1/r)**6 ) -3\n",
        "\n",
        "def dV(r):\n",
        "  return (24/r**7) - (48/r**13)\n",
        "\n",
        "\n",
        "for i in range(100):\n",
        "  r= r- V(r)/dV(r)\n",
        "  if V(r)<=1.e-6:\n",
        "    break\n",
        "  if r<=0 or r>=10:\n",
        "    print('out of range [0,10]')\n",
        "    break\n",
        "\n",
        "print('N=%.f : r=%.6f' %(i,r))"
      ],
      "metadata": {
        "colab": {
          "base_uri": "https://localhost:8080/"
        },
        "id": "YPDzBD7iN1uE",
        "outputId": "4b1fdf90-b8a0-47b7-c2b3-5a4fc53cc34d"
      },
      "execution_count": null,
      "outputs": [
        {
          "output_type": "stream",
          "name": "stdout",
          "text": [
            "N=5 : r=0.934655\n"
          ]
        }
      ]
    }
  ]
}