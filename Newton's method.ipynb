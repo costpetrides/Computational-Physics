{
  "nbformat": 4,
  "nbformat_minor": 0,
  "metadata": {
    "colab": {
      "name": "Welcome To Colaboratory",
      "provenance": [],
      "collapsed_sections": [],
      "include_colab_link": true
    },
    "kernelspec": {
      "display_name": "Python 3",
      "name": "python3"
    }
  },
  "cells": [
    {
      "cell_type": "markdown",
      "metadata": {
        "id": "view-in-github",
        "colab_type": "text"
      },
      "source": [
        "<a href=\"https://colab.research.google.com/github/costpetrides/Computational-Physics/blob/main/Newton's%20method.ipynb\" target=\"_parent\"><img src=\"https://colab.research.google.com/assets/colab-badge.svg\" alt=\"Open In Colab\"/></a>"
      ]
    },
    {
      "cell_type": "markdown",
      "metadata": {
        "id": "Zm0wfxPA_KKo"
      },
      "source": [
        "![images.jpg](data:image/jpeg;base64,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)"
      ]
    },
    {
      "cell_type": "markdown",
      "metadata": {
        "id": "AvXb8t5g_0kd"
      },
      "source": [
        "\n",
        "\n",
        "*    Give your initial guess for the root \n",
        "*    Repeat the formula until  abs(f(x)) < Accuracy\n",
        "\n"
      ]
    },
    {
      "cell_type": "markdown",
      "metadata": {
        "id": "EqgNgkuUEaB4"
      },
      "source": [
        "**1. Find the root for y=x^3-4 , xo=2 (initial guess)**"
      ]
    },
    {
      "cell_type": "code",
      "metadata": {
        "id": "t-UHbNxT8eYr",
        "colab": {
          "base_uri": "https://localhost:8080/"
        },
        "outputId": "e8e3dbd5-a86a-4687-b5af-f644e72e294b"
      },
      "source": [
        "def f(x): return x*x*x-4           # Define the function\n",
        "def df(x): return 3*x*x                 # Define the derivative of the function\n",
        "\n",
        "x = 2                                 # initial guess \n",
        "n = 0                                 # Counting variable\n",
        "e = 1.e-5                             # Accuracy number \n",
        "while( abs(f(x)) > e and n < 100):    # Condition for iterative \n",
        "  n = n + 1                           # Counting variable +1\n",
        "  x=x-f(x)/df(x)                      # Formula N-R\n",
        "  print('For n = ', n, 'is x =', x)   # Results \n"
      ],
      "execution_count": 15,
      "outputs": [
        {
          "output_type": "stream",
          "name": "stdout",
          "text": [
            "For n =  1 is x = 1.6666666666666667\n",
            "For n =  2 is x = 1.5911111111111111\n",
            "For n =  3 is x = 1.5874096961416333\n",
            "For n =  4 is x = 1.5874010520152708\n"
          ]
        }
      ]
    }
  ]
}