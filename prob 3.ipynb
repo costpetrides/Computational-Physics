{
  "nbformat": 4,
  "nbformat_minor": 0,
  "metadata": {
    "colab": {
      "name": "Untitled129.ipynb",
      "provenance": [],
      "authorship_tag": "ABX9TyP3virM3l3/vlBTSDwj13AF",
      "include_colab_link": true
    },
    "kernelspec": {
      "name": "python3",
      "display_name": "Python 3"
    },
    "language_info": {
      "name": "python"
    }
  },
  "cells": [
    {
      "cell_type": "markdown",
      "metadata": {
        "id": "view-in-github",
        "colab_type": "text"
      },
      "source": [
        "<a href=\"https://colab.research.google.com/github/costpetrides/Computational-Physics/blob/main/prob%203.ipynb\" target=\"_parent\"><img src=\"https://colab.research.google.com/assets/colab-badge.svg\" alt=\"Open In Colab\"/></a>"
      ]
    },
    {
      "cell_type": "markdown",
      "source": [
        "**Πρόβλημα 3 (α,β)**\n",
        "\n",
        "$I=<f>.(b-a)$\n",
        "\n",
        "$σ^{2}_{f}=<f^{2}>-<f>^{2}$\n",
        "\n",
        "$δΙ= \\frac{b-a}{\\sqrt{N}}.σ_{f}$"
      ],
      "metadata": {
        "id": "dUMBfd6HqwIq"
      }
    },
    {
      "cell_type": "code",
      "source": [
        "import numpy as np\n",
        "import matplotlib.pyplot as plt\n",
        "\n",
        "def f(x):\n",
        "  return np.exp(x)\n",
        "\n",
        "def u():\n",
        "  return 10*np.random.rand()\n",
        "\n",
        "n=1000\n",
        "Σf=0\n",
        "Σf2=0\n",
        "for i in range(n):\n",
        "  x=u()\n",
        "  y=f(x)\n",
        "  Σf+=y\n",
        "  Σf2+=y**2\n",
        "\n",
        "mean=Σf/n\n",
        "I=mean*10\n",
        "\n",
        "sf2=(Σf2/n)-(mean**2)\n",
        "std=np.sqrt(sf2)\n",
        "\n",
        "δI=10/np.sqrt(n)*std\n",
        "\n",
        "print('Integral for n=%.f : %3.f +/- %.3f ' %(n,I,δI))\n",
        "print('δΙ/Ι= %.3f' %(δI/I))"
      ],
      "metadata": {
        "colab": {
          "base_uri": "https://localhost:8080/"
        },
        "id": "S3sNhYu53LWf",
        "outputId": "596dd635-d13b-4bc3-c2b5-3a39dc1e2b05"
      },
      "execution_count": 56,
      "outputs": [
        {
          "output_type": "stream",
          "name": "stdout",
          "text": [
            "Integral for n=1000 : 23114 +/- 1453.191 \n",
            "δΙ/Ι= 0.063\n"
          ]
        }
      ]
    },
    {
      "cell_type": "markdown",
      "source": [
        "**Πρόβλημα 3(γ)**\n",
        "\n",
        "**Kατανομή των I**"
      ],
      "metadata": {
        "id": "5yL5pH1G9O7H"
      }
    },
    {
      "cell_type": "code",
      "source": [
        "def I():\n",
        "  n=1000\n",
        "  Σf=0\n",
        "  \n",
        "  for i in range(n):\n",
        "      x=u()\n",
        "      y=f(x)\n",
        "      Σf+=y\n",
        "\n",
        "  mean=Σf/n\n",
        "\n",
        "  I=mean*10\n",
        "\n",
        "  return I\n",
        "\n",
        "integral=[I() for i in range(10**4)]\n",
        "plt.hist(integral,bins=100,ec='black')"
      ],
      "metadata": {
        "colab": {
          "base_uri": "https://localhost:8080/",
          "height": 907
        },
        "id": "56N7siwRCDWx",
        "outputId": "63b4735f-5ed2-4577-df2a-4a6f758b3f08"
      },
      "execution_count": 59,
      "outputs": [
        {
          "output_type": "execute_result",
          "data": {
            "text/plain": [
              "(array([  1.,   0.,   0.,   1.,   3.,   3.,   1.,   2.,   3.,   5.,   5.,\n",
              "          8.,  10.,   5.,   6.,  15.,  22.,  22.,  24.,  31.,  29.,  31.,\n",
              "         43.,  60.,  56.,  60.,  77.,  98., 109., 117., 157., 153., 162.,\n",
              "        163., 203., 187., 181., 197., 217., 194., 268., 264., 254., 268.,\n",
              "        288., 269., 299., 286., 277., 274., 311., 275., 297., 254., 283.,\n",
              "        252., 242., 242., 205., 204., 195., 192., 182., 161., 134., 136.,\n",
              "        122., 102.,  95.,  81.,  71.,  76.,  64.,  55.,  48.,  55.,  44.,\n",
              "         27.,  31.,  28.,  18.,  22.,  18.,  14.,   3.,   9.,  13.,   8.,\n",
              "          5.,   6.,   4.,   0.,   3.,   3.,   1.,   0.,   0.,   0.,   0.,\n",
              "          1.]),\n",
              " array([17062.53157065, 17164.73094839, 17266.93032612, 17369.12970386,\n",
              "        17471.32908159, 17573.52845933, 17675.72783706, 17777.9272148 ,\n",
              "        17880.12659253, 17982.32597027, 18084.525348  , 18186.72472574,\n",
              "        18288.92410347, 18391.12348121, 18493.32285894, 18595.52223668,\n",
              "        18697.72161441, 18799.92099215, 18902.12036988, 19004.31974762,\n",
              "        19106.51912535, 19208.71850309, 19310.91788082, 19413.11725856,\n",
              "        19515.31663629, 19617.51601403, 19719.71539176, 19821.9147695 ,\n",
              "        19924.11414723, 20026.31352497, 20128.5129027 , 20230.71228044,\n",
              "        20332.91165817, 20435.11103591, 20537.31041364, 20639.50979138,\n",
              "        20741.70916911, 20843.90854684, 20946.10792458, 21048.30730231,\n",
              "        21150.50668005, 21252.70605778, 21354.90543552, 21457.10481325,\n",
              "        21559.30419099, 21661.50356872, 21763.70294646, 21865.90232419,\n",
              "        21968.10170193, 22070.30107966, 22172.5004574 , 22274.69983513,\n",
              "        22376.89921287, 22479.0985906 , 22581.29796834, 22683.49734607,\n",
              "        22785.69672381, 22887.89610154, 22990.09547928, 23092.29485701,\n",
              "        23194.49423475, 23296.69361248, 23398.89299022, 23501.09236795,\n",
              "        23603.29174569, 23705.49112342, 23807.69050116, 23909.88987889,\n",
              "        24012.08925663, 24114.28863436, 24216.4880121 , 24318.68738983,\n",
              "        24420.88676757, 24523.0861453 , 24625.28552304, 24727.48490077,\n",
              "        24829.68427851, 24931.88365624, 25034.08303398, 25136.28241171,\n",
              "        25238.48178945, 25340.68116718, 25442.88054492, 25545.07992265,\n",
              "        25647.27930039, 25749.47867812, 25851.67805586, 25953.87743359,\n",
              "        26056.07681133, 26158.27618906, 26260.4755668 , 26362.67494453,\n",
              "        26464.87432227, 26567.0737    , 26669.27307774, 26771.47245547,\n",
              "        26873.67183321, 26975.87121094, 27078.07058868, 27180.26996641,\n",
              "        27282.46934415]),\n",
              " <a list of 100 Patch objects>)"
            ]
          },
          "metadata": {},
          "execution_count": 59
        },
        {
          "output_type": "display_data",
          "data": {
            "image/png": "[encoded data removed]",
            "text/plain": [
              "<Figure size 432x288 with 1 Axes>"
            ]
          },
          "metadata": {
            "needs_background": "light"
          }
        }
      ]
    },
    {
      "cell_type": "markdown",
      "source": [
        "**Κατανομή των δI**"
      ],
      "metadata": {
        "id": "29D_UpZgDg1t"
      }
    },
    {
      "cell_type": "code",
      "source": [
        "def di():\n",
        "  n=1000\n",
        "  Σf=0\n",
        "  Σf2=0\n",
        "  for i in range(n):\n",
        "    x=u()\n",
        "    y=f(x)\n",
        "    Σf+=y\n",
        "    Σf2+=y**2\n",
        "\n",
        "  mean=Σf/n\n",
        "  I=mean*10\n",
        "\n",
        "  sf2=(Σf2/n)-(mean**2)\n",
        "  std=np.sqrt(sf2)\n",
        "\n",
        "  return 10/np.sqrt(n)*std\n",
        "\n",
        "δΙ=[di() for i in range(10**4)]\n",
        "plt.hist(integral,bins=100,ec='black')"
      ],
      "metadata": {
        "colab": {
          "base_uri": "https://localhost:8080/",
          "height": 907
        },
        "id": "h8AtbYidCw21",
        "outputId": "3bcb1167-b5a7-4bfc-88d9-bf9a45e41dbb"
      },
      "execution_count": 60,
      "outputs": [
        {
          "output_type": "execute_result",
          "data": {
            "text/plain": [
              "(array([  1.,   0.,   0.,   1.,   3.,   3.,   1.,   2.,   3.,   5.,   5.,\n",
              "          8.,  10.,   5.,   6.,  15.,  22.,  22.,  24.,  31.,  29.,  31.,\n",
              "         43.,  60.,  56.,  60.,  77.,  98., 109., 117., 157., 153., 162.,\n",
              "        163., 203., 187., 181., 197., 217., 194., 268., 264., 254., 268.,\n",
              "        288., 269., 299., 286., 277., 274., 311., 275., 297., 254., 283.,\n",
              "        252., 242., 242., 205., 204., 195., 192., 182., 161., 134., 136.,\n",
              "        122., 102.,  95.,  81.,  71.,  76.,  64.,  55.,  48.,  55.,  44.,\n",
              "         27.,  31.,  28.,  18.,  22.,  18.,  14.,   3.,   9.,  13.,   8.,\n",
              "          5.,   6.,   4.,   0.,   3.,   3.,   1.,   0.,   0.,   0.,   0.,\n",
              "          1.]),\n",
              " array([17062.53157065, 17164.73094839, 17266.93032612, 17369.12970386,\n",
              "        17471.32908159, 17573.52845933, 17675.72783706, 17777.9272148 ,\n",
              "        17880.12659253, 17982.32597027, 18084.525348  , 18186.72472574,\n",
              "        18288.92410347, 18391.12348121, 18493.32285894, 18595.52223668,\n",
              "        18697.72161441, 18799.92099215, 18902.12036988, 19004.31974762,\n",
              "        19106.51912535, 19208.71850309, 19310.91788082, 19413.11725856,\n",
              "        19515.31663629, 19617.51601403, 19719.71539176, 19821.9147695 ,\n",
              "        19924.11414723, 20026.31352497, 20128.5129027 , 20230.71228044,\n",
              "        20332.91165817, 20435.11103591, 20537.31041364, 20639.50979138,\n",
              "        20741.70916911, 20843.90854684, 20946.10792458, 21048.30730231,\n",
              "        21150.50668005, 21252.70605778, 21354.90543552, 21457.10481325,\n",
              "        21559.30419099, 21661.50356872, 21763.70294646, 21865.90232419,\n",
              "        21968.10170193, 22070.30107966, 22172.5004574 , 22274.69983513,\n",
              "        22376.89921287, 22479.0985906 , 22581.29796834, 22683.49734607,\n",
              "        22785.69672381, 22887.89610154, 22990.09547928, 23092.29485701,\n",
              "        23194.49423475, 23296.69361248, 23398.89299022, 23501.09236795,\n",
              "        23603.29174569, 23705.49112342, 23807.69050116, 23909.88987889,\n",
              "        24012.08925663, 24114.28863436, 24216.4880121 , 24318.68738983,\n",
              "        24420.88676757, 24523.0861453 , 24625.28552304, 24727.48490077,\n",
              "        24829.68427851, 24931.88365624, 25034.08303398, 25136.28241171,\n",
              "        25238.48178945, 25340.68116718, 25442.88054492, 25545.07992265,\n",
              "        25647.27930039, 25749.47867812, 25851.67805586, 25953.87743359,\n",
              "        26056.07681133, 26158.27618906, 26260.4755668 , 26362.67494453,\n",
              "        26464.87432227, 26567.0737    , 26669.27307774, 26771.47245547,\n",
              "        26873.67183321, 26975.87121094, 27078.07058868, 27180.26996641,\n",
              "        27282.46934415]),\n",
              " <a list of 100 Patch objects>)"
            ]
          },
          "metadata": {},
          "execution_count": 60
        },
        {
          "output_type": "display_data",
          "data": {
            "image/png": "[encoded data removed]",
            "text/plain": [
              "<Figure size 432x288 with 1 Axes>"
            ]
          },
          "metadata": {
            "needs_background": "light"
          }
        }
      ]
    },
    {
      "cell_type": "markdown",
      "source": [
        "**Πρόβλημα 3(δ):**"
      ],
      "metadata": {
        "id": "H9OzGeRhDmKV"
      }
    },
    {
      "cell_type": "code",
      "source": [
        "def un(a,b):\n",
        "  return (b-a)*np.random.rand() + a\n",
        "\n",
        "def In(a,b):\n",
        "  n=500\n",
        "  Σf=0\n",
        "  \n",
        "  for i in range(n):\n",
        "      x=un(a,b)\n",
        "      y=f(x)\n",
        "      Σf+=y\n",
        "\n",
        "  mean=Σf/n\n",
        "\n",
        "  I=mean*5\n",
        "\n",
        "  return I\n",
        "\n",
        "Integer=In(0,5) + In(5,10)\n",
        "print('Integer value is : %3.f' %(Integer))"
      ],
      "metadata": {
        "colab": {
          "base_uri": "https://localhost:8080/"
        },
        "id": "wAuZHjRpDtBl",
        "outputId": "9b00c5ba-ecd6-4183-a779-4e02c011454e"
      },
      "execution_count": 67,
      "outputs": [
        {
          "output_type": "stream",
          "name": "stdout",
          "text": [
            "Integer value is : 22970\n"
          ]
        }
      ]
    },
    {
      "cell_type": "markdown",
      "source": [
        "**Πρόβλημα 3(ε)**"
      ],
      "metadata": {
        "id": "NFLaIO_KFx8Q"
      }
    },
    {
      "cell_type": "code",
      "source": [
        "N=1000\n",
        "hits=0\n",
        "fmax=f(10)\n",
        "\n",
        "V=np.exp(10)\n",
        "for i in range(N):\n",
        "  x=un(0,10)\n",
        "  y=un(0,10)\n",
        "  w=un(0,V)\n",
        "  if  w<=f(x):\n",
        "    hits+=1\n",
        "\n",
        "p=hits/N\n",
        "I=V*p\n",
        "  \n",
        "δI=10*fmax*((p-p**2)**0.5)/(N)**0.5\n",
        "\n",
        "print('I = %.3f +/- %.3f' %(I,δI))"
      ],
      "metadata": {
        "colab": {
          "base_uri": "https://localhost:8080/"
        },
        "id": "UtKZVnZcF4Tq",
        "outputId": "3ae2bb2a-ed67-41be-d308-bd26f644c0e4"
      },
      "execution_count": 78,
      "outputs": [
        {
          "output_type": "stream",
          "name": "stdout",
          "text": [
            "I = 2136.567 +/- 2061.458\n"
          ]
        }
      ]
    }
  ]
}