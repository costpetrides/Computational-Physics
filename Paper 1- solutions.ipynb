{
  "nbformat": 4,
  "nbformat_minor": 0,
  "metadata": {
    "colab": {
      "name": "Untitled134.ipynb",
      "provenance": [],
      "authorship_tag": "ABX9TyMlJyDSzRJQ2gQG1k2xuL11",
      "include_colab_link": true
    },
    "kernelspec": {
      "name": "python3",
      "display_name": "Python 3"
    },
    "language_info": {
      "name": "python"
    }
  },
  "cells": [
    {
      "cell_type": "markdown",
      "metadata": {
        "id": "view-in-github",
        "colab_type": "text"
      },
      "source": [
        "<a href=\"https://colab.research.google.com/github/costpetrides/Computational-Physics/blob/main/Paper%201-%20solutions.ipynb\" target=\"_parent\"><img src=\"https://colab.research.google.com/assets/colab-badge.svg\" alt=\"Open In Colab\"/></a>"
      ]
    },
    {
      "cell_type": "markdown",
      "source": [
        "**1.A**"
      ],
      "metadata": {
        "id": "Wj_aEo_MTpWC"
      }
    },
    {
      "cell_type": "code",
      "source": [
        "import matplotlib.pyplot as plt\n",
        "import numpy as np\n",
        "\n",
        "x0= np.array([  -0.4, 0.2, 0.8])\n",
        "y0= np.array([  0.923116, 0.980199, 0.726149])\n",
        "\n",
        "x1= np.array([ 0.2, 0.8, 1.4])\n",
        "y1= np.array([ 0.980199, 0.726149, 0.375311])\n",
        "\n",
        "\n",
        "\n",
        "def Lagrange3(x,y,point):\n",
        "  xp=point\n",
        "  yp=0\n",
        "\n",
        "  for xi,yi in zip(x,y):\n",
        "    yp+= yi * np.prod((xp- x[x != xi])/(xi- x[x != xi]))\n",
        "  \n",
        "  print('Lagrange 3nd: f(%.f)= %.3f' %(point,yp))\n",
        "\n",
        "Lagrange3(x0,y0,0)\n",
        "Lagrange3(x1,y1,1)\n"
      ],
      "metadata": {
        "colab": {
          "base_uri": "https://localhost:8080/"
        },
        "id": "YeP4WlMCTbdV",
        "outputId": "dd9fbb10-13d8-4ae6-ad51-7921482a28c5"
      },
      "execution_count": null,
      "outputs": [
        {
          "output_type": "stream",
          "name": "stdout",
          "text": [
            "Lagrange 3nd: f(0)= 0.996\n",
            "Lagrange 3nd: f(1)= 0.620\n"
          ]
        }
      ]
    },
    {
      "cell_type": "markdown",
      "source": [
        "**1.B**"
      ],
      "metadata": {
        "id": "0va0d1w8XeRW"
      }
    },
    {
      "cell_type": "code",
      "source": [
        "x0= np.array([ -1.0, -0.4, 0.2, 0.8])\n",
        "y0= np.array([ 0.606531, 0.923116, 0.980199, 0.726149])\n",
        "\n",
        "x1= np.array([ -0.4, 0.2, 0.8, 1.4])\n",
        "y1= np.array([ 0.923116, 0.980199, 0.726149, 0.375311])\n",
        "\n",
        "def Lagrange4(x,y,point):\n",
        "  xp=point\n",
        "  yp=0\n",
        "\n",
        "  for xi,yi in zip(x,y):\n",
        "    yp+= yi * np.prod((xp- x[x != xi])/(xi- x[x != xi]))\n",
        "  \n",
        "  print('Lagrange 4nd: f(%.f)= %.3f' %(point,yp))\n",
        "\n",
        "Lagrange4(x0,y0,0)\n",
        "Lagrange4(x1,y1,1)\n"
      ],
      "metadata": {
        "colab": {
          "base_uri": "https://localhost:8080/"
        },
        "id": "_C5b0aEIWuv8",
        "outputId": "2b405c23-c5bd-484a-f8dd-627a4fc741b4"
      },
      "execution_count": null,
      "outputs": [
        {
          "output_type": "stream",
          "name": "stdout",
          "text": [
            "Lagrange 3nd: f(0)= 0.993\n",
            "Lagrange 3nd: f(1)= 0.609\n"
          ]
        }
      ]
    },
    {
      "cell_type": "markdown",
      "source": [
        "**1.Γ**"
      ],
      "metadata": {
        "id": "CzXf-yfgX5AV"
      }
    },
    {
      "cell_type": "code",
      "source": [
        "import numpy as np\n",
        "import matplotlib.pyplot as plt\n",
        "\n",
        "xdata = [-1.6, -1.0, -0.4, 0.2, 0.8, 1.4]\n",
        "ydata = [0.278037, 0.606531, 0.923116, 0.980199, 0.726149, 0.375311]\n",
        "n=len(xdata)\n",
        "\n",
        "def Q(x):\n",
        " \n",
        "  Q = np.zeros((n,n))\n",
        "  \n",
        "  for i in range(n):\n",
        "    Q[i][0]=ydata[i]\n",
        "    for j in range(1, i+1):\n",
        "      Q[i][j] = ((x - xdata[i-j]) * Q[i][j-1] - (x - xdata[i]) * Q[i-1][j-1]) / (xdata[i] - xdata[i-j])\n",
        "\n",
        "  return Q[i][i]\n",
        "\n",
        "print('Interpolated value for f(0)=',Q(0))\n",
        "print('Interpolated value for f(0)=',Q(1))"
      ],
      "metadata": {
        "id": "FQ7ZnEfKX8e_",
        "colab": {
          "base_uri": "https://localhost:8080/"
        },
        "outputId": "58fbaa68-3610-4df1-ac9f-4be880e94278"
      },
      "execution_count": 16,
      "outputs": [
        {
          "output_type": "stream",
          "name": "stdout",
          "text": [
            "Interpolated value for f(0)= 0.9979924567901234\n",
            "Interpolated value for f(0)= 0.6003658477366255\n"
          ]
        }
      ]
    },
    {
      "cell_type": "markdown",
      "source": [
        "**Πρόβλημα 2 (α)**"
      ],
      "metadata": {
        "id": "sDdxPrEYnh3y"
      }
    },
    {
      "cell_type": "code",
      "source": [
        "\n",
        "xx=[0 ,3 ,6 ,9 ,12]\n",
        "yy=[86 ,94 ,89 ,97 ,83]\n",
        "\n",
        "xplot=np.linspace(xx[0],xx[-1])\n",
        "yplot=np.zeros(len(xplot))\n",
        "\n",
        "n=len(xx)\n",
        "\n",
        "def QQ(x):\n",
        " \n",
        "  Q = np.zeros((n,n))\n",
        "  \n",
        "  for i in range(n):\n",
        "    Q[i][0]=yy[i]\n",
        "    for j in range(1, i+1):\n",
        "      Q[i][j] = ((x - xx[i-j]) * Q[i][j-1] - (x - xx[i]) * Q[i-1][j-1]) / (xx[i] - xx[i-j])\n",
        "\n",
        "  return Q[i][i]\n",
        "\n",
        "\n",
        "i=0\n",
        "for k in xplot:\n",
        "  yplot[i]+=QQ(k)\n",
        "  i+=1\n",
        "\n",
        "plt.plot(xplot,yplot)\n",
        "plt.axhline(y = 100, color = 'r', linestyle = '-')"
      ],
      "metadata": {
        "colab": {
          "base_uri": "https://localhost:8080/",
          "height": 282
        },
        "id": "CNNb7XWgnKtI",
        "outputId": "c3987fe9-0ec7-4c09-c613-f342a4b8acd9"
      },
      "execution_count": 28,
      "outputs": [
        {
          "output_type": "execute_result",
          "data": {
            "text/plain": [
              "<matplotlib.lines.Line2D at 0x7f4c1a4eed90>"
            ]
          },
          "metadata": {},
          "execution_count": 28
        },
        {
          "output_type": "display_data",
          "data": {
            "image/png": "[encoded data removed]",
            "text/plain": [
              "<Figure size 432x288 with 1 Axes>"
            ]
          },
          "metadata": {
            "needs_background": "light"
          }
        }
      ]
    },
    {
      "cell_type": "markdown",
      "source": [
        "**Πρόβλημα 3(α) - Simpson**"
      ],
      "metadata": {
        "id": "8WYWWDe8r-UK"
      }
    },
    {
      "cell_type": "code",
      "source": [
        "import numpy as np\n",
        "\n",
        "def f(x):\n",
        "  return  1 / np.sqrt(2 * np.pi) * np.exp(-x ** 2 / 2)\n",
        "\n",
        "def Simpson(n):\n",
        "\n",
        "  b=5\n",
        "  a=-5\n",
        "  h=(b-a)/n\n",
        "\n",
        "  I=(h/3)*(f(a)+f(b))\n",
        "  for i in range(n):\n",
        "    x=a+i*h\n",
        "    if i%2==0:\n",
        "      I+=(h/3)*2*f(x)\n",
        "    else:\n",
        "      I+=(h/3)*4*f(x)\n",
        "  \n",
        "  return I\n",
        "\n",
        "\n",
        "I10=Simpson(10)\n",
        "I5=Simpson(5)\n",
        "\n",
        "Eroor=(I10 - I5)/15\n",
        "\n",
        "print('For n= %.f : I= %.3f +/- %.3f'  %(10,I10,Eroor))\n"
      ],
      "metadata": {
        "colab": {
          "base_uri": "https://localhost:8080/"
        },
        "id": "7irKVTNH6SPl",
        "outputId": "755333e8-b009-49dc-b9fb-882340c65f7f"
      },
      "execution_count": 58,
      "outputs": [
        {
          "output_type": "stream",
          "name": "stdout",
          "text": [
            "For n= 10 : I= 1.005 +/- 0.001\n"
          ]
        }
      ]
    },
    {
      "cell_type": "markdown",
      "source": [
        "**Πρόβλημα 3 - Gauss 2 points**"
      ],
      "metadata": {
        "id": "RyV8xEL1_ajV"
      }
    }
  ]
}