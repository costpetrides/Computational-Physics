{
  "nbformat": 4,
  "nbformat_minor": 0,
  "metadata": {
    "colab": {
      "name": "Untitled16.ipynb",
      "provenance": [],
      "authorship_tag": "ABX9TyPkuV/9Km0GzV+4AFXHFYCu",
      "include_colab_link": true
    },
    "kernelspec": {
      "name": "python3",
      "display_name": "Python 3"
    },
    "language_info": {
      "name": "python"
    }
  },
  "cells": [
    {
      "cell_type": "markdown",
      "metadata": {
        "id": "view-in-github",
        "colab_type": "text"
      },
      "source": [
        "<a href=\"https://colab.research.google.com/github/costpetrides/Computational-Physics/blob/main/Notes%202.ipynb\" target=\"_parent\"><img src=\"https://colab.research.google.com/assets/colab-badge.svg\" alt=\"Open In Colab\"/></a>"
      ]
    },
    {
      "cell_type": "markdown",
      "metadata": {
        "id": "ABpD3MdCtimF"
      },
      "source": [
        "**4. Python Conditions and If statements**\n",
        "\n",
        "* Equals: a **==** b\n",
        "* Not Equals: a **!=** b\n",
        "* Less than: a **<** b\n",
        "* Less than or equal to: a **<=** b\n",
        "* Greater than: a > b\n",
        "* Greater than or equal to: a >= b"
      ]
    },
    {
      "cell_type": "code",
      "metadata": {
        "colab": {
          "base_uri": "https://localhost:8080/"
        },
        "id": "lAaGzAAWt--P",
        "outputId": "a0057ac5-6fb5-4db6-aa6c-1957d1fbc80b"
      },
      "source": [
        "age =int(input('How old are you?'))\n",
        "\n",
        "if age >=21:                      # Check expression \n",
        "  print('You can drink!')         # If code block\n",
        "  print('You can drive!')        \n",
        "elif  age >=18:                  # Check expression for elif\n",
        "  print('You cant drink,  but you can drive! ')           # elif code block\n",
        "else:                            # Else \n",
        "  print('its late , go to sleep!')      # Else code block\n",
        "      "
      ],
      "execution_count": 17,
      "outputs": [
        {
          "output_type": "stream",
          "name": "stdout",
          "text": [
            "How old are you?18\n",
            "You cant drink,  but you can drive! \n"
          ]
        }
      ]
    },
    {
      "cell_type": "markdown",
      "metadata": {
        "id": "YQ9uXrsgyJuK"
      },
      "source": [
        "**5. Logical operators**\n",
        "* AND\n",
        "* OR\n",
        "* NOT\n"
      ]
    },
    {
      "cell_type": "code",
      "metadata": {
        "colab": {
          "base_uri": "https://localhost:8080/"
        },
        "id": "BhvFyBYSyXdd",
        "outputId": "86a3abde-8df7-41dc-bde6-8af309c28c6b"
      },
      "source": [
        "temp=float(input(\"What is the temperature outside?\"))\n",
        "  \n",
        "if temp >= 25 and temp <=30:\n",
        "    print(\"The weather is good !!!\")\n",
        "else:\n",
        "    print(\"The weather is bad :(\")"
      ],
      "execution_count": 37,
      "outputs": [
        {
          "output_type": "stream",
          "name": "stdout",
          "text": [
            "What is the temperature outside?30.0\n",
            "The weather is good !!!\n"
          ]
        }
      ]
    }
  ]
}