{
  "nbformat": 4,
  "nbformat_minor": 0,
  "metadata": {
    "colab": {
      "provenance": [],
      "authorship_tag": "ABX9TyNpXoqZ4w0O8ko+Am3czG79",
      "include_colab_link": true
    },
    "kernelspec": {
      "name": "python3",
      "display_name": "Python 3"
    },
    "language_info": {
      "name": "python"
    }
  },
  "cells": [
    {
      "cell_type": "markdown",
      "metadata": {
        "id": "view-in-github",
        "colab_type": "text"
      },
      "source": [
        "<a href=\"https://colab.research.google.com/github/costpetrides/Computational-Physics/blob/main/MC%20Integral/Exercises.ipynb\" target=\"_parent\"><img src=\"https://colab.research.google.com/assets/colab-badge.svg\" alt=\"Open In Colab\"/></a>"
      ]
    },
    {
      "cell_type": "markdown",
      "source": [
        "## Exercise 1\n",
        "### i. (Hit or Miss)"
      ],
      "metadata": {
        "id": "PEpsCJqIL4-B"
      }
    },
    {
      "cell_type": "code",
      "execution_count": null,
      "metadata": {
        "colab": {
          "base_uri": "https://localhost:8080/"
        },
        "id": "fLIjP_Q2LvD3",
        "outputId": "51cf178f-3c4c-4ae9-cdea-806e672184e9"
      },
      "outputs": [
        {
          "output_type": "stream",
          "name": "stdout",
          "text": [
            "Integral I= 3.022 +/- 0.072\n"
          ]
        }
      ],
      "source": [
        "import numpy as np\n",
        "import matplotlib.pyplot as plt\n",
        "\n",
        "def f(x):\n",
        "  return 1/x\n",
        "def u():\n",
        "  return np.random.rand()\n",
        "\n",
        "a=0.5\n",
        "b=10.5\n",
        "fmax=f(a)\n",
        "V=(b-a)*fmax\n",
        "\n",
        "N=10000\n",
        "hit=0\n",
        "for i in range(N):\n",
        "  x=(b-a)*u()+a\n",
        "  y=fmax*u()\n",
        "  if y<=f(x):\n",
        "    hit+=1\n",
        "\n",
        "P=hit/N\n",
        "I=P*V\n",
        "δI=V*np.sqrt(P-P**2)/np.sqrt(N)\n",
        "\n",
        "print('Integral I= %.3f +/- %.3f' %(I,δI))"
      ]
    },
    {
      "cell_type": "markdown",
      "source": [
        "### ii. (Crude 1-dim)"
      ],
      "metadata": {
        "id": "7KqgRGauTROH"
      }
    },
    {
      "cell_type": "code",
      "source": [
        "import numpy as np\n",
        "import matplotlib.pyplot as plt\n",
        "\n",
        "def f(x):\n",
        "  return 1/x\n",
        "\n",
        "def u():\n",
        "  return np.random.rand()\n",
        "\n",
        "a=0.5\n",
        "b=10.5\n",
        "V=(b-a)\n",
        "\n",
        "N=10000\n",
        "F=[]\n",
        "\n",
        "for i in range(N):\n",
        "  x=(b-a)*u()+a\n",
        "  F+=[f(x)]\n",
        " \n",
        "F=np.array(F)\n",
        "mean=sum(F)/N\n",
        "var=sum((F-mean)**2)/N\n",
        "I=mean*V\n",
        "δI=V*np.sqrt(var)/np.sqrt(N)\n",
        "\n",
        "print('Integral I= %.3f +/- %.3f' %(I,δI))"
      ],
      "metadata": {
        "colab": {
          "base_uri": "https://localhost:8080/"
        },
        "id": "7Ngdw-z9TUEK",
        "outputId": "95f34d87-0591-4e4f-ef3a-a9c88dacab32"
      },
      "execution_count": null,
      "outputs": [
        {
          "output_type": "stream",
          "name": "stdout",
          "text": [
            "Integral I= 3.020 +/- 0.031\n"
          ]
        }
      ]
    },
    {
      "cell_type": "markdown",
      "source": [
        "## Exercise 2\n",
        "### i. (Hit or Miss)"
      ],
      "metadata": {
        "id": "156vYwyKU5dV"
      }
    },
    {
      "cell_type": "code",
      "source": [
        "import numpy as np\n",
        "import matplotlib.pyplot as plt\n",
        "\n",
        "def f(x):\n",
        "  return np.exp(x)*x**2 \n",
        "\n",
        "def u():\n",
        "  return np.random.rand()\n",
        "\n",
        "a=0\n",
        "b=5\n",
        "fmax=f(b)\n",
        "V=(b-a)*fmax\n",
        "\n",
        "N=10000\n",
        "hit=0\n",
        "for i in range(N):\n",
        "  x=(b-a)*u()+a\n",
        "  y=fmax*u()\n",
        "  if y<=f(x):\n",
        "    hit+=1\n",
        "\n",
        "P=hit/N\n",
        "I=P*V\n",
        "δI=V*np.sqrt(P-P**2)/np.sqrt(N)\n",
        "\n",
        "print('Integral I= %.3f +/- %.3f' %(I,δI))"
      ],
      "metadata": {
        "colab": {
          "base_uri": "https://localhost:8080/"
        },
        "id": "VP_N-X1MU9hw",
        "outputId": "046a2d51-603f-4356-b8b1-3e4f4b3bfeff"
      },
      "execution_count": null,
      "outputs": [
        {
          "output_type": "stream",
          "name": "stdout",
          "text": [
            "Integral I= 2556.417 +/- 63.946\n"
          ]
        }
      ]
    },
    {
      "cell_type": "markdown",
      "source": [
        "### ii. (Crude 1-dim)"
      ],
      "metadata": {
        "id": "UawFNtzOaIwP"
      }
    },
    {
      "cell_type": "code",
      "source": [],
      "metadata": {
        "id": "HtzSC0UGaLdq"
      },
      "execution_count": null,
      "outputs": []
    }
  ]
}