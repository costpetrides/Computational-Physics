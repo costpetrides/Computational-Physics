{
  "nbformat": 4,
  "nbformat_minor": 0,
  "metadata": {
    "colab": {
      "provenance": [],
      "authorship_tag": "ABX9TyMomdYlIeEO+cTTcy7Idy6d",
      "include_colab_link": true
    },
    "kernelspec": {
      "name": "python3",
      "display_name": "Python 3"
    },
    "language_info": {
      "name": "python"
    }
  },
  "cells": [
    {
      "cell_type": "markdown",
      "metadata": {
        "id": "view-in-github",
        "colab_type": "text"
      },
      "source": [
        "<a href=\"https://colab.research.google.com/github/costpetrides/Computational-Physics/blob/main/MC%20Integral/Exercises.ipynb\" target=\"_parent\"><img src=\"https://colab.research.google.com/assets/colab-badge.svg\" alt=\"Open In Colab\"/></a>"
      ]
    },
    {
      "cell_type": "markdown",
      "source": [
        "## Exercise 1\n",
        "### i. (Hit or Miss)"
      ],
      "metadata": {
        "id": "PEpsCJqIL4-B"
      }
    },
    {
      "cell_type": "code",
      "execution_count": null,
      "metadata": {
        "colab": {
          "base_uri": "https://localhost:8080/"
        },
        "id": "fLIjP_Q2LvD3",
        "outputId": "51cf178f-3c4c-4ae9-cdea-806e672184e9"
      },
      "outputs": [
        {
          "output_type": "stream",
          "name": "stdout",
          "text": [
            "Integral I= 3.022 +/- 0.072\n"
          ]
        }
      ],
      "source": [
        "import numpy as np\n",
        "import matplotlib.pyplot as plt\n",
        "\n",
        "def f(x):\n",
        "  return 1/x\n",
        "def u():\n",
        "  return np.random.rand()\n",
        "\n",
        "a=0.5\n",
        "b=10.5\n",
        "fmax=f(a)\n",
        "V=(b-a)*fmax\n",
        "\n",
        "N=10000\n",
        "hit=0\n",
        "for i in range(N):\n",
        "  x=(b-a)*u()+a\n",
        "  y=fmax*u()\n",
        "  if y<=f(x):\n",
        "    hit+=1\n",
        "\n",
        "P=hit/N\n",
        "I=P*V\n",
        "δI=V*np.sqrt(P-P**2)/np.sqrt(N)\n",
        "\n",
        "print('Integral I= %.3f +/- %.3f' %(I,δI))"
      ]
    },
    {
      "cell_type": "markdown",
      "source": [
        "### ii. (Crude 1-dim)"
      ],
      "metadata": {
        "id": "7KqgRGauTROH"
      }
    },
    {
      "cell_type": "code",
      "source": [
        "import numpy as np\n",
        "import matplotlib.pyplot as plt\n",
        "\n",
        "def f(x):\n",
        "  return 1/x\n",
        "\n",
        "def u():\n",
        "  return np.random.rand()\n",
        "\n",
        "a=0.5\n",
        "b=10.5\n",
        "V=(b-a)\n",
        "\n",
        "N=10000\n",
        "F=[]\n",
        "\n",
        "for i in range(N):\n",
        "  x=(b-a)*u()+a\n",
        "  F+=[f(x)]\n",
        " \n",
        "F=np.array(F)\n",
        "mean=sum(F)/N\n",
        "var=sum((F-mean)**2)/N\n",
        "I=mean*V\n",
        "δI=V*np.sqrt(var)/np.sqrt(N)\n",
        "\n",
        "print('Integral I= %.3f +/- %.3f' %(I,δI))"
      ],
      "metadata": {
        "colab": {
          "base_uri": "https://localhost:8080/"
        },
        "id": "7Ngdw-z9TUEK",
        "outputId": "95f34d87-0591-4e4f-ef3a-a9c88dacab32"
      },
      "execution_count": null,
      "outputs": [
        {
          "output_type": "stream",
          "name": "stdout",
          "text": [
            "Integral I= 3.020 +/- 0.031\n"
          ]
        }
      ]
    },
    {
      "cell_type": "markdown",
      "source": [
        "## Exercise 2\n",
        "### i. (Hit or Miss)"
      ],
      "metadata": {
        "id": "156vYwyKU5dV"
      }
    },
    {
      "cell_type": "code",
      "source": [
        "import numpy as np\n",
        "import matplotlib.pyplot as plt\n",
        "\n",
        "def f(x):\n",
        "  return np.exp(x)*x**2 \n",
        "\n",
        "def u():\n",
        "  return np.random.rand()\n",
        "\n",
        "a=1\n",
        "b=5\n",
        "fmax=f(b)\n",
        "V=(b-a)*fmax\n",
        "\n",
        "N=10000\n",
        "hit=0\n",
        "for i in range(N):\n",
        "  x=(b-a)*u()+a\n",
        "  y=fmax*u()\n",
        "  if y<=f(x):\n",
        "    hit+=1\n",
        "\n",
        "P=hit/N\n",
        "I=P*V\n",
        "δI=V*np.sqrt(P-P**2)/np.sqrt(N)\n",
        "\n",
        "print('Integral I= %.3f +/- %.3f' %(I,δI))"
      ],
      "metadata": {
        "colab": {
          "base_uri": "https://localhost:8080/"
        },
        "id": "VP_N-X1MU9hw",
        "outputId": "3f5f443b-6d1c-4692-b9ce-3f71b8deade4"
      },
      "execution_count": 3,
      "outputs": [
        {
          "output_type": "stream",
          "name": "stdout",
          "text": [
            "Integral I= 2572.000 +/- 56.175\n"
          ]
        }
      ]
    },
    {
      "cell_type": "markdown",
      "source": [
        "### ii. (Crude 1-dim)"
      ],
      "metadata": {
        "id": "UawFNtzOaIwP"
      }
    },
    {
      "cell_type": "code",
      "source": [
        "import numpy as np\n",
        "import matplotlib.pyplot as plt\n",
        "\n",
        "def f(x):\n",
        "  return np.exp(x)*x**2\n",
        "\n",
        "def u():\n",
        "  return np.random.rand()\n",
        "\n",
        "a=1\n",
        "b=5\n",
        "V=(b-a)\n",
        "\n",
        "N=10000\n",
        "F=[]\n",
        "\n",
        "for i in range(N):\n",
        "  x=(b-a)*u()+a\n",
        "  F+=[f(x)]\n",
        " \n",
        "F=np.array(F)\n",
        "mean=sum(F)/N\n",
        "var=sum((F-mean)**2)/N\n",
        "I=mean*V\n",
        "δI=V*np.sqrt(var)/np.sqrt(N)\n",
        "\n",
        "print('Integral I= %.3f +/- %.3f' %(I,δI))"
      ],
      "metadata": {
        "id": "HtzSC0UGaLdq",
        "outputId": "9f46a03d-c7b0-463b-b5ed-49ec7f08a3fe",
        "colab": {
          "base_uri": "https://localhost:8080/"
        }
      },
      "execution_count": 2,
      "outputs": [
        {
          "output_type": "stream",
          "name": "stdout",
          "text": [
            "Integral I= 2560.350 +/- 36.252\n"
          ]
        }
      ]
    },
    {
      "cell_type": "markdown",
      "source": [
        "## Exercise 3\n",
        "### i. (Hit or Miss)"
      ],
      "metadata": {
        "id": "yQ3hDevr4eqW"
      }
    },
    {
      "cell_type": "code",
      "source": [
        "import numpy as np\n",
        "import matplotlib.pyplot as plt\n",
        "\n",
        "\n",
        "def f(x,y):\n",
        "  return 20/13*(x+y)\n",
        "\n",
        "def u():\n",
        "  return np.random.rand()\n",
        "\n",
        "a=1\n",
        "b=5\n",
        "c=0\n",
        "d=1\n",
        "\n",
        "fmax=f(b,c)\n",
        "V=(b-a)*(d-c)*fmax\n",
        "\n",
        "N=10000\n",
        "hit=0\n",
        "for i in range(N):\n",
        "  x=(b-a)*u()+a\n",
        "  y=(d-c)*u()+c\n",
        "  z=fmax*u()\n",
        "  if z<=f(x,y):\n",
        "    hit+=1\n",
        "\n",
        "P=hit/N\n",
        "I=P*V\n",
        "δI=V*np.sqrt(P-P**2)/np.sqrt(N)\n",
        "\n",
        "print('Integral I= %.3f +/- %.3f' %(I,δI))"
      ],
      "metadata": {
        "id": "5n089-Vd4f2L",
        "outputId": "3719c33c-8fb2-484e-d109-4b94f98a2d69",
        "colab": {
          "base_uri": "https://localhost:8080/"
        }
      },
      "execution_count": 8,
      "outputs": [
        {
          "output_type": "stream",
          "name": "stdout",
          "text": [
            "Integral I= 21.089 +/- 0.143\n"
          ]
        }
      ]
    },
    {
      "cell_type": "markdown",
      "source": [
        "### ii. (Crude 2-dim)"
      ],
      "metadata": {
        "id": "4VQk1yN08G70"
      }
    },
    {
      "cell_type": "code",
      "source": [
        "import numpy as np\n",
        "import matplotlib.pyplot as plt\n",
        "\n",
        "def f(x,y):\n",
        "  return 20/13*(x+y)\n",
        "\n",
        "def u():\n",
        "  return np.random.rand()\n",
        "\n",
        "a=1\n",
        "b=5\n",
        "c=0\n",
        "d=1\n",
        "V=(b-a)*(d-c)\n",
        "\n",
        "N=10000\n",
        "F=[]\n",
        "\n",
        "for i in range(N):\n",
        "  x=(b-a)*u()+a\n",
        "  y=(d-c)*u()+c\n",
        "  F+=[f(x,y)]\n",
        " \n",
        "F=np.array(F)\n",
        "mean=sum(F)/N\n",
        "var=sum((F-mean)**2)/N\n",
        "I=mean*V\n",
        "δI=V*np.sqrt(var)/np.sqrt(N)\n",
        "\n",
        "print('Integral I= %.3f +/- %.3f' %(I,δI))"
      ],
      "metadata": {
        "id": "9b29KT-v8J8x",
        "outputId": "dd5e927a-fd32-4768-eb1b-db17bc1ad0ad",
        "colab": {
          "base_uri": "https://localhost:8080/"
        }
      },
      "execution_count": 10,
      "outputs": [
        {
          "output_type": "stream",
          "name": "stdout",
          "text": [
            "Integral I= 21.509 +/- 0.073\n"
          ]
        }
      ]
    },
    {
      "cell_type": "markdown",
      "source": [
        "## Exercises 4\n",
        "### i. (Hit or Miss)"
      ],
      "metadata": {
        "id": "3LYHpbjh-udG"
      }
    },
    {
      "cell_type": "code",
      "source": [
        "import numpy as np\n",
        "import matplotlib.pyplot as plt\n",
        "import math\n",
        "\n",
        "def f(r,th):\n",
        "  return r*np.exp(r**2)\n",
        "\n",
        "def u():\n",
        "  return np.random.rand()\n",
        "\n",
        "a=0\n",
        "b=1\n",
        "c=0\n",
        "d=2*math.pi\n",
        "\n",
        "fmax=f(b,c)\n",
        "V=(b-a)*(d-c)*fmax\n",
        "\n",
        "N=10000\n",
        "hit=0\n",
        "for i in range(N):\n",
        "  x=(b-a)*u()+a\n",
        "  y=(d-c)*u()+c\n",
        "  z=fmax*u()\n",
        "  if z<=f(x,y):\n",
        "    hit+=1\n",
        "\n",
        "P=hit/N\n",
        "I=P*V\n",
        "δI=V*np.sqrt(P-P**2)/np.sqrt(N)\n",
        "\n",
        "print('Integral I= %.3f +/- %.3f' %(I,δI))"
      ],
      "metadata": {
        "id": "Gp4Je0uK-y2l",
        "outputId": "5858ad69-3924-44ba-bcff-32d5ed1d632c",
        "colab": {
          "base_uri": "https://localhost:8080/"
        }
      },
      "execution_count": 13,
      "outputs": [
        {
          "output_type": "stream",
          "name": "stdout",
          "text": [
            "Integral I= 5.472 +/- 0.080\n"
          ]
        }
      ]
    },
    {
      "cell_type": "markdown",
      "source": [
        "### ii. (Crude 2-dim)"
      ],
      "metadata": {
        "id": "2-5dju9p_Z2V"
      }
    },
    {
      "cell_type": "code",
      "source": [
        "import numpy as np\n",
        "import matplotlib.pyplot as plt\n",
        "import math\n",
        "\n",
        "def f(r,th):\n",
        "  return r*np.exp(r**2)\n",
        "\n",
        "def u():\n",
        "  return np.random.rand()\n",
        "\n",
        "a=0\n",
        "b=1\n",
        "c=0\n",
        "d=2*math.pi\n",
        "\n",
        "V=(b-a)*(d-c)\n",
        "\n",
        "N=10000\n",
        "F=[]\n",
        "\n",
        "for i in range(N):\n",
        "  x=(b-a)*u()+a\n",
        "  y=(d-c)*u()+c\n",
        "  F+=[f(x,y)]\n",
        "\n",
        "F=np.array(F)\n",
        "mean=sum(F)/N\n",
        "var=sum((F-mean)**2)/N\n",
        "I=mean*V\n",
        "δI=V*np.sqrt(var)/np.sqrt(N)\n",
        "\n",
        "print('Integral I= %.3f +/- %.3f' %(I,δI))"
      ],
      "metadata": {
        "id": "5o2YY0FC_cOv",
        "outputId": "b274313d-7c34-499b-ed92-2df02c22c702",
        "colab": {
          "base_uri": "https://localhost:8080/"
        }
      },
      "execution_count": 14,
      "outputs": [
        {
          "output_type": "stream",
          "name": "stdout",
          "text": [
            "Integral I= 5.356 +/- 0.045\n"
          ]
        }
      ]
    }
  ]
}