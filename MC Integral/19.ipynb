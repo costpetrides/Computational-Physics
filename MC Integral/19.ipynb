{
  "cells": [
    {
      "cell_type": "markdown",
      "metadata": {
        "id": "view-in-github",
        "colab_type": "text"
      },
      "source": [
        "<a href=\"https://colab.research.google.com/github/costpetrides/Computational-Physics/blob/main/MC%20Integral/19.ipynb\" target=\"_parent\"><img src=\"https://colab.research.google.com/assets/colab-badge.svg\" alt=\"Open In Colab\"/></a>"
      ]
    },
    {
      "cell_type": "code",
      "source": [
        "import numpy as np\n",
        "import matplotlib.pyplot as plt\n",
        "import math\n",
        "\n",
        "def u(): return np.random.rand()"
      ],
      "metadata": {
        "id": "_stZw7fUO8sJ"
      },
      "execution_count": 12,
      "outputs": []
    },
    {
      "cell_type": "code",
      "source": [
        "def f(x,y,z):\n",
        "  return z**3 - 4*y*x**2\n",
        "\n",
        "\n",
        "a=2\n",
        "b=3\n",
        "c=-1\n",
        "d=4\n",
        "e=0\n",
        "g=1 # Δέν γράφουμε f, ώστε το πρόγραμμα να μήν μπερδεύεται με την συνάρτιση !\n",
        "\n",
        "V   = (g - e)*(d - c)*(b - a)\n",
        "\n",
        "N   = 10**4\n",
        "Σf  = 0\n",
        "Σf2 = 0\n",
        "for i in range(N):\n",
        "    x = u()*(b-a) + a\n",
        "    y = u()*(d-c) + c\n",
        "    z = u()*(g-e) + e   #Δέν γράφουμε f, ώστε το πρόγραμμα να μήν μπερδεύεται με την συνάρτιση !\n",
        "    Σf  += f(x,y,z)\n",
        "    Σf2 += f(x,y,z)*f(x,y,z)\n",
        "\n",
        "\n",
        "μg  = Σf/N\n",
        "σf2 = Σf2/N - μg**2\n",
        "sf2 = σf2*(N/(N-1))\n",
        "sf  = sf2**0.5\n",
        "\n",
        "I   = V*μg\n",
        "δI  = V*sf/N**0.5\n",
        "\n",
        "print('crude: I = %2.f +\\- %2.f for N = %f' %(I, δI, N))"
      ],
      "metadata": {
        "id": "SNGwN3dJO_pd",
        "outputId": "b87e83a8-d15d-4876-bfd7-18efd81fe721",
        "colab": {
          "base_uri": "https://localhost:8080/"
        }
      },
      "execution_count": 27,
      "outputs": [
        {
          "output_type": "stream",
          "name": "stdout",
          "text": [
            "crude: I = -191 +\\-  2 for N = 10000.000000\n"
          ]
        }
      ]
    }
  ],
  "metadata": {
    "colab": {
      "name": "Welcome To Colaboratory",
      "toc_visible": true,
      "provenance": [],
      "include_colab_link": true
    },
    "kernelspec": {
      "display_name": "Python 3",
      "name": "python3"
    }
  },
  "nbformat": 4,
  "nbformat_minor": 0
}