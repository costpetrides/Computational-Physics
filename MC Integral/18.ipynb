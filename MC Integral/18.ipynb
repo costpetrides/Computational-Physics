{
  "cells": [
    {
      "cell_type": "markdown",
      "metadata": {
        "id": "view-in-github",
        "colab_type": "text"
      },
      "source": [
        "<a href=\"https://colab.research.google.com/github/costpetrides/Computational-Physics/blob/main/MC%20Integral/18.ipynb\" target=\"_parent\"><img src=\"https://colab.research.google.com/assets/colab-badge.svg\" alt=\"Open In Colab\"/></a>"
      ]
    },
    {
      "cell_type": "code",
      "source": [
        "import numpy as np\n",
        "import matplotlib.pyplot as plt\n",
        "import math\n",
        "def u(): return np.random.rand()"
      ],
      "metadata": {
        "id": "HGMkDk8-HaQK"
      },
      "execution_count": 2,
      "outputs": []
    },
    {
      "cell_type": "code",
      "source": [
        "def f(x):\n",
        "  return (np.sin(np.sqrt(x)+1) * np.exp(np.sqrt(x))) / np.sqrt(x)\n",
        "\n",
        "\n",
        "a=1\n",
        "b=5\n",
        "\n",
        "V   = b - a\n",
        "\n",
        "N   = 10**4\n",
        "Σf  = 0\n",
        "Σf2 = 0\n",
        "for i in range(int(N)):\n",
        "    x = u()*(b-a) + a\n",
        "    Σf  += f(x)\n",
        "    Σf2 += f(x)*f(x)\n",
        "\n",
        "\n",
        "μf  = Σf/N\n",
        "σf2 = Σf2/N - μf**2\n",
        "sf2 = σf2*(N/(N-1))\n",
        "sf  = sf2**0.5\n",
        "\n",
        "I   = V*μf\n",
        "δI  = V*sf/N**0.5\n",
        "\n",
        "print('crude MC: I = %2.3f ± %2.3f for N = %d'%(I, δI, N))"
      ],
      "metadata": {
        "id": "bss9JsruHYJC",
        "outputId": "8220b293-9dc6-44e7-cbfd-e71a18128581",
        "colab": {
          "base_uri": "https://localhost:8080/"
        }
      },
      "execution_count": 3,
      "outputs": [
        {
          "output_type": "stream",
          "name": "stdout",
          "text": [
            "crude MC: I = 4.803 ± 0.033 for N = 10000\n"
          ]
        }
      ]
    }
  ],
  "metadata": {
    "colab": {
      "name": "Welcome To Colaboratory",
      "toc_visible": true,
      "provenance": [],
      "include_colab_link": true
    },
    "kernelspec": {
      "display_name": "Python 3",
      "name": "python3"
    }
  },
  "nbformat": 4,
  "nbformat_minor": 0
}