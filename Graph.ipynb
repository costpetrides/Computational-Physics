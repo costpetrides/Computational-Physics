{
  "nbformat": 4,
  "nbformat_minor": 0,
  "metadata": {
    "colab": {
      "name": "Untitled22.ipynb",
      "provenance": [],
      "authorship_tag": "ABX9TyM8UITwk5I8Su+ZWh0NSxU3",
      "include_colab_link": true
    },
    "kernelspec": {
      "name": "python3",
      "display_name": "Python 3"
    },
    "language_info": {
      "name": "python"
    }
  },
  "cells": [
    {
      "cell_type": "markdown",
      "metadata": {
        "id": "view-in-github",
        "colab_type": "text"
      },
      "source": [
        "<a href=\"https://colab.research.google.com/github/costpetrides/Computational-Physics/blob/main/Graph.ipynb\" target=\"_parent\"><img src=\"https://colab.research.google.com/assets/colab-badge.svg\" alt=\"Open In Colab\"/></a>"
      ]
    },
    {
      "cell_type": "markdown",
      "metadata": {
        "id": "NdYb262l6Z2Q"
      },
      "source": [
        "**Plotting Functions**\n",
        "----\n",
        "* plt.title()           --> Graph Title\n",
        "* plt.xlabel()          --> x-axis label \n",
        "* plt.ylabel()          --> y-axis label\n",
        "* plt.axhline(color='') --> Horizontal line \n",
        "* plt.axvline(color='') --> Verical  line "
      ]
    },
    {
      "cell_type": "markdown",
      "metadata": {
        "id": "XywSjPiK-IQi"
      },
      "source": [
        "**Grapgh f(x)**"
      ]
    },
    {
      "cell_type": "code",
      "metadata": {
        "colab": {
          "base_uri": "https://localhost:8080/",
          "height": 312
        },
        "id": "NIrYwIZS6kqN",
        "outputId": "f5525f38-57ee-4b7d-cdf0-e045ca43c74e"
      },
      "source": [
        "import matplotlib.pyplot as plt          # Library to plot functions\n",
        "import numpy as np                        \n",
        "\n",
        "def f(x):                               # Define your function\n",
        "  return pow(x,2)+2*x+1\n",
        "\n",
        "x=np.linspace(0,10,1000)                # Define the x-axis\n",
        "\n",
        "plt.plot(x,f(x))\n",
        "\n",
        "\n",
        "plt.title(\"y=x^2+2x+1\")\n",
        "plt.xlabel('x') \n",
        "plt.ylabel('f(x)') \n",
        "\n"
      ],
      "execution_count": 7,
      "outputs": [
        {
          "output_type": "execute_result",
          "data": {
            "text/plain": [
              "Text(0, 0.5, 'f(x)')"
            ]
          },
          "metadata": {},
          "execution_count": 7
        },
        {
          "output_type": "display_data",
          "data": {
            "image/png": "[encoded data removed]",
            "text/plain": [
              "<Figure size 432x288 with 1 Axes>"
            ]
          },
          "metadata": {
            "needs_background": "light"
          }
        }
      ]
    },
    {
      "cell_type": "markdown",
      "metadata": {
        "id": "dM7mdZei-OEP"
      },
      "source": [
        "**Histogram**"
      ]
    },
    {
      "cell_type": "code",
      "metadata": {
        "colab": {
          "base_uri": "https://localhost:8080/",
          "height": 317
        },
        "id": "tRSwGXxB-Q8p",
        "outputId": "4d5be15d-77d2-446c-f34f-69826f757345"
      },
      "source": [
        "import matplotlib.pyplot as plt\n",
        "\n",
        "x  = [3, 2, 4, 1, 2, 3, 4, 3, 4, 4,5,6]    \n",
        "bins = range(8)\n",
        "plt.hist(x, bins, ec = 'black')"
      ],
      "execution_count": 19,
      "outputs": [
        {
          "output_type": "execute_result",
          "data": {
            "text/plain": [
              "(array([0., 1., 2., 3., 4., 1., 1.]),\n",
              " array([0, 1, 2, 3, 4, 5, 6, 7]),\n",
              " <a list of 7 Patch objects>)"
            ]
          },
          "metadata": {},
          "execution_count": 19
        },
        {
          "output_type": "display_data",
          "data": {
            "image/png": "[encoded data removed]",
            "text/plain": [
              "<Figure size 432x288 with 1 Axes>"
            ]
          },
          "metadata": {
            "needs_background": "light"
          }
        }
      ]
    }
  ]
}