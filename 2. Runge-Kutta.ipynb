{
  "nbformat": 4,
  "nbformat_minor": 0,
  "metadata": {
    "colab": {
      "name": "Untitled196.ipynb",
      "provenance": [],
      "authorship_tag": "ABX9TyMqUI2Z3eQasWm6Oi3pBQJi",
      "include_colab_link": true
    },
    "kernelspec": {
      "name": "python3",
      "display_name": "Python 3"
    },
    "language_info": {
      "name": "python"
    }
  },
  "cells": [
    {
      "cell_type": "markdown",
      "metadata": {
        "id": "view-in-github",
        "colab_type": "text"
      },
      "source": [
        "<a href=\"https://colab.research.google.com/github/costpetrides/Computational-Physics/blob/main/2.%20Runge-Kutta.ipynb\" target=\"_parent\"><img src=\"https://colab.research.google.com/assets/colab-badge.svg\" alt=\"Open In Colab\"/></a>"
      ]
    },
    {
      "cell_type": "markdown",
      "source": [
        "# Runge-Kutta Method"
      ],
      "metadata": {
        "id": "_kN8IWnIrITy"
      }
    },
    {
      "cell_type": "markdown",
      "source": [
        "**Example:**\n",
        "\n",
        "Solve the ODE for τ=0.02:\n",
        "\n",
        "$y'=0.5y , \\: \\:\\: \\: \\: 0\\leq t \\leq 2 \\: \\: ,\\: \\: \\: y(0)=1$ \n",
        "\n",
        "----"
      ],
      "metadata": {
        "id": "SjGgmY0Os6BF"
      }
    },
    {
      "cell_type": "markdown",
      "source": [
        "**$2^{nd}$ Order**"
      ],
      "metadata": {
        "id": "Jo8QdaSKrOxY"
      }
    },
    {
      "cell_type": "markdown",
      "source": [
        "$w_{i+1}=w_{i}\\;+\\;τ \\cdot f  \\left(t_{i}\\;+\\; \\frac{τ}{2} \\;,\\; w_{i}\\;+\\; \\frac{τ}{2}\\cdot f(t_{i},w_{i})\\right)$\n",
        "\n",
        "\n",
        "$t_{i+1}=t_{i}\\;+\\;1$"
      ],
      "metadata": {
        "id": "HaJB_CNDrmzC"
      }
    },
    {
      "cell_type": "code",
      "execution_count": 1,
      "metadata": {
        "colab": {
          "base_uri": "https://localhost:8080/"
        },
        "id": "5WbscGM_q7Md",
        "outputId": "4055cee1-5532-4c28-c903-dbd0dd726fdd"
      },
      "outputs": [
        {
          "output_type": "stream",
          "name": "stdout",
          "text": [
            "The solution fοr τ=0.5 (2nd Runge Kutta) is  2.695 \n"
          ]
        }
      ],
      "source": [
        "import numpy as np\n",
        "import matplotlib.pyplot as plt\n",
        "\n",
        "def f(t,y):\n",
        "  return 0.5*y\n",
        "\n",
        "a=0\n",
        "b=2\n",
        "c=1\n",
        "τ=0.5\n",
        "\n",
        "n=int((b-a)/τ)\n",
        "\n",
        "w=np.zeros(n+1)\n",
        "t=np.zeros(n+1)\n",
        "\n",
        "w[0]=c\n",
        "t[0]=0\n",
        "\n",
        "\n",
        "for i in range(n):\n",
        "  w[i+1]=w[i]+τ*f(t[i]+(τ/2),w[i]+(τ/2)*f(t[i],w[i]))\n",
        "  t[i+1]=t[i]+1\n",
        "\n",
        "print('The solution fοr τ=0.5 (2nd Runge Kutta) is  %.3f '%(w[-1]))"
      ]
    },
    {
      "cell_type": "markdown",
      "source": [
        "**$3^{rd}$ Order**"
      ],
      "metadata": {
        "id": "aS_X8J92tR1Q"
      }
    },
    {
      "cell_type": "markdown",
      "source": [
        "$w_{i+1}=w_{i}\\;+\\; \\frac{τ}{2}  \\cdot  \\left[ \\; f(t_{i},w_{i}) \\;+\\; f \\left( t_{i+1} , w_{i}\\;+\\; τ \\cdot f(t_{i},w_{i}) \\right) \\;\\right]$\n",
        "\n",
        "\n",
        "$t_{i+1}=t_{i}\\;+\\;1$"
      ],
      "metadata": {
        "id": "l3qTLIVYtgoc"
      }
    },
    {
      "cell_type": "code",
      "source": [
        "import numpy as np\n",
        "import matplotlib.pyplot as plt\n",
        "\n",
        "def f(t,y):\n",
        "  return 0.5*y\n",
        "\n",
        "a=0\n",
        "b=2\n",
        "c=1\n",
        "τ=0.5\n",
        "\n",
        "n=int((b-a)/τ)\n",
        "\n",
        "w=np.zeros(n+1)\n",
        "t=np.zeros(n+1)\n",
        "\n",
        "w[0]=c\n",
        "t[0]=0\n",
        "\n",
        "\n",
        "for i in range(n):\n",
        "  w[i+1]=w[i]+(τ/2) * ( f(t[i],w[i]) + f(t[i+1],w[i] + τ * f(t[i],w[i])) )\n",
        "  t[i+1]=t[i]+1\n",
        "\n",
        "print('The solution fοr τ=0.5 (3nd Runge Kutta) is  %.3f '%(w[-1]))"
      ],
      "metadata": {
        "colab": {
          "base_uri": "https://localhost:8080/"
        },
        "id": "KNXlz7frwQCP",
        "outputId": "f7987b37-a295-474f-e225-d08a0b5d9667"
      },
      "execution_count": 2,
      "outputs": [
        {
          "output_type": "stream",
          "name": "stdout",
          "text": [
            "The solution fοr τ=0.5 (3nd Runge Kutta) is  2.695 \n"
          ]
        }
      ]
    }
  ]
}