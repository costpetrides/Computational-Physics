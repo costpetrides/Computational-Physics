{
  "nbformat": 4,
  "nbformat_minor": 0,
  "metadata": {
    "colab": {
      "provenance": [],
      "authorship_tag": "ABX9TyM0kMBrQrcFTJ1eRECooqnM",
      "include_colab_link": true
    },
    "kernelspec": {
      "name": "python3",
      "display_name": "Python 3"
    },
    "language_info": {
      "name": "python"
    }
  },
  "cells": [
    {
      "cell_type": "markdown",
      "metadata": {
        "id": "view-in-github",
        "colab_type": "text"
      },
      "source": [
        "<a href=\"https://colab.research.google.com/github/costpetrides/Computational-Physics/blob/main/LinearSystems/14.ipynb\" target=\"_parent\"><img src=\"https://colab.research.google.com/assets/colab-badge.svg\" alt=\"Open In Colab\"/></a>"
      ]
    },
    {
      "cell_type": "code",
      "execution_count": 5,
      "metadata": {
        "colab": {
          "base_uri": "https://localhost:8080/"
        },
        "id": "6FetscHN7LAa",
        "outputId": "d2ce46c1-526b-4401-92b3-9dd25949ead8"
      },
      "outputs": [
        {
          "output_type": "stream",
          "name": "stdout",
          "text": [
            "X[1]=0.186\n",
            "X[2]=0.331\n",
            "X[3]=-0.423\n",
            "Number of iterations=7\n"
          ]
        }
      ],
      "source": [
        "import numpy as np\n",
        "import matplotlib.pyplot as plt\n",
        "import sys\n",
        "\n",
        "x1 , x2 , x3 =0.,0.,0.\n",
        "\n",
        "for i in range(10):\n",
        "    j1,j2,j3=x1,x2,x3\n",
        "    x1 = (-1 + 2*x2 -3*x3)/5.\n",
        "    x2 = (2 + 3*x1 - x3)/9.\n",
        "    x3 = (-3 + 2*x1 -x2)/7.\n",
        "    if abs (np.sqrt(x1**2 +x2**2 +x3**2) - np.sqrt(j1**2 +j2**2 +j3**2))< 1.e-6:\n",
        "      break\n",
        "\n",
        "print('X[1]=%.3f' %(x1))\n",
        "print('X[2]=%.3f' %(x2))\n",
        "print('X[3]=%.3f' %(x3))\n",
        "print('Number of iterations=%.f' %(i+1))"
      ]
    }
  ]
}