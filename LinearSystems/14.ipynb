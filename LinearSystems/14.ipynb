{
  "nbformat": 4,
  "nbformat_minor": 0,
  "metadata": {
    "colab": {
      "provenance": [],
      "authorship_tag": "ABX9TyPj8fUB5BNT6AVehB5PfmYK",
      "include_colab_link": true
    },
    "kernelspec": {
      "name": "python3",
      "display_name": "Python 3"
    },
    "language_info": {
      "name": "python"
    }
  },
  "cells": [
    {
      "cell_type": "markdown",
      "metadata": {
        "id": "view-in-github",
        "colab_type": "text"
      },
      "source": [
        "<a href=\"https://colab.research.google.com/github/costpetrides/Computational-Physics/blob/main/LinearSystems/14.ipynb\" target=\"_parent\"><img src=\"https://colab.research.google.com/assets/colab-badge.svg\" alt=\"Open In Colab\"/></a>"
      ]
    },
    {
      "cell_type": "code",
      "execution_count": 4,
      "metadata": {
        "colab": {
          "base_uri": "https://localhost:8080/"
        },
        "id": "6FetscHN7LAa",
        "outputId": "83195f5e-228a-46e6-e67b-6446f97eac5b"
      },
      "outputs": [
        {
          "output_type": "stream",
          "name": "stdout",
          "text": [
            "X[1]=0.186\n",
            "X[2]=0.331\n",
            "X[3]=-0.423\n"
          ]
        }
      ],
      "source": [
        "import numpy as np\n",
        "import matplotlib.pyplot as plt\n",
        "import sys\n",
        "\n",
        "x1 , x2 , x3 =0.,0.,0.\n",
        "\n",
        "for i in range(10):\n",
        "    x1 = (-1 + 2*x2 -3*x3)/5.\n",
        "    x2 = (2 + 3*x1 - x3)/9.\n",
        "    x3 = (-3 + 2*x1 -x2)/7.\n",
        "\n",
        "print('X[1]=%.3f' %(x1))\n",
        "print('X[2]=%.3f' %(x2))\n",
        "print('X[3]=%.3f' %(x3))"
      ]
    }
  ]
}