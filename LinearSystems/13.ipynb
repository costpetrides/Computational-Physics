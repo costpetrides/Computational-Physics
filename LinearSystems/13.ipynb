{
  "nbformat": 4,
  "nbformat_minor": 0,
  "metadata": {
    "colab": {
      "provenance": [],
      "authorship_tag": "ABX9TyPtGceeyiPoi9nBzzfMQjye",
      "include_colab_link": true
    },
    "kernelspec": {
      "name": "python3",
      "display_name": "Python 3"
    },
    "language_info": {
      "name": "python"
    }
  },
  "cells": [
    {
      "cell_type": "markdown",
      "metadata": {
        "id": "view-in-github",
        "colab_type": "text"
      },
      "source": [
        "<a href=\"https://colab.research.google.com/github/costpetrides/Computational-Physics/blob/main/LinearSystems/13.ipynb\" target=\"_parent\"><img src=\"https://colab.research.google.com/assets/colab-badge.svg\" alt=\"Open In Colab\"/></a>"
      ]
    },
    {
      "cell_type": "code",
      "source": [
        "import numpy as np\n",
        "\n",
        "# Ορισμός του πίνακα A και του διανύσματος b\n",
        "A = np.array([[1., 1., 1.],\n",
        "              [4., 3., -1.],\n",
        "              [3., 5., 3.]])\n",
        "b = np.array([1., 6., 4.])\n",
        "\n",
        "n = A.shape[0]  # Μέγεθος συστήματος\n",
        "\n",
        "# Βήμα 1: Αρχικοποίηση πινάκων L και U\n",
        "L = np.identity(n)   # Κάτω τριγωνικός με 1 στη διαγώνιο\n",
        "U = np.zeros((n, n)) # Άνω τριγωνικός\n",
        "\n",
        "# LU αποσύνθεση (Doolittle)\n",
        "for i in range(n):\n",
        "    # Υπολογισμός στοιχείων U[i][j]\n",
        "    for j in range(i, n):\n",
        "        sum_u = sum(L[i][k] * U[k][j] for k in range(i))\n",
        "        U[i][j] = A[i][j] - sum_u\n",
        "\n",
        "    # Υπολογισμός στοιχείων L[j][i]\n",
        "    for j in range(i+1, n):\n",
        "        sum_l = sum(L[j][k] * U[k][i] for k in range(i))\n",
        "        L[j][i] = (A[j][i] - sum_l) / U[i][i]\n",
        "\n",
        "print(\"Πίνακας L:\")\n",
        "print(L)\n",
        "print(\"\\nΠίνακας U:\")\n",
        "print(U)\n",
        "\n",
        "# Βήμα 2: Forward substitution για L*y = b\n",
        "y = np.zeros(n)\n",
        "for i in range(n):\n",
        "    sum_ly = sum(L[i][j]*y[j] for j in range(i))\n",
        "    y[i] = b[i] - sum_ly\n",
        "\n",
        "print(\"\\nΔιάνυσμα y (λύση L*y=b):\")\n",
        "print(y)\n",
        "\n",
        "# Βήμα 3: Backward substitution για U*x = y\n",
        "x = np.zeros(n)\n",
        "for i in reversed(range(n)):\n",
        "    sum_ux = sum(U[i][j]*x[j] for j in range(i+1, n))\n",
        "    x[i] = (y[i] - sum_ux) / U[i][i]\n",
        "\n",
        "print(\"\\nΤελική λύση x (λύση U*x=y):\")\n",
        "print(x)\n"
      ],
      "metadata": {
        "id": "vTHp2zll6q96",
        "outputId": "7f5f070f-7514-424a-f3e1-1d578f0fe4b1",
        "colab": {
          "base_uri": "https://localhost:8080/"
        }
      },
      "execution_count": 1,
      "outputs": [
        {
          "output_type": "stream",
          "name": "stdout",
          "text": [
            "Πίνακας L:\n",
            "[[ 1.  0.  0.]\n",
            " [ 4.  1.  0.]\n",
            " [ 3. -2.  1.]]\n",
            "\n",
            "Πίνακας U:\n",
            "[[  1.   1.   1.]\n",
            " [  0.  -1.  -5.]\n",
            " [  0.   0. -10.]]\n",
            "\n",
            "Διάνυσμα y (λύση L*y=b):\n",
            "[1. 2. 5.]\n",
            "\n",
            "Τελική λύση x (λύση U*x=y):\n",
            "[ 1.   0.5 -0.5]\n"
          ]
        }
      ]
    }
  ]
}