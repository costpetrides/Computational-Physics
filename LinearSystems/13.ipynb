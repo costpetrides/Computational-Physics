{
  "nbformat": 4,
  "nbformat_minor": 0,
  "metadata": {
    "colab": {
      "provenance": [],
      "authorship_tag": "ABX9TyPvj+UQzWYT4g5eKtXxYjcW",
      "include_colab_link": true
    },
    "kernelspec": {
      "name": "python3",
      "display_name": "Python 3"
    },
    "language_info": {
      "name": "python"
    }
  },
  "cells": [
    {
      "cell_type": "markdown",
      "metadata": {
        "id": "view-in-github",
        "colab_type": "text"
      },
      "source": [
        "<a href=\"https://colab.research.google.com/github/costpetrides/Computational-Physics/blob/main/LinearSystems/13.ipynb\" target=\"_parent\"><img src=\"https://colab.research.google.com/assets/colab-badge.svg\" alt=\"Open In Colab\"/></a>"
      ]
    },
    {
      "cell_type": "code",
      "source": [
        "import numpy as np\n",
        "import matplotlib.pyplot as plt\n",
        "import sys"
      ],
      "metadata": {
        "id": "fYyPhLy1lX4N"
      },
      "execution_count": 3,
      "outputs": []
    },
    {
      "cell_type": "code",
      "execution_count": 11,
      "metadata": {
        "colab": {
          "base_uri": "https://localhost:8080/"
        },
        "id": "5H8cpqImlPvr",
        "outputId": "43c0bdd3-3f46-4b52-9ac3-8858698ab61e"
      },
      "outputs": [
        {
          "output_type": "stream",
          "name": "stdout",
          "text": [
            "L matrix\n",
            "[[ 1.  0.  0.]\n",
            " [ 4.  1.  0.]\n",
            " [ 3. -2.  1.]]\n",
            "\n",
            "U matrix\n",
            "[[  1.   1.   1.]\n",
            " [  0.  -1.  -5.]\n",
            " [  0.   0. -10.]]\n"
          ]
        }
      ],
      "source": [
        "A=np.array([[1.,  1., 1.],\n",
        "            [4., 3., -1.],\n",
        "            [3., 5., 3.]])\n",
        "\n",
        "b=np.array([[1.],\n",
        "            [6.],\n",
        "            [4.]])\n",
        "\n",
        "\n",
        "\n",
        "C=np.concatenate((A,b),axis=1)\n",
        "(n,m)=C.shape\n",
        "\n",
        "\n",
        "U=A.copy()\n",
        "L=np.identity(n)\n",
        "\n",
        "for k in range(n-1):\n",
        "  for j in range(k+1,n):\n",
        "    L[j][k]=U[j][k]/U[k][k]\n",
        "    U[j][k:n]=U[j][k:n]-L[j][k]*U[k][k:n]\n",
        "\n",
        "print('L matrix')\n",
        "print(L)\n",
        "\n",
        "print()\n",
        "\n",
        "print('U matrix')\n",
        "print(U)\n"
      ]
    },
    {
      "cell_type": "code",
      "source": [
        "C=np.concatenate((L,b),axis=1)\n",
        "(n,m)=C.shape\n",
        "\n",
        "for i in range(n):\n",
        "  for j in range(n):\n",
        "    if i!=j:\n",
        "      ratio=C[j][i]/C[i][i]\n",
        "      for k in range(m):\n",
        "        C[j][k]=C[j][k] - ratio*C[i][k]\n",
        "\n",
        "y=np.zeros(n)\n",
        "\n",
        "for i in range(n):\n",
        "  y[i]=C[i][n]/C[i][i]\n",
        "\n",
        "for i in range(n):\n",
        "    print('y[%.f]=%.2f' %(i+1,y[i]))"
      ],
      "metadata": {
        "colab": {
          "base_uri": "https://localhost:8080/"
        },
        "id": "Q7G9zhB5lTAz",
        "outputId": "575ae0fd-c59d-4eb2-dcd0-4c9f7f1eea43"
      },
      "execution_count": 13,
      "outputs": [
        {
          "output_type": "stream",
          "name": "stdout",
          "text": [
            "y[1]=1.00\n",
            "y[2]=2.00\n",
            "y[3]=5.00\n"
          ]
        }
      ]
    },
    {
      "cell_type": "code",
      "source": [
        "\n",
        "y=np.array([[y[0]],\n",
        "            [y[1]],\n",
        "            [y[2]]])\n",
        "\n",
        "C=np.concatenate((U,y),axis=1)\n",
        "(n,m)=C.shape\n",
        "\n",
        "for i in range(n):\n",
        "  for j in range(n):\n",
        "    if i!=j:\n",
        "      ratio=C[j][i]/C[i][i]\n",
        "      for k in range(m):\n",
        "        C[j][k]=C[j][k] - ratio*C[i][k]\n",
        "\n",
        "\n",
        "x=np.zeros(n)\n",
        "\n",
        "for i in range(n):\n",
        "  x[i]=C[i][n]/C[i][i]\n",
        "\n",
        "for i in range(n):\n",
        "    print('x[%.f]=%.2f' %(i+1,x[i]))"
      ],
      "metadata": {
        "colab": {
          "base_uri": "https://localhost:8080/"
        },
        "id": "r6N1J8rAlVqD",
        "outputId": "4ea88d76-977b-45eb-9771-19cf0bd78343"
      },
      "execution_count": 14,
      "outputs": [
        {
          "output_type": "stream",
          "name": "stdout",
          "text": [
            "x[1]=1.00\n",
            "x[2]=0.50\n",
            "x[3]=-0.50\n"
          ]
        }
      ]
    }
  ]
}