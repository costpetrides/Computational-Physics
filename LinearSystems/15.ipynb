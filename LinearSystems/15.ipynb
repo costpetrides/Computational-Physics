{
  "nbformat": 4,
  "nbformat_minor": 0,
  "metadata": {
    "colab": {
      "provenance": [],
      "authorship_tag": "ABX9TyOUqHfmT2cAk2Jb3BXDBz60",
      "include_colab_link": true
    },
    "kernelspec": {
      "name": "python3",
      "display_name": "Python 3"
    },
    "language_info": {
      "name": "python"
    }
  },
  "cells": [
    {
      "cell_type": "markdown",
      "metadata": {
        "id": "view-in-github",
        "colab_type": "text"
      },
      "source": [
        "<a href=\"https://colab.research.google.com/github/costpetrides/Computational-Physics/blob/main/LinearSystems/15.ipynb\" target=\"_parent\"><img src=\"https://colab.research.google.com/assets/colab-badge.svg\" alt=\"Open In Colab\"/></a>"
      ]
    },
    {
      "cell_type": "code",
      "source": [
        "import numpy as np\n",
        "j1,j2,j3=0.,0.,0.\n",
        "ep=1.e-6\n",
        "\n",
        "for i in range(10):\n",
        "    x1 = (-1 + 2*j2 -3*j3)/5.\n",
        "    x2 = (2 + 3*x1 - j3)/9.\n",
        "    x3 = (-3 + 2*x1 -x2)/7.\n",
        "    j1,j2,j3=x1,x2,x3\n",
        "    if (abs(x1-j1)<ep or abs(x2-j2)<ep or abs(x3-j3)<ep):\n",
        "      break\n",
        "\n",
        "print('X[1]= %.3f' %(x1))\n",
        "print('X[2]= %.3f' %(x2))\n",
        "print('X[3]= %.3f' %(x3))"
      ],
      "metadata": {
        "colab": {
          "base_uri": "https://localhost:8080/"
        },
        "id": "uwokgmZU9CS7",
        "outputId": "01c68ea7-3800-45a4-cf9e-32e15b708f7c"
      },
      "execution_count": 8,
      "outputs": [
        {
          "output_type": "stream",
          "name": "stdout",
          "text": [
            "X[1]= -0.200\n",
            "X[2]= 0.156\n",
            "X[3]= -0.508\n"
          ]
        }
      ]
    }
  ]
}