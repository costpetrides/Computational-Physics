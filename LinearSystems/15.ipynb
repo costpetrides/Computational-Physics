{
  "nbformat": 4,
  "nbformat_minor": 0,
  "metadata": {
    "colab": {
      "provenance": [],
      "authorship_tag": "ABX9TyMOn9cuvCd9API4o3c8YqNF",
      "include_colab_link": true
    },
    "kernelspec": {
      "name": "python3",
      "display_name": "Python 3"
    },
    "language_info": {
      "name": "python"
    }
  },
  "cells": [
    {
      "cell_type": "markdown",
      "metadata": {
        "id": "view-in-github",
        "colab_type": "text"
      },
      "source": [
        "<a href=\"https://colab.research.google.com/github/costpetrides/Computational-Physics/blob/main/LinearSystems/15.ipynb\" target=\"_parent\"><img src=\"https://colab.research.google.com/assets/colab-badge.svg\" alt=\"Open In Colab\"/></a>"
      ]
    },
    {
      "cell_type": "code",
      "source": [
        "import numpy as np\n",
        "x1, x2, x3 = 0., 0., 0.\n",
        "ep = 1.e-6\n",
        "max_iter = 1000\n",
        "\n",
        "for i in range(max_iter):\n",
        "    j1, j2, j3 = x1, x2, x3\n",
        "    x1 = (-1 + 2*j2 - 3*j3) / 5.\n",
        "    x2 = (2 + 3*x1 - j3) / 9.\n",
        "    x3 = (-3 + 2*x1 - x2) / 7.\n",
        "\n",
        "    if abs(x1 - j1) < ep and abs(x2 - j2) < ep and abs(x3 - j3) < ep:\n",
        "        break\n",
        "\n",
        "print('X[1]= %.3f' % x1)\n",
        "print('X[2]= %.3f' % x2)\n",
        "print('X[3]= %.3f' % x3)\n",
        "print('Number of iterations= %d' % (i+1))\n"
      ],
      "metadata": {
        "colab": {
          "base_uri": "https://localhost:8080/"
        },
        "id": "uwokgmZU9CS7",
        "outputId": "afaf8116-b882-4dea-9e0e-e967cffc6fb3"
      },
      "execution_count": 2,
      "outputs": [
        {
          "output_type": "stream",
          "name": "stdout",
          "text": [
            "X[1]= 0.186\n",
            "X[2]= 0.331\n",
            "X[3]= -0.423\n",
            "Number of iterations= 8\n"
          ]
        }
      ]
    }
  ]
}