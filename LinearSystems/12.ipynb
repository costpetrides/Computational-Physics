{
  "nbformat": 4,
  "nbformat_minor": 0,
  "metadata": {
    "colab": {
      "provenance": [],
      "authorship_tag": "ABX9TyNt/FcjaqmJEbZCG0kvg9kR",
      "include_colab_link": true
    },
    "kernelspec": {
      "name": "python3",
      "display_name": "Python 3"
    },
    "language_info": {
      "name": "python"
    }
  },
  "cells": [
    {
      "cell_type": "markdown",
      "metadata": {
        "id": "view-in-github",
        "colab_type": "text"
      },
      "source": [
        "<a href=\"https://colab.research.google.com/github/costpetrides/Computational-Physics/blob/main/LinearSystems/12.ipynb\" target=\"_parent\"><img src=\"https://colab.research.google.com/assets/colab-badge.svg\" alt=\"Open In Colab\"/></a>"
      ]
    },
    {
      "cell_type": "code",
      "execution_count": 1,
      "metadata": {
        "colab": {
          "base_uri": "https://localhost:8080/"
        },
        "id": "8BJSBknqUXpx",
        "outputId": "11a2e138-dca2-4142-f161-dadbd372e691"
      },
      "outputs": [
        {
          "output_type": "stream",
          "name": "stdout",
          "text": [
            "Λύση συστήματος: [1. 2. 3.]\n"
          ]
        }
      ],
      "source": [
        "import numpy as np\n",
        "\n",
        "# Ορίζουμε τον επαυξημένο πίνακα C = (A|b)\n",
        "C = np.array([\n",
        "    [1, 2, -1, 2],\n",
        "    [1, 1, -1, 0],\n",
        "    [2, -1, 1, 3]\n",
        "], dtype=float)\n",
        "\n",
        "n, m = C.shape\n",
        "\n",
        "# Απαλοιφή Gauss\n",
        "for i in range(n):\n",
        "    for j in range(n):\n",
        "        if j != i:\n",
        "            ratio = C[j, i] / C[i, i]\n",
        "            C[j, :] = C[j, :] - ratio * C[i, :]\n",
        "\n",
        "# Εύρεση λύσης\n",
        "x = np.zeros(n)\n",
        "for i in range(n):\n",
        "    x[i] = C[i, -1] / C[i, i]\n",
        "\n",
        "print(\"Λύση συστήματος:\", x)\n"
      ]
    }
  ]
}