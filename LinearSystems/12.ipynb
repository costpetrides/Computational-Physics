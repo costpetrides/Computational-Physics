{
  "nbformat": 4,
  "nbformat_minor": 0,
  "metadata": {
    "colab": {
      "provenance": [],
      "authorship_tag": "ABX9TyP02ffAcOCvK5m/NVE0Wzt2",
      "include_colab_link": true
    },
    "kernelspec": {
      "name": "python3",
      "display_name": "Python 3"
    },
    "language_info": {
      "name": "python"
    }
  },
  "cells": [
    {
      "cell_type": "markdown",
      "metadata": {
        "id": "view-in-github",
        "colab_type": "text"
      },
      "source": [
        "<a href=\"https://colab.research.google.com/github/costpetrides/Computational-Physics/blob/main/LinearSystems/12.ipynb\" target=\"_parent\"><img src=\"https://colab.research.google.com/assets/colab-badge.svg\" alt=\"Open In Colab\"/></a>"
      ]
    },
    {
      "cell_type": "code",
      "execution_count": 3,
      "metadata": {
        "colab": {
          "base_uri": "https://localhost:8080/"
        },
        "id": "8BJSBknqUXpx",
        "outputId": "998edbb5-9aa3-49d9-b81f-b13fc02123f0"
      },
      "outputs": [
        {
          "output_type": "stream",
          "name": "stdout",
          "text": [
            "x[1]=1.00\n",
            "x[2]=2.00\n",
            "x[3]=3.00\n"
          ]
        }
      ],
      "source": [
        "import numpy as np\n",
        "import matplotlib.pyplot as plt\n",
        "\n",
        "A=np.array([[1.,  2., -1.],\n",
        "            [1., 1., -1.],\n",
        "            [2., -1., 1.]])\n",
        "\n",
        "b=np.array([[2.],\n",
        "            [0.],\n",
        "            [3.]])\n",
        "\n",
        "C=np.concatenate((A,b),axis=1)\n",
        "(n,m)=C.shape\n",
        "\n",
        "for i in range(n):\n",
        "  for j in range(n):\n",
        "    if i!=j:\n",
        "      ratio=C[j][i]/C[i][i]\n",
        "      for k in range(m):\n",
        "        C[j][k]=C[j][k] - ratio*C[i][k]\n",
        "\n",
        "\n",
        "x=np.zeros(n)\n",
        "\n",
        "for i in range(n):\n",
        "  x[i]=C[i][n]/C[i][i]\n",
        "\n",
        "for i in range(n):\n",
        "    print('x[%.f]=%.2f' %(i+1,x[i]))"
      ]
    }
  ]
}