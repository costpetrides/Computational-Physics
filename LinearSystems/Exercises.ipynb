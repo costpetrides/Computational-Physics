{
  "nbformat": 4,
  "nbformat_minor": 0,
  "metadata": {
    "colab": {
      "provenance": [],
      "authorship_tag": "ABX9TyNZLdx32UXyhOIrLCTiAySl",
      "include_colab_link": true
    },
    "kernelspec": {
      "name": "python3",
      "display_name": "Python 3"
    },
    "language_info": {
      "name": "python"
    }
  },
  "cells": [
    {
      "cell_type": "markdown",
      "metadata": {
        "id": "view-in-github",
        "colab_type": "text"
      },
      "source": [
        "<a href=\"https://colab.research.google.com/github/costpetrides/Computational-Physics/blob/main/LinearSystems/Exercises.ipynb\" target=\"_parent\"><img src=\"https://colab.research.google.com/assets/colab-badge.svg\" alt=\"Open In Colab\"/></a>"
      ]
    },
    {
      "cell_type": "markdown",
      "source": [
        "## Exercise 1\n",
        "### i."
      ],
      "metadata": {
        "id": "doENgjySoDA3"
      }
    },
    {
      "cell_type": "code",
      "execution_count": 27,
      "metadata": {
        "colab": {
          "base_uri": "https://localhost:8080/"
        },
        "id": "_YoTKVPeoAjB",
        "outputId": "1e5b94d7-b8f0-4fe5-d75b-1d9ddd98f04e"
      },
      "outputs": [
        {
          "output_type": "stream",
          "name": "stdout",
          "text": [
            "x[1]=1.00\n",
            "x[2]=2.00\n",
            "x[3]=3.00\n"
          ]
        }
      ],
      "source": [
        "import numpy as np\n",
        "import matplotlib.pyplot as plt\n",
        "\n",
        "A=np.array([[2.,1.,1.],\n",
        "            [2.,-1.,2.],\n",
        "            [1.,-2.,1.]])\n",
        "\n",
        "b=np.array([[7.],\n",
        "            [6.],\n",
        "            [0.]])\n",
        "\n",
        "C=np.concatenate((A,b),axis=1)\n",
        "(n,m)=np.shape(C)\n",
        "\n",
        "ratio=0\n",
        "for i in range(n):\n",
        "  for j in range(n):\n",
        "    if i!=j:\n",
        "      ratio=C[j][i]/C[i][i]\n",
        "      for k in range(m):\n",
        "        C[j][k]-=ratio*C[i][k]\n",
        "\n",
        "x=np.zeros(n)\n",
        "for i in range(n):\n",
        "  x[i]=C[i][n]/C[i][i]\n",
        "\n",
        "for i in range(n):\n",
        "    print('x[%.f]=%.2f' %(i+1,x[i]))"
      ]
    },
    {
      "cell_type": "markdown",
      "source": [
        "### ii."
      ],
      "metadata": {
        "id": "uQNt9UdvthhP"
      }
    },
    {
      "cell_type": "code",
      "source": [
        "A=np.array([[2.,1.,1.],\n",
        "            [2.,-1.,2.],\n",
        "            [1.,-2.,1.]])\n",
        "\n",
        "b=np.array([[7.],\n",
        "            [6.],\n",
        "            [0.]])\n",
        "\n",
        "C=np.concatenate((A,b),axis=1)\n",
        "(n,m)=np.shape(C)\n",
        "\n",
        "U=A.copy()\n",
        "L=np.identity(n)\n",
        "\n",
        "for k in range(n-1):\n",
        "  for j in range(k+1,n):\n",
        "    L[j][k]=U[j][k]/U[k][k]\n",
        "    U[j][k:n]=U[j][k:n]-L[j][k]*U[k][k:n]\n",
        "\n",
        "print(L)\n",
        "print(U)"
      ],
      "metadata": {
        "colab": {
          "base_uri": "https://localhost:8080/"
        },
        "id": "QHfna93ttZMd",
        "outputId": "adab7dc3-a691-4077-e97e-9104f903ed13"
      },
      "execution_count": 48,
      "outputs": [
        {
          "output_type": "stream",
          "name": "stdout",
          "text": [
            "[[1.   0.   0.  ]\n",
            " [1.   1.   0.  ]\n",
            " [0.5  1.25 1.  ]]\n",
            "[[ 2.    1.    1.  ]\n",
            " [ 0.   -2.    1.  ]\n",
            " [ 0.    0.   -0.75]]\n"
          ]
        }
      ]
    },
    {
      "cell_type": "markdown",
      "source": [
        "**Calculate the y- vector**"
      ],
      "metadata": {
        "id": "oI-pXCipvaBy"
      }
    },
    {
      "cell_type": "code",
      "source": [
        "import numpy as np\n",
        "import matplotlib.pyplot as plt\n",
        "\n",
        "C=np.concatenate((L,b),axis=1)\n",
        "(n,m)=np.shape(C)\n",
        "\n",
        "ratio=0\n",
        "for i in range(n):\n",
        "  for j in range(n):\n",
        "    if i!=j:\n",
        "      ratio=C[j][i]/C[i][i]\n",
        "      for k in range(m):\n",
        "        C[j][k]-=ratio*C[i][k]\n",
        "\n",
        "y=np.zeros(n)\n",
        "for i in range(n):\n",
        "  y[i]=C[i][n]/C[i][i]\n",
        "\n",
        "for i in range(n):\n",
        "    print('y[%.f]=%.2f' %(i+1,y[i]))\n"
      ],
      "metadata": {
        "colab": {
          "base_uri": "https://localhost:8080/"
        },
        "id": "1Qxg3ZDfvfMS",
        "outputId": "3cc36142-e1da-48e6-b2d6-81265b7a5547"
      },
      "execution_count": 44,
      "outputs": [
        {
          "output_type": "stream",
          "name": "stdout",
          "text": [
            "y[1]=7.00\n",
            "y[2]=-1.00\n",
            "y[3]=-2.25\n"
          ]
        }
      ]
    },
    {
      "cell_type": "markdown",
      "source": [
        "**Calculate the solution, x-vector**"
      ],
      "metadata": {
        "id": "DXjpA5_TwX5r"
      }
    },
    {
      "cell_type": "code",
      "source": [
        "import numpy as np\n",
        "import matplotlib.pyplot as plt\n",
        "\n",
        "y=np.array([[7.],\n",
        "            [-1.],\n",
        "            [-2.25]])\n",
        "\n",
        "C=np.concatenate((U,y),axis=1)\n",
        "(n,m)=np.shape(C)\n",
        "\n",
        "ratio=0\n",
        "for i in range(n):\n",
        "  for j in range(n):\n",
        "    if i!=j:\n",
        "      ratio=C[j][i]/C[i][i]\n",
        "      for k in range(m):\n",
        "        C[j][k]-=ratio*C[i][k]\n",
        "\n",
        "y=np.zeros(n)\n",
        "for i in range(n):\n",
        "  x[i]=C[i][n]/C[i][i]\n",
        "\n",
        "for i in range(n):\n",
        "    print('x[%.f]=%.2f' %(i+1,x[i]))"
      ],
      "metadata": {
        "colab": {
          "base_uri": "https://localhost:8080/"
        },
        "id": "7R0AA4clwcaO",
        "outputId": "1a93717d-4923-4f67-aa42-5a4e494924e9"
      },
      "execution_count": 51,
      "outputs": [
        {
          "output_type": "stream",
          "name": "stdout",
          "text": [
            "x[1]=1.00\n",
            "x[2]=2.00\n",
            "x[3]=3.00\n"
          ]
        }
      ]
    },
    {
      "cell_type": "markdown",
      "source": [
        "## Exercise 2"
      ],
      "metadata": {
        "id": "rsF00HAzxUFf"
      }
    },
    {
      "cell_type": "markdown",
      "source": [
        "###  i. Jacobi"
      ],
      "metadata": {
        "id": "I4nX5zpFACtE"
      }
    },
    {
      "cell_type": "code",
      "source": [
        "import numpy as np\n",
        "j1,j2,j3=1,2,3\n",
        "ep=1.e-6\n",
        "\n",
        "for i in range(10):\n",
        "  x1 = (10 + j2)/3.\n",
        "  x2 = (5 + j1 + j3)/3.\n",
        "  x3 = (10 + 2*j2)/4.\n",
        "  j1,j2,j3=x1,x2,x3\n",
        "  if (abs(x1-j1)>ep or abs(x2-j2)>ep or abs(x3-j3)>ep):\n",
        "    break\n",
        "  \n",
        "print('X[1]= %.3f' %(x1))\n",
        "print('X[2]= %.3f' %(x2))\n",
        "print('X[3]= %.3f' %(x3))\n",
        "print('N=%.f' %(i+1))\n"
      ],
      "metadata": {
        "colab": {
          "base_uri": "https://localhost:8080/"
        },
        "id": "NqRVwV1_AETH",
        "outputId": "35ce060a-5d66-460e-e1f2-d0038ad778f2"
      },
      "execution_count": 76,
      "outputs": [
        {
          "output_type": "stream",
          "name": "stdout",
          "text": [
            "X[1]= 4.996\n",
            "X[2]= 4.995\n",
            "X[3]= 4.994\n",
            "N=10\n"
          ]
        }
      ]
    },
    {
      "cell_type": "markdown",
      "source": [
        "### ii. Siedel"
      ],
      "metadata": {
        "id": "sF0__6CcBeZp"
      }
    },
    {
      "cell_type": "code",
      "source": [
        "x1,x2,x3=1.,2.,3.\n",
        "\n",
        "for i in range(10):\n",
        "    x1 = (10 + x2)/3.\n",
        "    x2 = (5 + x1 + x3)/3.\n",
        "    x3 = (10 + 2*x2)/4.\n",
        "\n",
        "print('X[1]=%.3f' %(x1))\n",
        "print('X[2]=%.3f' %(x2))\n",
        "print('X[3]=%.3f' %(x3))"
      ],
      "metadata": {
        "colab": {
          "base_uri": "https://localhost:8080/"
        },
        "id": "If3XNp7dBd8Q",
        "outputId": "132c1963-ba80-4557-8bc1-f077563796fb"
      },
      "execution_count": 78,
      "outputs": [
        {
          "output_type": "stream",
          "name": "stdout",
          "text": [
            "X[1]=5.000\n",
            "X[2]=5.000\n",
            "X[3]=5.000\n"
          ]
        }
      ]
    }
  ]
}