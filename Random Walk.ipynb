{
  "nbformat": 4,
  "nbformat_minor": 0,
  "metadata": {
    "colab": {
      "name": "Untitled48.ipynb",
      "provenance": [],
      "authorship_tag": "ABX9TyNC208a75k3ZLOwJT2EOEHC",
      "include_colab_link": true
    },
    "kernelspec": {
      "name": "python3",
      "display_name": "Python 3"
    },
    "language_info": {
      "name": "python"
    }
  },
  "cells": [
    {
      "cell_type": "markdown",
      "metadata": {
        "id": "view-in-github",
        "colab_type": "text"
      },
      "source": [
        "<a href=\"https://colab.research.google.com/github/costpetrides/Computational-Physics/blob/main/Random%20Walk.ipynb\" target=\"_parent\"><img src=\"https://colab.research.google.com/assets/colab-badge.svg\" alt=\"Open In Colab\"/></a>"
      ]
    },
    {
      "cell_type": "markdown",
      "metadata": {
        "id": "iITCumYlkzTs"
      },
      "source": [
        "**Random walk theory**\n",
        "\n"
      ]
    },
    {
      "cell_type": "code",
      "metadata": {
        "colab": {
          "base_uri": "https://localhost:8080/",
          "height": 726
        },
        "id": "iQNreJ8Qk_Zd",
        "outputId": "55529590-48c2-4b24-9a15-b81130badbd5"
      },
      "source": [
        "import numpy as np\n",
        "import matplotlib.pyplot as plt\n",
        "\n",
        "def step():\n",
        "  res= 0\n",
        "  if np.random.rand() < 0.5: \n",
        "    res=-1\n",
        "  else:\n",
        "    res=1\n",
        "  return res\n",
        "\n",
        "\n",
        "x=[]\n",
        "for i in range(5):      # i atomo \n",
        "  thesi=[0]              # Arxiki thesi\n",
        "  for n in range(100):    # vimata\n",
        "    thesi+= [step()  + thesi[-1]]\n",
        "  \n",
        "  x+=[thesi]\n",
        "\n",
        "x=np.array(x)      # Make x-list an array !\n",
        "print(x) \n",
        "\n",
        "plt.plot(x[1])"
      ],
      "execution_count": 26,
      "outputs": [
        {
          "output_type": "stream",
          "name": "stdout",
          "text": [
            "[[ 0 -1 -2 -3 -4 -5 -4 -3 -4 -5 -4 -5 -4 -5 -4 -3 -2 -1  0 -1  0  1  0 -1\n",
            "   0  1  0 -1 -2 -1 -2 -1  0  1  0 -1  0 -1 -2 -3 -2 -1  0  1  0  1  0  1\n",
            "   2  1  2  1  2  3  4  5  4  5  4  5  4  5  6  7  6  5  4  3  4  5  4  3\n",
            "   2  3  4  5  6  7  6  7  8  9  8  7  6  5  4  5  6  7  6  5  4  5  4  5\n",
            "   6  7  6  5  6]\n",
            " [ 0  1  2  3  2  3  4  3  4  3  4  5  6  5  6  5  6  5  6  7  6  5  6  5\n",
            "   6  7  8  9 10 11 12 11 12 11 10  9 10  9 10 11 10  9 10 11 10 11 10  9\n",
            "   8  7  8  7  6  7  6  7  8  7  8  9  8  7  8  7  8  7  6  5  6  5  4  5\n",
            "   4  3  2  1  2  3  2  1  2  1  2  1  0 -1 -2 -1  0 -1 -2 -3 -2 -3 -4 -3\n",
            "  -4 -3 -4 -3 -2]\n",
            " [ 0  1  0 -1  0 -1  0 -1  0  1  2  1  2  1  0  1  2  3  4  5  6  7  8  9\n",
            "   8  7  6  5  4  5  4  5  6  7  6  7  6  7  8  7  6  7  8  9  8  7  6  5\n",
            "   4  3  4  3  4  5  6  5  4  3  2  3  4  5  4  5  4  3  2  1  0 -1  0 -1\n",
            "   0  1  2  1  2  1  2  1  0  1  2  3  4  3  2  3  4  5  4  5  4  5  6  7\n",
            "   8  7  6  5  4]\n",
            " [ 0  1  0  1  2  3  4  3  4  5  4  3  4  5  6  7  6  7  6  7  8  7  8  7\n",
            "   6  7  6  7  8  7  6  7  6  7  8  9  8  7  6  5  6  7  8  7  8  7  8  9\n",
            "   8  9 10  9  8  9 10  9  8  7  6  5  4  5  6  7  6  7  8  9 10 11 10  9\n",
            "  10 11 12 13 12 13 14 15 14 13 14 13 14 15 14 15 14 15 16 17 16 17 16 17\n",
            "  16 17 18 17 18]\n",
            " [ 0 -1 -2 -1  0 -1  0  1  0  1  2  1  2  3  4  5  4  5  4  5  4  3  2  3\n",
            "   2  1  0  1  0  1  2  1  2  3  2  1  0  1  2  1  2  1  2  1  2  3  4  3\n",
            "   2  3  4  5  4  5  6  5  4  5  4  3  4  5  4  5  4  5  4  5  4  5  4  3\n",
            "   2  3  4  5  6  7  8  7  6  7  8  9  8  7  8  7  6  7  8  7  6  7  6  7\n",
            "   8  7  6  7  6]]\n"
          ]
        },
        {
          "output_type": "execute_result",
          "data": {
            "text/plain": [
              "[<matplotlib.lines.Line2D at 0x7f3cdd27e9d0>]"
            ]
          },
          "metadata": {},
          "execution_count": 26
        },
        {
          "output_type": "display_data",
          "data": {
            "image/png": "[encoded data removed]",
            "text/plain": [
              "<Figure size 432x288 with 1 Axes>"
            ]
          },
          "metadata": {
            "needs_background": "light"
          }
        }
      ]
    }
  ]
}