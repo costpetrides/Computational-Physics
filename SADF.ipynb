{
  "nbformat": 4,
  "nbformat_minor": 0,
  "metadata": {
    "colab": {
      "name": "Untitled40.ipynb",
      "provenance": [],
      "authorship_tag": "ABX9TyM2ECzIcepJrDoxvAuyoMml",
      "include_colab_link": true
    },
    "kernelspec": {
      "name": "python3",
      "display_name": "Python 3"
    },
    "language_info": {
      "name": "python"
    }
  },
  "cells": [
    {
      "cell_type": "markdown",
      "metadata": {
        "id": "view-in-github",
        "colab_type": "text"
      },
      "source": [
        "<a href=\"https://colab.research.google.com/github/costpetrides/Computational-Physics/blob/main/SADF.ipynb\" target=\"_parent\"><img src=\"https://colab.research.google.com/assets/colab-badge.svg\" alt=\"Open In Colab\"/></a>"
      ]
    },
    {
      "cell_type": "markdown",
      "metadata": {
        "id": "tnIbSLBfBEWy"
      },
      "source": [
        "**Statistical analysis - Data from file**"
      ]
    },
    {
      "cell_type": "code",
      "metadata": {
        "colab": {
          "base_uri": "https://localhost:8080/",
          "height": 350
        },
        "id": "Lbkbn8TS3H_8",
        "outputId": "3d3bc343-6990-41f5-904c-bc18e85cd0e7"
      },
      "source": [
        "import matplotlib.pyplot as plt\n",
        "import numpy as np\n",
        "from math import *\n",
        "v=[]\n",
        "file=open(\"data.txt\",\"r\")\n",
        "\n",
        "for x in file:\n",
        "  v.append(int(x))\n",
        "\n",
        "N=len(v)\n",
        "mean=np.sum(v)/N\n",
        "sd=np.sum((v-mean)**2)/N\n",
        "\n",
        "print('N= ',N)\n",
        "print('The mean value is: ',mean) \n",
        "print('The Variance: ',sd)\n",
        "\n",
        "bins=range(1,8)\n",
        "plt.hist(v, bins, ec = 'black')\n",
        "plt.xlabel('Xj')\n",
        "plt.ylabel('Frequency')"
      ],
      "execution_count": 26,
      "outputs": [
        {
          "output_type": "stream",
          "name": "stdout",
          "text": [
            "N=  31\n",
            "The mean value is:  3.806451612903226\n",
            "The Variance:  2.4786680541103014\n"
          ]
        },
        {
          "output_type": "execute_result",
          "data": {
            "text/plain": [
              "Text(0, 0.5, 'Frequency')"
            ]
          },
          "metadata": {},
          "execution_count": 26
        },
        {
          "output_type": "display_data",
          "data": {
            "image/png": "[encoded data removed]",
            "text/plain": [
              "<Figure size 432x288 with 1 Axes>"
            ]
          },
          "metadata": {
            "needs_background": "light"
          }
        }
      ]
    }
  ]
}