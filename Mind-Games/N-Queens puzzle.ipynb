{
  "nbformat": 4,
  "nbformat_minor": 0,
  "metadata": {
    "colab": {
      "provenance": [],
      "authorship_tag": "ABX9TyOdMj6Bo8A2LjzYU5vhdpFq",
      "include_colab_link": true
    },
    "kernelspec": {
      "name": "python3",
      "display_name": "Python 3"
    },
    "language_info": {
      "name": "python"
    }
  },
  "cells": [
    {
      "cell_type": "markdown",
      "metadata": {
        "id": "view-in-github",
        "colab_type": "text"
      },
      "source": [
        "<a href=\"https://colab.research.google.com/github/costpetrides/Computational-Physics/blob/main/Mind-Games/N-Queens%20puzzle.ipynb\" target=\"_parent\"><img src=\"https://colab.research.google.com/assets/colab-badge.svg\" alt=\"Open In Colab\"/></a>"
      ]
    },
    {
      "cell_type": "code",
      "execution_count": 9,
      "metadata": {
        "colab": {
          "base_uri": "https://localhost:8080/"
        },
        "id": "ihcyXf4VeVya",
        "outputId": "67755dfc-9bd6-49af-bdbe-08e62e8b855d"
      },
      "outputs": [
        {
          "output_type": "stream",
          "name": "stdout",
          "text": [
            "Solution 1:\n",
            "..Q.\n",
            "Q...\n",
            "...Q\n",
            ".Q..\n",
            "\n",
            "Solution 2:\n",
            ".Q..\n",
            "...Q\n",
            "Q...\n",
            "..Q.\n",
            "\n"
          ]
        }
      ],
      "source": [
        "def is_safe(board, row, col, n):\n",
        "    # Check if it's safe to place a queen at board[row][col]\n",
        "    # Check row\n",
        "    for i in range(col):\n",
        "        if board[row][i] == 1:\n",
        "            return False\n",
        "\n",
        "    # Check upper-left diagonal\n",
        "    for i, j in zip(range(row, -1, -1), range(col, -1, -1)):\n",
        "        if board[i][j] == 1:\n",
        "            return False\n",
        "\n",
        "    # Check lower-left diagonal\n",
        "    for i, j in zip(range(row, n, 1), range(col, -1, -1)):\n",
        "        if board[i][j] == 1:\n",
        "            return False\n",
        "\n",
        "    return True\n",
        "\n",
        "def solve_n_queens(n):\n",
        "    def solve(board, col):\n",
        "        if col == n:\n",
        "            solutions.append([\"\".join(\"Q\" if cell else \".\" for cell in row) for row in board])\n",
        "            return\n",
        "\n",
        "        for row in range(n):\n",
        "            if is_safe(board, row, col, n):\n",
        "                board[row][col] = 1\n",
        "                solve(board, col + 1)\n",
        "                board[row][col] = 0\n",
        "\n",
        "    board = [[0] * n for _ in range(n)]\n",
        "    solutions = []\n",
        "    solve(board, 0)\n",
        "    return solutions\n",
        "\n",
        "# Example usage\n",
        "n = 4\n",
        "solutions = solve_n_queens(n)\n",
        "\n",
        "for i, solution in enumerate(solutions):\n",
        "    print(f\"Solution {i + 1}:\")\n",
        "    for row in solution:\n",
        "        print(row)\n",
        "    print()\n"
      ]
    }
  ]
}