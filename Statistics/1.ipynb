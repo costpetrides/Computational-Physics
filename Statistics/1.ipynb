{
  "nbformat": 4,
  "nbformat_minor": 0,
  "metadata": {
    "colab": {
      "provenance": [],
      "authorship_tag": "ABX9TyNgyOQ/9qJi/pWq3F5BcHNA",
      "include_colab_link": true
    },
    "kernelspec": {
      "name": "python3",
      "display_name": "Python 3"
    },
    "language_info": {
      "name": "python"
    }
  },
  "cells": [
    {
      "cell_type": "markdown",
      "metadata": {
        "id": "view-in-github",
        "colab_type": "text"
      },
      "source": [
        "<a href=\"https://colab.research.google.com/github/costpetrides/Computational-Physics/blob/main/Statistics/1.ipynb\" target=\"_parent\"><img src=\"https://colab.research.google.com/assets/colab-badge.svg\" alt=\"Open In Colab\"/></a>"
      ]
    },
    {
      "cell_type": "code",
      "execution_count": 3,
      "metadata": {
        "colab": {
          "base_uri": "https://localhost:8080/",
          "height": 481
        },
        "id": "PcI_QHtcASBg",
        "outputId": "0377639e-5e05-4c64-c417-1cc0b56f33e3"
      },
      "outputs": [
        {
          "output_type": "stream",
          "name": "stdout",
          "text": [
            "Mean= 3.7\n",
            "Variance= 1.7\n",
            "Standard deviation= 1.3\n"
          ]
        },
        {
          "output_type": "display_data",
          "data": {
            "text/plain": [
              "<Figure size 640x480 with 1 Axes>"
            ],
            "image/png": "[encoded data removed]"
          },
          "metadata": {}
        }
      ],
      "source": [
        "import numpy as np\n",
        "import matplotlib.pyplot as plt\n",
        "\n",
        "x=np.array([1, 2, 2, 3, 3, 3, 4, 4, 4, 4, 5, 5, 5, 5, 5])\n",
        "\n",
        "N=len(x)\n",
        "m=sum(x)/N\n",
        "var=sum((x-m)**2)/(N-1)\n",
        "print('Mean= %.1f' %(m))\n",
        "print('Variance= %.1f' %(var))\n",
        "print('Standard deviation= %.1f' %(np.sqrt(var)))\n",
        "\n",
        "bin=np.linspace(1,6,6)\n",
        "plt.hist(x,bin,ec='black')\n",
        "plt.show()"
      ]
    }
  ]
}