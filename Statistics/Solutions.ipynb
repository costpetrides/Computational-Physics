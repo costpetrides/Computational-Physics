{
  "nbformat": 4,
  "nbformat_minor": 0,
  "metadata": {
    "colab": {
      "provenance": [],
      "authorship_tag": "ABX9TyOkUZip4/87XZqW28pi0i3N",
      "include_colab_link": true
    },
    "kernelspec": {
      "name": "python3",
      "display_name": "Python 3"
    },
    "language_info": {
      "name": "python"
    }
  },
  "cells": [
    {
      "cell_type": "markdown",
      "metadata": {
        "id": "view-in-github",
        "colab_type": "text"
      },
      "source": [
        "<a href=\"https://colab.research.google.com/github/costpetrides/Computational-Physics/blob/main/Statistics/Solutions.ipynb\" target=\"_parent\"><img src=\"https://colab.research.google.com/assets/colab-badge.svg\" alt=\"Open In Colab\"/></a>"
      ]
    },
    {
      "cell_type": "markdown",
      "source": [
        "1. **Mean value:**\n",
        "\n",
        "   $\\overline{x} = \\frac{1}{N}∑x_{i}$\n",
        "\n",
        "2. **Variance:**\n",
        "\n",
        "  $σ^{2}_{x} = \\frac{1}{N}∑(x_{i} - \\overline{x})^{2}\\:\\:\\:$  of Population\n",
        "\n",
        "  $s^{2}_{x} = \\frac{1}{N-1}∑(x_{i} - \\overline{x})^{2} \\:\\:\\:$  of Sample\n",
        "\n",
        "\n",
        "3. **Standard deviation:**\n",
        "\n",
        "  $σ_{x} = \\sqrt{\\frac{1}{N}∑(x_{i} - \\overline{x})^{2}}\\:\\:\\:$  of Population\n",
        "\n",
        "  $s_{x} = \\sqrt{\\frac{1}{N-1}∑(x_{i} - \\overline{x})^{2}}\\:\\:\\:$  of Sample\n"
      ],
      "metadata": {
        "id": "jtHt36zyJ7a3"
      }
    },
    {
      "cell_type": "markdown",
      "source": [
        "# 1.1"
      ],
      "metadata": {
        "id": "fT1Ri5d_yBvM"
      }
    },
    {
      "cell_type": "code",
      "source": [
        "import numpy as np\n",
        "import matplotlib.pyplot as plt\n",
        "\n",
        "# Data array\n",
        "x = np.array([1, 2, 2, 3, 3, 3, 4, 4, 5, 6])\n",
        "\n",
        "# Calculations\n",
        "N = len(x)\n",
        "m = np.mean(x)\n",
        "var = np.var(x, ddof=1)  # Sample variance with Bessel's correction\n",
        "std_dev = np.sqrt(var)\n",
        "\n",
        "print(f'Mean = {m:.1f}')\n",
        "print(f'Variance = {var:.1f}')\n",
        "print(f'Standard deviation = {std_dev:.1f}')\n",
        "\n",
        "# Plotting histogram\n",
        "bins = np.arange(1, 8)  # bins edges from 1 to 7\n",
        "plt.hist(x, bins=bins, edgecolor='black', align='left')\n",
        "plt.xlabel('Value')\n",
        "plt.ylabel('Frequency')\n",
        "plt.title('Histogram of X')\n",
        "plt.xticks(bins[:-1])  # Show ticks at integer values 1 to 6\n",
        "plt.show()\n"
      ],
      "metadata": {
        "id": "JQAPyHEk23NV",
        "outputId": "cb995d0b-f6d9-4b6d-856d-4230bb112488",
        "colab": {
          "base_uri": "https://localhost:8080/",
          "height": 523
        }
      },
      "execution_count": 5,
      "outputs": [
        {
          "output_type": "stream",
          "name": "stdout",
          "text": [
            "Mean = 3.3\n",
            "Variance = 2.2\n",
            "Standard deviation = 1.5\n"
          ]
        },
        {
          "output_type": "display_data",
          "data": {
            "text/plain": [
              "<Figure size 640x480 with 1 Axes>"
            ],
            "image/png": "[encoded data removed]"
          },
          "metadata": {}
        }
      ]
    },
    {
      "cell_type": "markdown",
      "source": [
        "# Lets talks for a while about bins !!\n",
        "\n",
        "Two commonly used functions for generating sequences of numbers are `np.linspace` and `np.arange` !\n",
        "\n",
        "## `np.linspace`\n",
        "\n",
        "`np.linspace` is used to generate a specified number of evenly spaced points between a start and an end point.\n",
        "\n",
        "### Syntax:\n",
        "```python\n",
        "np.linspace(start, stop, num) # where num is the number of points!\n"
      ],
      "metadata": {
        "id": "51ksgNod3YWj"
      }
    },
    {
      "cell_type": "code",
      "source": [
        "np.linspace(1, 7, 7)"
      ],
      "metadata": {
        "id": "RtQnsFoE3gD0",
        "outputId": "9cda160c-1192-4d67-f445-2c8849d802bf",
        "colab": {
          "base_uri": "https://localhost:8080/"
        }
      },
      "execution_count": null,
      "outputs": [
        {
          "output_type": "execute_result",
          "data": {
            "text/plain": [
              "array([1., 2., 3., 4., 5., 6., 7.])"
            ]
          },
          "metadata": {},
          "execution_count": 5
        }
      ]
    },
    {
      "cell_type": "code",
      "source": [
        "np.linspace(0, 7, 8)"
      ],
      "metadata": {
        "id": "yglbBQUH3qnU",
        "outputId": "d8a8ffe8-ef60-415f-c22a-b2ea3ada4fe6",
        "colab": {
          "base_uri": "https://localhost:8080/"
        }
      },
      "execution_count": null,
      "outputs": [
        {
          "output_type": "execute_result",
          "data": {
            "text/plain": [
              "array([0., 1., 2., 3., 4., 5., 6., 7.])"
            ]
          },
          "metadata": {},
          "execution_count": 6
        }
      ]
    },
    {
      "cell_type": "markdown",
      "source": [
        "## `np.arange`\n",
        "\n",
        "`np.arange` is used to generate values within a given range with a specified step size.\n",
        "\n",
        "### Syntax:\n",
        "```python\n",
        "np.arange(start, stop, step)  # where step is the ... step :)\n"
      ],
      "metadata": {
        "id": "T9jlGgnB5Wl2"
      }
    },
    {
      "cell_type": "code",
      "source": [
        "np.arange(0, 110, 10) # Note that your final point must be the \"actual final point\" + step"
      ],
      "metadata": {
        "id": "aOgwOeVU32sQ",
        "outputId": "53dd78ae-8aa6-4fcf-cd04-48e2f26ff165",
        "colab": {
          "base_uri": "https://localhost:8080/"
        }
      },
      "execution_count": null,
      "outputs": [
        {
          "output_type": "execute_result",
          "data": {
            "text/plain": [
              "array([  0,  10,  20,  30,  40,  50,  60,  70,  80,  90, 100])"
            ]
          },
          "metadata": {},
          "execution_count": 12
        }
      ]
    },
    {
      "cell_type": "code",
      "source": [
        "np.arange(0, 100, 10) # Note that in this case 100 is not included !"
      ],
      "metadata": {
        "colab": {
          "base_uri": "https://localhost:8080/"
        },
        "id": "Ri2ZJNM98bQp",
        "outputId": "c93ba2d2-9574-4eae-ac29-332ccf3a5169"
      },
      "execution_count": null,
      "outputs": [
        {
          "output_type": "execute_result",
          "data": {
            "text/plain": [
              "array([ 0, 10, 20, 30, 40, 50, 60, 70, 80, 90])"
            ]
          },
          "metadata": {},
          "execution_count": 13
        }
      ]
    }
  ]
}