{
  "nbformat": 4,
  "nbformat_minor": 0,
  "metadata": {
    "colab": {
      "provenance": [],
      "authorship_tag": "ABX9TyMN2E7l4oKajJShBSt20pm3",
      "include_colab_link": true
    },
    "kernelspec": {
      "name": "python3",
      "display_name": "Python 3"
    },
    "language_info": {
      "name": "python"
    }
  },
  "cells": [
    {
      "cell_type": "markdown",
      "metadata": {
        "id": "view-in-github",
        "colab_type": "text"
      },
      "source": [
        "<a href=\"https://colab.research.google.com/github/costpetrides/Computational-Physics/blob/main/Statistics/Solutions.ipynb\" target=\"_parent\"><img src=\"https://colab.research.google.com/assets/colab-badge.svg\" alt=\"Open In Colab\"/></a>"
      ]
    },
    {
      "cell_type": "markdown",
      "source": [
        "1. **Mean value:**\n",
        "\n",
        "   $\\overline{x} = \\frac{1}{N}∑x_{i}$\n",
        "\n",
        "2. **Variance:**\n",
        "\n",
        "  $σ^{2}_{x} = \\frac{1}{N}∑(x_{i} - \\overline{x})^{2}\\:\\:\\:$  of Population\n",
        "\n",
        "  $s^{2}_{x} = \\frac{1}{N-1}∑(x_{i} - \\overline{x})^{2} \\:\\:\\:$  of Sample\n",
        "\n",
        "\n",
        "3. **Standard deviation:**\n",
        "\n",
        "  $σ_{x} = \\sqrt{\\frac{1}{N}∑(x_{i} - \\overline{x})^{2}}\\:\\:\\:$  of Population\n",
        "\n",
        "  $s_{x} = \\sqrt{\\frac{1}{N-1}∑(x_{i} - \\overline{x})^{2}}\\:\\:\\:$  of Sample\n"
      ],
      "metadata": {
        "id": "jtHt36zyJ7a3"
      }
    },
    {
      "cell_type": "markdown",
      "source": [
        "# 1.1"
      ],
      "metadata": {
        "id": "fT1Ri5d_yBvM"
      }
    },
    {
      "cell_type": "code",
      "source": [
        "import numpy as np\n",
        "import matplotlib.pyplot as plt\n",
        "\n",
        "# Data array\n",
        "x = np.array([1, 2, 2, 3, 3, 3, 4, 4, 5, 6])\n",
        "\n",
        "# Calculations\n",
        "N = len(x)\n",
        "m = np.mean(x)\n",
        "var = np.var(x, ddof=1)\n",
        "std_dev = np.sqrt(var)\n",
        "\n",
        "print(f'Mean = {m:.1f}')                     # or print('Mean= %.1f' %(m))\n",
        "print(f'Variance = {var:.1f}')               # or print('Variance= %.1f' %(var))\n",
        "print(f'Standard deviation = {std_dev:.1f}') # or print('Standard deviation= %.1f' %(std_dev))\n",
        "\n",
        "# Plotting histogram\n",
        "bins = np.linspace(1, 7, 7)\n",
        "plt.hist(x, bins=bins, edgecolor='black')\n",
        "plt.xlabel('Value')\n",
        "plt.ylabel('Frequency')\n",
        "plt.show()"
      ],
      "metadata": {
        "id": "JQAPyHEk23NV",
        "outputId": "c95ca171-fcba-4333-d765-060ee604886d",
        "colab": {
          "base_uri": "https://localhost:8080/",
          "height": 523
        }
      },
      "execution_count": null,
      "outputs": [
        {
          "output_type": "stream",
          "name": "stdout",
          "text": [
            "Mean = 3.3\n",
            "Variance = 2.2\n",
            "Standard deviation = 1.5\n"
          ]
        },
        {
          "output_type": "display_data",
          "data": {
            "text/plain": [
              "<Figure size 640x480 with 1 Axes>"
            ],
            "image/png": "[encoded data removed]"
          },
          "metadata": {}
        }
      ]
    },
    {
      "cell_type": "markdown",
      "source": [
        "# Lets talks for a while about... bins !!\n",
        "\n",
        "Two commonly used functions for generating sequences of numbers are `np.linspace` and `np.arange` !\n",
        "\n",
        "## `np.linspace`\n",
        "\n",
        "`np.linspace` is used to generate a specified number of evenly spaced points between a start and an end point.\n",
        "\n",
        "### Syntax:\n",
        "```python\n",
        "np.linspace(start, stop, num) # where num is the number of points!\n"
      ],
      "metadata": {
        "id": "51ksgNod3YWj"
      }
    },
    {
      "cell_type": "code",
      "source": [
        "np.linspace(1, 7, 7)"
      ],
      "metadata": {
        "id": "RtQnsFoE3gD0",
        "outputId": "9cda160c-1192-4d67-f445-2c8849d802bf",
        "colab": {
          "base_uri": "https://localhost:8080/"
        }
      },
      "execution_count": null,
      "outputs": [
        {
          "output_type": "execute_result",
          "data": {
            "text/plain": [
              "array([1., 2., 3., 4., 5., 6., 7.])"
            ]
          },
          "metadata": {},
          "execution_count": 5
        }
      ]
    },
    {
      "cell_type": "code",
      "source": [
        "np.linspace(0, 7, 8)"
      ],
      "metadata": {
        "id": "yglbBQUH3qnU",
        "outputId": "d8a8ffe8-ef60-415f-c22a-b2ea3ada4fe6",
        "colab": {
          "base_uri": "https://localhost:8080/"
        }
      },
      "execution_count": null,
      "outputs": [
        {
          "output_type": "execute_result",
          "data": {
            "text/plain": [
              "array([0., 1., 2., 3., 4., 5., 6., 7.])"
            ]
          },
          "metadata": {},
          "execution_count": 6
        }
      ]
    },
    {
      "cell_type": "markdown",
      "source": [
        "## `np.arange`\n",
        "\n",
        "`np.arange` is used to generate values within a given range with a specified step size.\n",
        "\n",
        "### Syntax:\n",
        "```python\n",
        "np.arange(start, stop, step)  # where step is the ... step :)\n"
      ],
      "metadata": {
        "id": "T9jlGgnB5Wl2"
      }
    },
    {
      "cell_type": "code",
      "source": [
        "np.arange(0, 100, 10)"
      ],
      "metadata": {
        "id": "aOgwOeVU32sQ",
        "outputId": "acbc8aa3-ff09-45ce-f1a4-484c622f47d6",
        "colab": {
          "base_uri": "https://localhost:8080/"
        }
      },
      "execution_count": null,
      "outputs": [
        {
          "output_type": "execute_result",
          "data": {
            "text/plain": [
              "array([ 0, 10, 20, 30, 40, 50, 60, 70, 80, 90])"
            ]
          },
          "metadata": {},
          "execution_count": 8
        }
      ]
    }
  ]
}