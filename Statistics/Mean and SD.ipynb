{
  "nbformat": 4,
  "nbformat_minor": 0,
  "metadata": {
    "colab": {
      "name": "Untitled29.ipynb",
      "provenance": [],
      "authorship_tag": "ABX9TyNwec+HUdpulFLiu2oWZYZ7",
      "include_colab_link": true
    },
    "kernelspec": {
      "name": "python3",
      "display_name": "Python 3"
    },
    "language_info": {
      "name": "python"
    }
  },
  "cells": [
    {
      "cell_type": "markdown",
      "metadata": {
        "id": "view-in-github",
        "colab_type": "text"
      },
      "source": [
        "<a href=\"https://colab.research.google.com/github/costpetrides/Computational-Physics/blob/main/Statistics/Mean%20and%20SD.ipynb\" target=\"_parent\"><img src=\"https://colab.research.google.com/assets/colab-badge.svg\" alt=\"Open In Colab\"/></a>"
      ]
    },
    {
      "cell_type": "markdown",
      "source": [
        "**Mean value**\n",
        "---\n",
        "$ \\overline{x}=\\frac{1}{N}\\sum_{1}^{N} x_{i}$   \n",
        "\n",
        "if we know the frequency $f_{i}$  of  $x_{i}$ then we can use the form\n",
        "$\\overline{x}=\\sum_{1}^{j} \\frac{f_{i} \\cdot x_{i}}{N}$ \n",
        "\n",
        "\n"
      ],
      "metadata": {
        "id": "dM_2xy3mC92N"
      }
    },
    {
      "cell_type": "code",
      "source": [
        "import numpy as np\n",
        "import matplotlib.pyplot as plt\n",
        "\n",
        "x = np.array([1,1,1,1,2,2,2,3,3,4]) \n",
        "\n",
        "N  = len(x)\n",
        "mean  = sum(x)/N\n",
        "\n",
        "print('The mean value is: ',mean) "
      ],
      "metadata": {
        "id": "Ce3lgKGXGQNF",
        "outputId": "1476fe68-6bb4-4742-bc13-3ee04678502e",
        "colab": {
          "base_uri": "https://localhost:8080/"
        }
      },
      "execution_count": null,
      "outputs": [
        {
          "output_type": "stream",
          "name": "stdout",
          "text": [
            "The mean value is:  2.0\n"
          ]
        }
      ]
    },
    {
      "cell_type": "markdown",
      "source": [
        "# **Standard deviation**\n",
        "\n",
        "---\n",
        "The standard deviation (sample) is: \n",
        "\n",
        "$ σ \\sqrt{\\frac{1}{N-1} \\sum_{i=1}^N (x_i - \\overline{x})^2} $\n",
        "\n",
        "The variance is,\n",
        "\n",
        "$σ^2=\\frac{1}{N-1} \\sum_{i=1}^N (x_i - \\overline{x})^2$\n"
      ],
      "metadata": {
        "id": "M8pb7kijGajk"
      }
    },
    {
      "cell_type": "code",
      "metadata": {
        "colab": {
          "base_uri": "https://localhost:8080/",
          "height": 347
        },
        "id": "cxreAB0FtCq5",
        "outputId": "cccd451e-a68b-495c-a03e-c6ee9c4b29d7"
      },
      "source": [
        "import numpy as np\n",
        "import matplotlib.pyplot as plt\n",
        "import math\n",
        "\n",
        "x = np.array([1,1,1,1,2,2,2,3,3,4,5,5,6,6]) \n",
        "\n",
        "N  = len(x)\n",
        "mean  = sum(x)/N\n",
        "ss = sum((x-mean)**2)/(N-1)\n",
        "\n",
        "print('The mean value is:  %.1f' %(mean)) \n",
        "print('The Variance: %.1f' %(ss))\n",
        "print('The Standard deviation: %.2f ' %(math.sqrt(ss)))\n",
        "\n",
        "\n",
        "#Plot Histogram \n",
        "bins = range(1,8)\n",
        "plt.hist(x, bins, ec = 'black')\n",
        "plt.xlabel('Xj')\n",
        "plt.ylabel('Frequency')"
      ],
      "execution_count": 10,
      "outputs": [
        {
          "output_type": "stream",
          "name": "stdout",
          "text": [
            "The mean value is:  3.0\n",
            "The Variance: 3.5\n",
            "The Standard deviation: 1.88 \n"
          ]
        },
        {
          "output_type": "execute_result",
          "data": {
            "text/plain": [
              "Text(0, 0.5, 'Frequency')"
            ]
          },
          "metadata": {},
          "execution_count": 10
        },
        {
          "output_type": "display_data",
          "data": {
            "text/plain": [
              "<Figure size 432x288 with 1 Axes>"
            ],
            "image/png": "[encoded data removed]"
          },
          "metadata": {
            "needs_background": "light"
          }
        }
      ]
    },
    {
      "cell_type": "markdown",
      "source": [
        ""
      ],
      "metadata": {
        "id": "8hkvFiZTGMN6"
      }
    }
  ]
}