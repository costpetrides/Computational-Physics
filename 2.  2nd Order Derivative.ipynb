{
  "nbformat": 4,
  "nbformat_minor": 0,
  "metadata": {
    "colab": {
      "name": "Untitled178.ipynb",
      "provenance": [],
      "authorship_tag": "ABX9TyNVskSzVhyhuvN8OA5cELfu",
      "include_colab_link": true
    },
    "kernelspec": {
      "name": "python3",
      "display_name": "Python 3"
    },
    "language_info": {
      "name": "python"
    }
  },
  "cells": [
    {
      "cell_type": "markdown",
      "metadata": {
        "id": "view-in-github",
        "colab_type": "text"
      },
      "source": [
        "<a href=\"https://colab.research.google.com/github/costpetrides/Computational-Physics/blob/main/2.%20%202nd%20Order%20Derivative.ipynb\" target=\"_parent\"><img src=\"https://colab.research.google.com/assets/colab-badge.svg\" alt=\"Open In Colab\"/></a>"
      ]
    },
    {
      "cell_type": "markdown",
      "source": [
        "**$2^{nd}$ Order Derivative**\n",
        "\n",
        "$\\frac{df(x_{0})}{dx}= \\frac{f(x_{o}-h) \\;-\\; 2f(x_{o}) \\;+\\; f(x_{o}+h)}{h^{2}}$"
      ],
      "metadata": {
        "id": "vvUbTucV2cs5"
      }
    },
    {
      "cell_type": "code",
      "execution_count": 1,
      "metadata": {
        "colab": {
          "base_uri": "https://localhost:8080/"
        },
        "id": "lJz6V53u2Y-Q",
        "outputId": "4fd4c876-5e4a-4d0c-d98c-d3ecaf79ccce"
      },
      "outputs": [
        {
          "output_type": "stream",
          "name": "stdout",
          "text": [
            "df(2.00)/dx = 29.5566\n"
          ]
        }
      ],
      "source": [
        "import numpy as np\n",
        "import matplotlib.pyplot as plt\n",
        "def f(x):\n",
        "  return x*np.exp(x)\n",
        "\n",
        "h=0.01\n",
        "x=2\n",
        "\n",
        "ddf = (f(x-h) - 2*f(x) + f(x+h))/(h**2)\n",
        "\n",
        "print('df(%.2f)/dx = %.4f' %(x,ddf))"
      ]
    }
  ]
}