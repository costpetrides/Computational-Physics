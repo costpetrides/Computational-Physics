{
  "nbformat": 4,
  "nbformat_minor": 0,
  "metadata": {
    "colab": {
      "name": "Welcome To Colaboratory",
      "provenance": [],
      "collapsed_sections": [],
      "include_colab_link": true
    },
    "kernelspec": {
      "display_name": "Python 3",
      "name": "python3"
    }
  },
  "cells": [
    {
      "cell_type": "markdown",
      "metadata": {
        "id": "view-in-github",
        "colab_type": "text"
      },
      "source": [
        "<a href=\"https://colab.research.google.com/github/costpetrides/Computational-Physics/blob/main/Newton's%20method).ipynb\" target=\"_parent\"><img src=\"https://colab.research.google.com/assets/colab-badge.svg\" alt=\"Open In Colab\"/></a>"
      ]
    },
    {
      "cell_type": "code",
      "metadata": {
        "id": "t-UHbNxT8eYr",
        "outputId": "a846e9b5-0639-403f-d215-6aaf44f5730e",
        "colab": {
          "base_uri": "https://localhost:8080/"
        }
      },
      "source": [
        "def f(x): return x*x - 5\n",
        "def df(x): return 2*x \n",
        "x = 20 # initial guess for the root, intentionally large to examplify the speed of convergence\n",
        "n = 0\n",
        "e = 1.e-5 # = 0.00001\n",
        "while( abs(f(x)) > e and n < 100):\n",
        "  x = x - f(x)/df(x)\n",
        "  n = n + 1\n",
        "  print('n =', n, 'x =', x)"
      ],
      "execution_count": 1,
      "outputs": [
        {
          "output_type": "stream",
          "name": "stdout",
          "text": [
            "n = 1 x = 10.125\n",
            "n = 2 x = 5.309413580246914\n",
            "n = 3 x = 3.1255685834674476\n",
            "n = 4 x = 2.3626387608449235\n",
            "n = 5 x = 2.2394582891001273\n",
            "n = 6 x = 2.236070543792898\n",
            "n = 7 x = 2.2360679775012624\n"
          ]
        }
      ]
    }
  ]
}