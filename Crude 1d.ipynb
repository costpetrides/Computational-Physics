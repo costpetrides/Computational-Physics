{
  "nbformat": 4,
  "nbformat_minor": 0,
  "metadata": {
    "colab": {
      "name": "Untitled51.ipynb",
      "provenance": [],
      "authorship_tag": "ABX9TyM+ihWdSvIkH2iMmsWWkkMb",
      "include_colab_link": true
    },
    "kernelspec": {
      "name": "python3",
      "display_name": "Python 3"
    },
    "language_info": {
      "name": "python"
    }
  },
  "cells": [
    {
      "cell_type": "markdown",
      "metadata": {
        "id": "view-in-github",
        "colab_type": "text"
      },
      "source": [
        "<a href=\"https://colab.research.google.com/github/costpetrides/Computational-Physics/blob/main/Crude%201d.ipynb\" target=\"_parent\"><img src=\"https://colab.research.google.com/assets/colab-badge.svg\" alt=\"Open In Colab\"/></a>"
      ]
    },
    {
      "cell_type": "code",
      "metadata": {
        "colab": {
          "base_uri": "https://localhost:8080/"
        },
        "id": "h_UYe7LCvI7F",
        "outputId": "4bfb13ae-9938-4b17-acbd-cbc1f1127ed5"
      },
      "source": [
        "import numpy as np\n",
        "import matplotlib.pyplot as plt\n",
        "\n",
        "def f(x): return np.exp(x)       #function f(x)\n",
        "\n",
        "def u(): return np.random.rand()   # function that genearte radnom numbers \n",
        "\n",
        "a,b=0,10                        # integral limits a and b values\n",
        "N=10000\n",
        "sumf=0    #   the sum of f(xi)\n",
        "sumf2 =0   # sum of (f(x))^2\n",
        "\n",
        "for i in range(N):\n",
        "  x=10*u()             # x= random number ε [0,10]\n",
        "  sumf+= f(x)          \n",
        "  sumf2+=f(x)**2\n",
        "\n",
        "meanf=sumf/N         #Mean of f(x)\n",
        "sdf=sumf2/N-(meanf)**2      # SD of f(x)\n",
        "sf = sdf**0.5\n",
        "I=(b-a)*meanf\n",
        "δΙ=(b-a)*(sf)/(N**0.5)\n",
        "\n",
        "\n",
        "print('Integral =',I)\n",
        "print('δΙ=',δΙ)\n",
        "\n"
      ],
      "execution_count": 31,
      "outputs": [
        {
          "output_type": "stream",
          "name": "stdout",
          "text": [
            "Integral = 22317.06152279123\n",
            "δΙ= 442.9348626409685\n"
          ]
        }
      ]
    }
  ]
}