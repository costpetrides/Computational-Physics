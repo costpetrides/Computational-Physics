{
  "nbformat": 4,
  "nbformat_minor": 0,
  "metadata": {
    "colab": {
      "provenance": [],
      "authorship_tag": "ABX9TyMU77jo9tEYWAeOW4rl48dN",
      "include_colab_link": true
    },
    "kernelspec": {
      "name": "python3",
      "display_name": "Python 3"
    },
    "language_info": {
      "name": "python"
    }
  },
  "cells": [
    {
      "cell_type": "markdown",
      "metadata": {
        "id": "view-in-github",
        "colab_type": "text"
      },
      "source": [
        "<a href=\"https://colab.research.google.com/github/costpetrides/Computational-Physics/blob/main/Fitting/Exercises.ipynb\" target=\"_parent\"><img src=\"https://colab.research.google.com/assets/colab-badge.svg\" alt=\"Open In Colab\"/></a>"
      ]
    },
    {
      "cell_type": "markdown",
      "source": [
        "## Exercise 1"
      ],
      "metadata": {
        "id": "e8_rRHSqR7TX"
      }
    },
    {
      "cell_type": "code",
      "execution_count": 4,
      "metadata": {
        "colab": {
          "base_uri": "https://localhost:8080/",
          "height": 265
        },
        "id": "9YhfmRFIOpxQ",
        "outputId": "d416c5b4-6770-4fc3-a2c5-b0189ac7e4a2"
      },
      "outputs": [
        {
          "output_type": "display_data",
          "data": {
            "text/plain": [
              "<Figure size 432x288 with 1 Axes>"
            ],
            "image/png": "[encoded data removed]"
          },
          "metadata": {
            "needs_background": "light"
          }
        }
      ],
      "source": [
        "import numpy as np\n",
        "import matplotlib.pyplot as plt\n",
        "\n",
        "\n",
        "x=np.array([1,2,3,4,5])\n",
        "y=np.array([2.9,4.1,5.1,5.8,7.2])\n",
        "\n",
        "S0=5\n",
        "S1=np.sum(x)\n",
        "S2=np.sum(x**2)\n",
        "M0=np.sum(y)\n",
        "M1=np.sum(x*y)\n",
        "\n",
        "b=((M0/S0)-(M1/S1))/((S1/S0)-(S2/S1))\n",
        "a=(M1-b*S2)/S1\n",
        "\n",
        "\n",
        "def yy(x):\n",
        "  return b*x+a\n",
        "\n",
        "xx=np.linspace(x[0],x[-1],100)\n",
        "\n",
        "plt.scatter(x,y,c='red')\n",
        "plt.plot(xx,yy(xx),label='y=%.3f+%.3f' %(b,a))\n",
        "plt.legend()\n",
        "plt.show()"
      ]
    },
    {
      "cell_type": "markdown",
      "source": [
        "## Exercise 2"
      ],
      "metadata": {
        "id": "684zcJwAUuS4"
      }
    },
    {
      "cell_type": "code",
      "source": [
        "A=np.array([[3.,  3., 5.],\n",
        "            [3.,  5., 9.],\n",
        "            [5., 9., 17.]])\n",
        "\n",
        "b=np.array([[2.],\n",
        "            [2.],\n",
        "            [4.]])  \n",
        "\n",
        "C=np.concatenate((A,b),axis=1)  \n",
        "(n,m)=C.shape\n",
        "\n",
        "for i in range(n):\n",
        "  for j in range(n):\n",
        "    if i!=j:\n",
        "      ratio=C[j][i]/C[i][i]\n",
        "      for k in range(m):\n",
        "        C[j][k]=C[j][k] - ratio*C[i][k]\n",
        "\n",
        "\n",
        "x=np.zeros(n)\n",
        "\n",
        "for i in range(n):\n",
        "  x[i]=C[i][n]/C[i][i]\n",
        "\n",
        "for i in range(n):\n",
        "    print('x[%.f]=%.2f' %(i+1,x[i]))"
      ],
      "metadata": {
        "colab": {
          "base_uri": "https://localhost:8080/"
        },
        "id": "hKICb1HzUybN",
        "outputId": "a2a56d52-3670-4ea8-e551-bebd2158e806"
      },
      "execution_count": 5,
      "outputs": [
        {
          "output_type": "stream",
          "name": "stdout",
          "text": [
            "x[1]=1.00\n",
            "x[2]=-2.00\n",
            "x[3]=1.00\n"
          ]
        }
      ]
    }
  ]
}