{
  "nbformat": 4,
  "nbformat_minor": 0,
  "metadata": {
    "colab": {
      "name": "Untitled99.ipynb",
      "provenance": [],
      "authorship_tag": "ABX9TyP8VXsZqD2vCGgVEN44DeqB",
      "include_colab_link": true
    },
    "kernelspec": {
      "name": "python3",
      "display_name": "Python 3"
    },
    "language_info": {
      "name": "python"
    }
  },
  "cells": [
    {
      "cell_type": "markdown",
      "metadata": {
        "id": "view-in-github",
        "colab_type": "text"
      },
      "source": [
        "<a href=\"https://colab.research.google.com/github/costpetrides/Computational-Physics/blob/main/Differentiation/1.%20Forward-Derivative%20.ipynb\" target=\"_parent\"><img src=\"https://colab.research.google.com/assets/colab-badge.svg\" alt=\"Open In Colab\"/></a>"
      ]
    },
    {
      "cell_type": "markdown",
      "source": [
        "**Forward Derivative**\n",
        "\n",
        "$\\frac{df(x_{o})}{dx}= \\lim_{h→o} \\frac{f(x_{o}+h) - f(x_{o})}{h}$\n",
        "\n"
      ],
      "metadata": {
        "id": "UAkaRIliWsoQ"
      }
    },
    {
      "cell_type": "markdown",
      "source": [
        "**Error:**\n",
        "\n",
        " $ -f^{''}(x)\\frac{h}{2}$"
      ],
      "metadata": {
        "id": "Ux4fbY9AX6D3"
      }
    },
    {
      "cell_type": "markdown",
      "source": [
        "**Example**: Find the derivative of $y'(x)=4x^{3}$ at x=2"
      ],
      "metadata": {
        "id": "nvX1r42gUtJ4"
      }
    },
    {
      "cell_type": "code",
      "source": [
        "import numpy as np\n",
        "import math\n",
        "import matplotlib.pyplot as plt\n",
        "\n",
        "def f(x): return 4*x**3\n",
        "\n",
        "x=2\n",
        "h=1.e-6\n",
        "\n",
        "df=(f(x+h)-f(x))/h\n",
        "\n",
        "print('f(%.2f)/dx = %.5f' %(x,df))"
      ],
      "metadata": {
        "colab": {
          "base_uri": "https://localhost:8080/"
        },
        "id": "wmWYijiG-bcL",
        "outputId": "d9d3aeb1-147a-4229-bdfe-ece0c581f8ab"
      },
      "execution_count": 7,
      "outputs": [
        {
          "output_type": "stream",
          "name": "stdout",
          "text": [
            "f(2.00)/dx = 48.00002\n"
          ]
        }
      ]
    },
    {
      "cell_type": "code",
      "source": [
        "def dff(x):\n",
        "  return (f(x+h)-f(x))/h\n",
        "\n",
        "ddf=(dff(x+h)-dff(x))/h\n",
        "\n",
        "print('Error: %.5f' %(-ddf*h/2))"
      ],
      "metadata": {
        "colab": {
          "base_uri": "https://localhost:8080/"
        },
        "id": "uaqP11nRitwS",
        "outputId": "b3a0cec7-abe6-444f-df04-487367bc882d"
      },
      "execution_count": 6,
      "outputs": [
        {
          "output_type": "stream",
          "name": "stdout",
          "text": [
            "Error: -0.00002\n"
          ]
        }
      ]
    }
  ]
}