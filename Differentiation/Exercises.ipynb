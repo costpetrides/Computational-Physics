{
  "nbformat": 4,
  "nbformat_minor": 0,
  "metadata": {
    "colab": {
      "provenance": [],
      "authorship_tag": "ABX9TyMUJlW1tmrMrCQVTJsDzf/k",
      "include_colab_link": true
    },
    "kernelspec": {
      "name": "python3",
      "display_name": "Python 3"
    },
    "language_info": {
      "name": "python"
    }
  },
  "cells": [
    {
      "cell_type": "markdown",
      "metadata": {
        "id": "view-in-github",
        "colab_type": "text"
      },
      "source": [
        "<a href=\"https://colab.research.google.com/github/costpetrides/Computational-Physics/blob/main/Differentiation/Exercises.ipynb\" target=\"_parent\"><img src=\"https://colab.research.google.com/assets/colab-badge.svg\" alt=\"Open In Colab\"/></a>"
      ]
    },
    {
      "cell_type": "markdown",
      "source": [
        "# 9.1"
      ],
      "metadata": {
        "id": "Wk-vE9yoJxid"
      }
    },
    {
      "cell_type": "markdown",
      "source": [
        "# i."
      ],
      "metadata": {
        "id": "_cms3D5-9zkN"
      }
    },
    {
      "cell_type": "code",
      "execution_count": null,
      "metadata": {
        "colab": {
          "base_uri": "https://localhost:8080/"
        },
        "id": "Txo_aQ35Ivgf",
        "outputId": "0458466e-d14e-416c-96f1-0f5e2bf22d74"
      },
      "outputs": [
        {
          "output_type": "stream",
          "name": "stdout",
          "text": [
            "df(1.000)= 48.929\n"
          ]
        }
      ],
      "source": [
        "import numpy as np\n",
        "import matplotlib.pyplot as plt\n",
        "import math\n",
        "\n",
        "def df(x):\n",
        "  h=1.e-8\n",
        "  return (f(x+h)-f(x))/h\n",
        "\n",
        "def f(x):\n",
        "  return 3*x**5 * np.exp(x)\n",
        "\n",
        "x=1\n",
        "print('df(%.3f)= %.3f' %(x,df(x)))"
      ]
    },
    {
      "cell_type": "markdown",
      "source": [
        "# ii."
      ],
      "metadata": {
        "id": "BndNfjgiJ3Nx"
      }
    },
    {
      "cell_type": "code",
      "source": [
        "def f(x):\n",
        "  return np.log(x)*np.exp(x**2)\n",
        "\n",
        "x=2\n",
        "print('df(%.3f)= %.3f' %(x,df(x)))"
      ],
      "metadata": {
        "colab": {
          "base_uri": "https://localhost:8080/"
        },
        "id": "Wp-45wScJuVi",
        "outputId": "d074fad5-5b6a-4975-83c4-8e1671054b27"
      },
      "execution_count": null,
      "outputs": [
        {
          "output_type": "stream",
          "name": "stdout",
          "text": [
            "df(2.000)= 178.677\n"
          ]
        }
      ]
    },
    {
      "cell_type": "markdown",
      "source": [
        "# iii."
      ],
      "metadata": {
        "id": "TYTGLSLGJ5Cb"
      }
    },
    {
      "cell_type": "code",
      "source": [
        "def f(x):\n",
        "  return np.sin(3*x)*np.cos(x)\n",
        "\n",
        "x=1\n",
        "print('df(%.3f)= %.3f' %(x,df(x)))\n"
      ],
      "metadata": {
        "colab": {
          "base_uri": "https://localhost:8080/"
        },
        "id": "UTyx2uvaJw3g",
        "outputId": "edfe98d2-2cb2-4f3e-9f81-d42815335c6d"
      },
      "execution_count": null,
      "outputs": [
        {
          "output_type": "stream",
          "name": "stdout",
          "text": [
            "df(1.000)= -1.723\n"
          ]
        }
      ]
    },
    {
      "cell_type": "markdown",
      "source": [
        "# 9.2"
      ],
      "metadata": {
        "id": "O6sdq2YDJ6bA"
      }
    },
    {
      "cell_type": "code",
      "source": [
        "def f(x):\n",
        "  return x**2 +4\n",
        "\n",
        "xx=np.linspace(-10,10,10**3)\n",
        "yy=[f(x) for x in xx]\n",
        "\n",
        "def dy(x):\n",
        "  m=df(4)\n",
        "  return m*(x-4)+20\n",
        "\n",
        "dF=[dy(x) for x in xx]\n",
        "\n",
        "plt.plot(xx,yy,label='f(x)')\n",
        "plt.plot(xx,dF,label='df(4)')\n",
        "plt.legend()\n",
        "plt.show()"
      ],
      "metadata": {
        "colab": {
          "base_uri": "https://localhost:8080/",
          "height": 265
        },
        "id": "nF6AbS99K4J6",
        "outputId": "89c942f0-6446-4bf2-e8e2-0223ac8ed4cb"
      },
      "execution_count": null,
      "outputs": [
        {
          "output_type": "display_data",
          "data": {
            "text/plain": [
              "<Figure size 432x288 with 1 Axes>"
            ],
            "image/png": "[encoded data removed]"
          },
          "metadata": {
            "needs_background": "light"
          }
        }
      ]
    },
    {
      "cell_type": "markdown",
      "source": [
        "# 9.3"
      ],
      "metadata": {
        "id": "l-DkXaMjLzZB"
      }
    },
    {
      "cell_type": "code",
      "source": [
        "def df(x):\n",
        "  h=1.e-8\n",
        "  return (f(x+h)-f(x))/h\n",
        "\n",
        "def f(x):\n",
        "  return x*np.log(5*x+4)\n",
        "\n",
        "x=1\n",
        "print('df(%.3f)= %.3f' %(x,df(x)))"
      ],
      "metadata": {
        "colab": {
          "base_uri": "https://localhost:8080/"
        },
        "id": "ajx1HAgyL2xa",
        "outputId": "6502052d-56ed-4d3e-bce8-25add30754b8"
      },
      "execution_count": null,
      "outputs": [
        {
          "output_type": "stream",
          "name": "stdout",
          "text": [
            "df(1.000)= 2.753\n"
          ]
        }
      ]
    },
    {
      "cell_type": "code",
      "source": [
        "h=1.e-8\n",
        "\n",
        "def ddf(x):\n",
        "  return (f(x-h) - 2*f(x) + f(x+h))/(h**2)\n",
        "\n",
        "Err= -(h/2)*ddf(1)\n",
        "print('Error=%.8f' %(Err))"
      ],
      "metadata": {
        "colab": {
          "base_uri": "https://localhost:8080/"
        },
        "id": "Jglojao7NJfV",
        "outputId": "b81e1467-18f7-4669-e8b9-ac882a4d4cc6"
      },
      "execution_count": null,
      "outputs": [
        {
          "output_type": "stream",
          "name": "stdout",
          "text": [
            "Error=0.00000002\n"
          ]
        }
      ]
    }
  ]
}