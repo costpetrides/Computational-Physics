{
  "nbformat": 4,
  "nbformat_minor": 0,
  "metadata": {
    "colab": {
      "name": "Untitled178.ipynb",
      "provenance": [],
      "authorship_tag": "ABX9TyP6TQ/g03qHntX+ee0voizZ",
      "include_colab_link": true
    },
    "kernelspec": {
      "name": "python3",
      "display_name": "Python 3"
    },
    "language_info": {
      "name": "python"
    }
  },
  "cells": [
    {
      "cell_type": "markdown",
      "metadata": {
        "id": "view-in-github",
        "colab_type": "text"
      },
      "source": [
        "<a href=\"https://colab.research.google.com/github/costpetrides/Computational-Physics/blob/main/Differentiation/2.%20Derivative%20with%20n-points.ipynb\" target=\"_parent\"><img src=\"https://colab.research.google.com/assets/colab-badge.svg\" alt=\"Open In Colab\"/></a>"
      ]
    },
    {
      "cell_type": "markdown",
      "source": [
        "# Derivative with n-points\n",
        "\n"
      ],
      "metadata": {
        "id": "vvUbTucV2cs5"
      }
    },
    {
      "cell_type": "markdown",
      "source": [
        "**3 Points - End**"
      ],
      "metadata": {
        "id": "qvdCcfgW4sak"
      }
    },
    {
      "cell_type": "markdown",
      "source": [
        "$\\frac{df(x_{0})}{dx}= \\frac{-f(x_{o}+2h) \\;+\\; 4f(x_{o}+h) \\;-\\; 3f(x_{o})}{2h}$"
      ],
      "metadata": {
        "id": "NaY0Xwol4qYp"
      }
    },
    {
      "cell_type": "markdown",
      "source": [
        "Example: Find the derivative of y'(x)=$\\;xe^{x}$ at x=2"
      ],
      "metadata": {
        "id": "2GIIDVZI4Dea"
      }
    },
    {
      "cell_type": "code",
      "execution_count": 4,
      "metadata": {
        "colab": {
          "base_uri": "https://localhost:8080/"
        },
        "id": "lJz6V53u2Y-Q",
        "outputId": "cc727ae7-7ef5-4f08-bc8e-03ae375e243a"
      },
      "outputs": [
        {
          "output_type": "stream",
          "name": "stdout",
          "text": [
            "df(2.00)/dx = 22.1659\n"
          ]
        }
      ],
      "source": [
        "import numpy as np\n",
        "import matplotlib.pyplot as plt\n",
        "\n",
        "def f(x):\n",
        "    return x*np.exp(x)\n",
        "\n",
        "h=0.01\n",
        "x=2\n",
        "df =(-f(x+2*h) + 4*f(x+h) - 3*f(x))/(2*h)\n",
        "\n",
        "\n",
        "print('df(%.2f)/dx = %.4f' %(x,df))"
      ]
    },
    {
      "cell_type": "markdown",
      "source": [
        "**3 Points - Mid**"
      ],
      "metadata": {
        "id": "dKXUOvq45z8m"
      }
    },
    {
      "cell_type": "markdown",
      "source": [
        "$\\frac{df(x_{0})}{dx}= \\frac{f(x_{o}+h) \\;-\\; f(x_{o}-h)}{2h}$"
      ],
      "metadata": {
        "id": "nQuf7q1g50D7"
      }
    },
    {
      "cell_type": "code",
      "source": [
        "import numpy as np\n",
        "\n",
        "import matplotlib.pyplot as plt\n",
        "from math import *\n",
        "\n",
        "# Function\n",
        "def f(x):\n",
        "    return x*e**x\n",
        "\n",
        "x=2\n",
        "h=0.01\n",
        "\n",
        "der=(f(x+h)-f(x-h))/(2*h)\n",
        "print('df(%.2f)/dx =%.4f' %(x,der))"
      ],
      "metadata": {
        "id": "nBKAQbcA50Tn",
        "outputId": "00d492c2-3da4-410c-a742-76c7bc803b7d",
        "colab": {
          "base_uri": "https://localhost:8080/"
        }
      },
      "execution_count": 6,
      "outputs": [
        {
          "output_type": "stream",
          "name": "stdout",
          "text": [
            "df(2.00)/dx =22.1678\n"
          ]
        }
      ]
    },
    {
      "cell_type": "markdown",
      "source": [
        "**5 Points - End**"
      ],
      "metadata": {
        "id": "Rg49M01V6WBl"
      }
    },
    {
      "cell_type": "markdown",
      "source": [
        "$\\frac{df(x_{0})}{dx}= \\frac{-25f(x_{o}) \\;+\\; 48f(x_{o}+h) \\;-\\; 36f(x_{o}+2h) \\;+\\; 16f(x_{0}+3h) \\;-\\;3f(x_{0}+4h)}{12h}$"
      ],
      "metadata": {
        "id": "Jgv5mmqW6WKj"
      }
    },
    {
      "cell_type": "code",
      "source": [
        "import numpy as np\n",
        "import matplotlib.pyplot as plt\n",
        "\n",
        "def f(x):\n",
        "  return x*exp(x)\n",
        "\n",
        "h=0.01\n",
        "x=2\n",
        "\n",
        "df = (-25*f(x) + 48*f(x+h) - 36*f(x+2*h) + 16*f(x+3*h) - 3*f(x+4*h))/(12*h)\n",
        "\n",
        "print('df(%.2f)/dx = %.4f' %(x,df))"
      ],
      "metadata": {
        "id": "yv1k3PS76Wb-",
        "outputId": "3d6acbb7-8555-4d95-9354-d54612f39bde",
        "colab": {
          "base_uri": "https://localhost:8080/"
        }
      },
      "execution_count": 8,
      "outputs": [
        {
          "output_type": "stream",
          "name": "stdout",
          "text": [
            "df(2.00)/dx = 22.1672\n"
          ]
        }
      ]
    },
    {
      "cell_type": "markdown",
      "source": [
        "**5 Points - Mid**"
      ],
      "metadata": {
        "id": "OYOthzI07bQj"
      }
    },
    {
      "cell_type": "markdown",
      "source": [
        "$\\frac{df(x_{0})}{dx}= \\frac{f(x_{o}-2h) \\;-\\; 8f(x_{o}-h) \\;+\\; 8f(x_{o}+h) \\;-\\; f(x_{0}+2h)}{12h}$"
      ],
      "metadata": {
        "id": "YUvMpvUo7bS9"
      }
    },
    {
      "cell_type": "code",
      "source": [
        "import numpy as np\n",
        "import matplotlib.pyplot as plt\n",
        "\n",
        "def f(x):\n",
        "    return x*exp(x)\n",
        "\n",
        "h=0.01\n",
        "x=2\n",
        "df  = (f(x-2*h) - 8*f(x-h) + 8*f(x+h) - f(x+2*h))/(12*h)\n",
        "\n",
        "print('df(%.2f)/dx = %.4f' %(x,df))"
      ],
      "metadata": {
        "id": "E41UjkPb7bgY",
        "outputId": "bf3ecd14-1374-46cd-c999-b24d9da215d4",
        "colab": {
          "base_uri": "https://localhost:8080/"
        }
      },
      "execution_count": 9,
      "outputs": [
        {
          "output_type": "stream",
          "name": "stdout",
          "text": [
            "df(2.00)/dx = 22.1672\n"
          ]
        }
      ]
    }
  ]
}