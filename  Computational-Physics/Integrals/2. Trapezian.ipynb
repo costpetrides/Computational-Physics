{
  "nbformat": 4,
  "nbformat_minor": 0,
  "metadata": {
    "colab": {
      "name": "Untitled179.ipynb",
      "provenance": [],
      "authorship_tag": "ABX9TyPHMNqHcI+fqM2TSJHExNH9",
      "include_colab_link": true
    },
    "kernelspec": {
      "name": "python3",
      "display_name": "Python 3"
    },
    "language_info": {
      "name": "python"
    }
  },
  "cells": [
    {
      "cell_type": "markdown",
      "metadata": {
        "id": "view-in-github",
        "colab_type": "text"
      },
      "source": [
        "<a href=\"https://colab.research.google.com/github/costpetrides/Computational-Physics/blob/main/%20Computational-Physics/Integrals/2.%20Trapezian.ipynb\" target=\"_parent\"><img src=\"https://colab.research.google.com/assets/colab-badge.svg\" alt=\"Open In Colab\"/></a>"
      ]
    },
    {
      "cell_type": "markdown",
      "source": [
        "# Integral - Trapezian Rule"
      ],
      "metadata": {
        "id": "WhCCdQUPd9yY"
      }
    },
    {
      "cell_type": "markdown",
      "source": [
        "$\\int_{a}^{b} f(x)dx = \\frac{h}{3} \\;\\left [ f(a) \\;+\\; f(b) \\;+\\;   \\sum_{i}^{n-1}2f(x_{2i}) \\right ] $\n",
        "\n",
        "\n"
      ],
      "metadata": {
        "id": "GtEQAZZcebP_"
      }
    },
    {
      "cell_type": "markdown",
      "source": [
        "x=np.linspace(a,b,100)"
      ],
      "metadata": {
        "id": "Au2wR0nbjwdL"
      }
    },
    {
      "cell_type": "markdown",
      "source": [
        "Example:\n",
        "\n",
        "$\\int_{o}^{4} e^{x} \\;+\\;5x^{2} \\;dx$"
      ],
      "metadata": {
        "id": "1F8CKoozf-8g"
      }
    },
    {
      "cell_type": "code",
      "source": [
        "import numpy as np\n",
        "\n",
        "def f(x):\n",
        "  return np.exp(x)+5*x**2\n",
        "\n",
        "a=0\n",
        "b=4\n",
        "\n",
        "\n",
        "x=np.linspace(a,b,100)\n",
        "n=len(x)\n",
        "h=(b-a)/n\n",
        "s=np.sum(2*f(x))\n",
        "I=(h/2)*(f(a)+s+f(b))\n",
        "\n",
        "print('The integral value is I=%.3f' %(I))\n",
        "print(n)"
      ],
      "metadata": {
        "colab": {
          "base_uri": "https://localhost:8080/"
        },
        "id": "2RFG7bPpgqEF",
        "outputId": "a79c3cc3-77ed-4222-bfb1-051e47c242ed"
      },
      "execution_count": 14,
      "outputs": [
        {
          "output_type": "stream",
          "name": "stdout",
          "text": [
            "The integral value is I=164.099\n",
            "100\n"
          ]
        }
      ]
    }
  ]
}