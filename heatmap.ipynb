{
  "nbformat": 4,
  "nbformat_minor": 0,
  "metadata": {
    "colab": {
      "provenance": [],
      "authorship_tag": "ABX9TyOF7KnmY9EKY2rqODjty+as",
      "include_colab_link": true
    },
    "kernelspec": {
      "name": "python3",
      "display_name": "Python 3"
    },
    "language_info": {
      "name": "python"
    }
  },
  "cells": [
    {
      "cell_type": "markdown",
      "metadata": {
        "id": "view-in-github",
        "colab_type": "text"
      },
      "source": [
        "<a href=\"https://colab.research.google.com/github/costpetrides/Computational-Physics/blob/main/heatmap.ipynb\" target=\"_parent\"><img src=\"https://colab.research.google.com/assets/colab-badge.svg\" alt=\"Open In Colab\"/></a>"
      ]
    },
    {
      "cell_type": "markdown",
      "source": [
        "Plotting a 2D heatmap with Matplotlib"
      ],
      "metadata": {
        "id": "mwu8P57yN7Pc"
      }
    },
    {
      "cell_type": "code",
      "execution_count": 11,
      "metadata": {
        "colab": {
          "base_uri": "https://localhost:8080/",
          "height": 445
        },
        "id": "j2gm2L8RGPRn",
        "outputId": "1440f308-4e84-4186-d832-9a41079a1780"
      },
      "outputs": [
        {
          "output_type": "display_data",
          "data": {
            "text/plain": [
              "<Figure size 720x504 with 2 Axes>"
            ],
            "image/png": "[encoded data removed]"
          },
          "metadata": {
            "needs_background": "light"
          }
        }
      ],
      "source": [
        "import numpy as np\n",
        "import seaborn as sn\n",
        "import matplotlib.pyplot as plt\n",
        "import pandas as pd\n",
        "\n",
        "array = [[18, 18 ,18,18],    # G: years and S: months\n",
        "       [19, 19, 19,19],\n",
        "       [20, 20, 20,20]]\n",
        "\n",
        "month=['J','F','M','A']      \n",
        "year=['2018','2019','2020']\n",
        "\n",
        "df_cm = pd.DataFrame(array, index = year, \n",
        "                     columns = month)\n",
        "\n",
        "plt.figure(figsize = (10,7))\n",
        "\n",
        "\n",
        "plt.title('CO$_{2}$')\n",
        "sn.heatmap(df_cm, annot=True, linewidth=0.5, cbar_kws={'label': 'ppm'})\n",
        "\n",
        "plt.savefig('heatmap.png')\n",
        "plt.savefig('heatmap.pdf')"
      ]
    }
  ]
}