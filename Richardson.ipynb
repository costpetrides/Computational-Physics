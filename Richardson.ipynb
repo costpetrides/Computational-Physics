{
  "nbformat": 4,
  "nbformat_minor": 0,
  "metadata": {
    "colab": {
      "name": "Untitled101.ipynb",
      "provenance": [],
      "authorship_tag": "ABX9TyOnQk6jyIbsZO+/Z1ItIMSE",
      "include_colab_link": true
    },
    "kernelspec": {
      "name": "python3",
      "display_name": "Python 3"
    },
    "language_info": {
      "name": "python"
    }
  },
  "cells": [
    {
      "cell_type": "markdown",
      "metadata": {
        "id": "view-in-github",
        "colab_type": "text"
      },
      "source": [
        "<a href=\"https://colab.research.google.com/github/costpetrides/Computational-Physics/blob/main/Richardson.ipynb\" target=\"_parent\"><img src=\"https://colab.research.google.com/assets/colab-badge.svg\" alt=\"Open In Colab\"/></a>"
      ]
    },
    {
      "cell_type": "code",
      "execution_count": 6,
      "metadata": {
        "colab": {
          "base_uri": "https://localhost:8080/"
        },
        "id": "im0Vj2nrg7Ok",
        "outputId": "843ef082-2d67-4acf-b933-0e1c6c1cdf2a"
      },
      "outputs": [
        {
          "output_type": "stream",
          "name": "stdout",
          "text": [
            "22.16716824132168\n"
          ]
        }
      ],
      "source": [
        "import numpy as np\n",
        "import matplotlib.pyplot as plt\n",
        "from math import *\n",
        "\n",
        "# Function\n",
        "def f(x):\n",
        "    return x*exp(x)\n",
        "\n",
        "# To compute the first column of Richardson method\n",
        "def df(x, h):\n",
        "    df = (f(x+h)-f(x-h))/(2*h)\n",
        "    return df\n",
        "\n",
        "\n",
        "def Richarson(x, h, tol):\n",
        "    R = np.zeros((50,50))\n",
        "\n",
        "    R[1][1] = ThreeMidpoint(x, h)\n",
        "\n",
        "    for i in range(2, 50):\n",
        "        h = 0.5*h\n",
        "        R[i][1] = ThreeMidpoint(x, h)\n",
        "\n",
        "        for j in range(2, i+1):\n",
        "            R[i][j] = R[i][j-1] + (1/(pow(4,j-1) - 1)) * (R[i][j-1] - R[i-1][j-1])\n",
        "\n",
        "        if abs((R[i][i] - R[i-1][i-1])) < tol: break\n",
        "\n",
        "    return R[i][i]\n",
        "\n",
        "x = 2\n",
        "\n",
        "print(Richarson(x, 1, 0.01))"
      ]
    }
  ]
}