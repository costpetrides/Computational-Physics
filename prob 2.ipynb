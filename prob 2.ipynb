{
  "nbformat": 4,
  "nbformat_minor": 0,
  "metadata": {
    "colab": {
      "name": "Untitled129.ipynb",
      "provenance": [],
      "authorship_tag": "ABX9TyPv3dAhgDnqrZmxMKakdkOy",
      "include_colab_link": true
    },
    "kernelspec": {
      "name": "python3",
      "display_name": "Python 3"
    },
    "language_info": {
      "name": "python"
    }
  },
  "cells": [
    {
      "cell_type": "markdown",
      "metadata": {
        "id": "view-in-github",
        "colab_type": "text"
      },
      "source": [
        "<a href=\"https://colab.research.google.com/github/costpetrides/Computational-Physics/blob/main/prob%202.ipynb\" target=\"_parent\"><img src=\"https://colab.research.google.com/assets/colab-badge.svg\" alt=\"Open In Colab\"/></a>"
      ]
    },
    {
      "cell_type": "markdown",
      "source": [
        "**Πρόβλημα 2.**"
      ],
      "metadata": {
        "id": "dUMBfd6HqwIq"
      }
    },
    {
      "cell_type": "code",
      "execution_count": 28,
      "metadata": {
        "colab": {
          "base_uri": "https://localhost:8080/",
          "height": 296
        },
        "id": "PRkmGqLknlwu",
        "outputId": "08ce1ae7-5207-4692-c52c-b31f90696162"
      },
      "outputs": [
        {
          "output_type": "execute_result",
          "data": {
            "text/plain": [
              "Text(0.5, 0, 'dice to win')"
            ]
          },
          "metadata": {},
          "execution_count": 28
        },
        {
          "output_type": "display_data",
          "data": {
            "image/png": "[encoded data removed]",
            "text/plain": [
              "<Figure size 432x288 with 1 Axes>"
            ]
          },
          "metadata": {
            "needs_background": "light"
          }
        }
      ],
      "source": [
        "import numpy as np\n",
        "import matplotlib.pyplot as plt\n",
        "\n",
        "def u():\n",
        "  x=6*np.random.rand() + 1\n",
        "  return int(x)\n",
        "\n",
        "def game():\n",
        "  pos=1\n",
        "  n=0\n",
        "  while pos<25:\n",
        "    n+=1\n",
        "    pos+=u()\n",
        "    if pos==3:\n",
        "      pos=24\n",
        "    if pos==21:\n",
        "      pos=7\n",
        "  return n\n",
        "  \n",
        "dice=[game() for i in range(200)]\n",
        "plt.hist(dice,bins=range(0,30),ec='black')\n",
        "plt.xlabel('dice to win')"
      ]
    }
  ]
}