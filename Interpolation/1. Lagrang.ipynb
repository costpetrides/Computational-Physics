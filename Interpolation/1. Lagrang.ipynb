{
  "nbformat": 4,
  "nbformat_minor": 0,
  "metadata": {
    "colab": {
      "name": "Untitled185.ipynb",
      "provenance": [],
      "authorship_tag": "ABX9TyM1skR+YZfmk1CdFmCfNmTg",
      "include_colab_link": true
    },
    "kernelspec": {
      "name": "python3",
      "display_name": "Python 3"
    },
    "language_info": {
      "name": "python"
    }
  },
  "cells": [
    {
      "cell_type": "markdown",
      "metadata": {
        "id": "view-in-github",
        "colab_type": "text"
      },
      "source": [
        "<a href=\"https://colab.research.google.com/github/costpetrides/Computational-Physics/blob/main/1.%20Lagrang.ipynb\" target=\"_parent\"><img src=\"https://colab.research.google.com/assets/colab-badge.svg\" alt=\"Open In Colab\"/></a>"
      ]
    },
    {
      "cell_type": "markdown",
      "source": [
        "# Lagrange - Interpolation"
      ],
      "metadata": {
        "id": "Gh-UqbsVjqBv"
      }
    },
    {
      "cell_type": "markdown",
      "source": [
        "$P(x)= \\sum_{k}^{n} y(x_{k}) \\: L_{k}(x)$\n",
        "\n",
        "where,\n",
        "\n",
        "$L= \\prod_{i}^{n} \\frac{(x_{o}-x_{i})}{(x_{k}-x_{i})}\\:\\:\\:$    when, $\\:\\:k \\not=i$"
      ],
      "metadata": {
        "id": "9aGDygG6jy6x"
      }
    },
    {
      "cell_type": "code",
      "source": [
        "import matplotlib.pyplot as plt\n",
        "\n",
        "x= [-1.6, -1.0, -0.4, 0.2, 0.8, 1.4]\n",
        "y= [0.278037, 0.606531, 0.923116, 0.980199, 0.726149, 0.375311]\n",
        "n=len(x)\n",
        "\n",
        "yp = 0  # By default \n",
        "xp= 1   # interpolation point \n",
        "\n",
        "\n",
        "# Implementing Lagrange Interpolation\n",
        "for k in range(n): \n",
        "    L = 1\n",
        "    for i in range(n):\n",
        "        if i != k:\n",
        "            L = L * (xp - x[i])/(x[k] - x[i])\n",
        "    yp = yp + L * y[k] \n",
        "\n",
        "\n",
        "print('Interpolated value at %.5f is %.5f.' % (xp, yp))"
      ],
      "metadata": {
        "colab": {
          "base_uri": "https://localhost:8080/"
        },
        "id": "lTlnzDhzihaP",
        "outputId": "277437d3-8a97-464f-ce26-5bc9a7e7f2b5"
      },
      "execution_count": 34,
      "outputs": [
        {
          "output_type": "stream",
          "name": "stdout",
          "text": [
            "Interpolated value at 1.00000 is 0.60037.\n"
          ]
        }
      ]
    }
  ]
}
