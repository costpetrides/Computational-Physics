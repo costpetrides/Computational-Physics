{
  "nbformat": 4,
  "nbformat_minor": 0,
  "metadata": {
    "colab": {
      "name": "Untitled185.ipynb",
      "provenance": [],
      "authorship_tag": "ABX9TyPQREWLw2L5iixZg3bMQjHh",
      "include_colab_link": true
    },
    "kernelspec": {
      "name": "python3",
      "display_name": "Python 3"
    },
    "language_info": {
      "name": "python"
    }
  },
  "cells": [
    {
      "cell_type": "markdown",
      "metadata": {
        "id": "view-in-github",
        "colab_type": "text"
      },
      "source": [
        "<a href=\"https://colab.research.google.com/github/costpetrides/Computational-Physics/blob/main/1.%20Lagrange.ipynb\" target=\"_parent\"><img src=\"https://colab.research.google.com/assets/colab-badge.svg\" alt=\"Open In Colab\"/></a>"
      ]
    },
    {
      "cell_type": "markdown",
      "source": [
        "# Lagrange - Interpolation"
      ],
      "metadata": {
        "id": "Gh-UqbsVjqBv"
      }
    },
    {
      "cell_type": "markdown",
      "source": [
        "$P(x)= \\sum_{k}^{n} y(x_{k}) \\: L_{k}(x)$\n",
        "\n",
        "where,\n",
        "\n",
        "$L= \\prod_{i}^{n} \\frac{(x_{o}-x_{i})}{(x_{k}-x_{i})}\\:\\:\\:$    when, $\\:\\:k \\not=i$"
      ],
      "metadata": {
        "id": "9aGDygG6jy6x"
      }
    },
    {
      "cell_type": "code",
      "source": [
        "import matplotlib.pyplot as plt\n",
        "\n",
        "x= [-1.6, -1.0, -0.4, 0.2, 0.8, 1.4]\n",
        "y= [0.278037, 0.606531, 0.923116, 0.980199, 0.726149, 0.375311]\n",
        "n=len(x)\n",
        "\n",
        "yp = 0  # By default \n",
        "xp= 1   # interpolation point \n",
        "\n",
        "\n",
        "# Implementing Lagrange Interpolation\n",
        "for k in range(n): \n",
        "    L = 1\n",
        "    for i in range(n):\n",
        "        if i != k:\n",
        "            L = L * (xp - x[i])/(x[k] - x[i])\n",
        "    yp = yp + L * y[k] \n",
        "\n",
        "\n",
        "print('Interpolated value at %.5f is %.5f.' % (xp, yp))"
      ],
      "metadata": {
        "colab": {
          "base_uri": "https://localhost:8080/"
        },
        "id": "lTlnzDhzihaP",
        "outputId": "277437d3-8a97-464f-ce26-5bc9a7e7f2b5"
      },
      "execution_count": 34,
      "outputs": [
        {
          "output_type": "stream",
          "name": "stdout",
          "text": [
            "Interpolated value at 1.00000 is 0.60037.\n"
          ]
        }
      ]
    },
    {
      "cell_type": "code",
      "source": [
        "import matplotlib.pyplot as plt\n",
        "import numpy as np\n",
        "\n",
        "x= np.array([-1.6, -1.0, -0.4, 0.2, 0.8, 1.4])\n",
        "y= np.array([0.278037, 0.606531, 0.923116, 0.980199, 0.726149, 0.375311])\n",
        "\n",
        "xplt=np.linspace(x[0],x[-1])\n",
        "yplt=np.array([],float)\n",
        "\n",
        "for xp in xplt:\n",
        "  yp=0\n",
        "\n",
        "  for xi,yi in zip(x,y):\n",
        "    yp+= yi * np.prod((xp- x[x != xi])/(xi- x[x != xi]))\n",
        "  yplt=np.append(yplt,yp)\n",
        "\n",
        "plt.plot(x,y,'ro',xplt,yplt,'b-')"
      ],
      "metadata": {
        "colab": {
          "base_uri": "https://localhost:8080/",
          "height": 299
        },
        "id": "o7-Y-adsmpPp",
        "outputId": "ab0a3ba6-ea37-449c-cbd1-f48594104514"
      },
      "execution_count": 35,
      "outputs": [
        {
          "output_type": "execute_result",
          "data": {
            "text/plain": [
              "[<matplotlib.lines.Line2D at 0x7f0972ecbed0>,\n",
              " <matplotlib.lines.Line2D at 0x7f0972f12e90>]"
            ]
          },
          "metadata": {},
          "execution_count": 35
        },
        {
          "output_type": "display_data",
          "data": {
            "text/plain": [
              "<Figure size 432x288 with 1 Axes>"
            ],
            "image/png": "[encoded data removed]"
          },
          "metadata": {
            "needs_background": "light"
          }
        }
      ]
    }
  ]
}
