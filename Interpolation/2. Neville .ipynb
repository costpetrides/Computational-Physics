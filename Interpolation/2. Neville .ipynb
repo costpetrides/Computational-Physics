{
  "nbformat": 4,
  "nbformat_minor": 0,
  "metadata": {
    "colab": {
      "name": "Untitled83.ipynb",
      "provenance": [],
      "authorship_tag": "ABX9TyP/1kH95DSCbRQw7uEVI8K1",
      "include_colab_link": true
    },
    "kernelspec": {
      "name": "python3",
      "display_name": "Python 3"
    },
    "language_info": {
      "name": "python"
    }
  },
  "cells": [
    {
      "cell_type": "markdown",
      "metadata": {
        "id": "view-in-github",
        "colab_type": "text"
      },
      "source": [
        "<a href=\"https://colab.research.google.com/github/costpetrides/Computational-Physics/blob/main/Interpolation/2.%20Neville%20.ipynb\" target=\"_parent\"><img src=\"https://colab.research.google.com/assets/colab-badge.svg\" alt=\"Open In Colab\"/></a>"
      ]
    },
    {
      "cell_type": "markdown",
      "source": [
        "# Neville - Interpolation"
      ],
      "metadata": {
        "id": "YmI0Df9TFtqy"
      }
    },
    {
      "cell_type": "markdown",
      "source": [
        "Define Q - matrix n x n\n",
        "\n",
        "$i → Q[i][0]=y[i]. \\;\\;\\; → i \\;in\\; range(n)$\n",
        "\n",
        "$j → Q[i][j]=y[i] \\;\\;\\; → j \\;in\\; range(1,i+1)$\n",
        "\n",
        "\n",
        "\n",
        "$Q[i][j]=\\frac{(x_{o}\\;-\\; x_{i-j}) \\;⋅\\;Q\\;[i][j-1]\\;-\\;(x_{o}\\;-\\;x_{i}) \\;⋅\\; Q[i-1][j-1]}{x_{i}\\;-\\;x_{i-j}}$\n"
      ],
      "metadata": {
        "id": "RvQp26J_FtuP"
      }
    },
    {
      "cell_type": "code",
      "source": [
        "import numpy as np\n",
        "import matplotlib.pyplot as plt\n",
        "\n",
        "x = [-1.6, -1.0, -0.4, 0.2, 0.8, 1.4]\n",
        "y = [0.278037, 0.606531, 0.923116, 0.980199, 0.726149, 0.375311]\n",
        "n=len(x)\n",
        "\n",
        "def Q(xo):\n",
        " \n",
        "  Q = np.zeros((n,n))\n",
        "  \n",
        "  for i in range(n):\n",
        "    Q[i][0]=y[i]\n",
        "    for j in range(1, i+1):\n",
        "      Q[i][j] = ((xo - x[i-j]) * Q[i][j-1] - (xo - x[i]) * Q[i-1][j-1]) / (x[i] - x[i-j])\n",
        "\n",
        "  return Q[i][i]\n",
        "\n",
        "print('Interpolated value for f(0)= %.4f' %(Q(0)))\n"
      ],
      "metadata": {
        "id": "mQQn6CVgFt6x",
        "outputId": "4a11e1b6-f3f6-4299-c205-acd1b07a9dc3",
        "colab": {
          "base_uri": "https://localhost:8080/"
        }
      },
      "execution_count": 1,
      "outputs": [
        {
          "output_type": "stream",
          "name": "stdout",
          "text": [
            "Interpolated value for f(0)= 0.9980\n"
          ]
        }
      ]
    },
    {
      "cell_type": "code",
      "source": [
        "xplot = np.linspace(x[0],x[-1])\n",
        "yplot = np.zeros(len(xplot))\n",
        "\n",
        "i = 0\n",
        "for k in xplot:\n",
        "  yplot[i] += Q(k)\n",
        "  i += 1\n",
        "\n",
        "plt.scatter(x,y)\n",
        "plt.plot(xplot,yplot)"
      ],
      "metadata": {
        "id": "OIFj77EAFt-I",
        "outputId": "b72d67c6-1486-488b-8b5e-a29f32e7ec46",
        "colab": {
          "base_uri": "https://localhost:8080/",
          "height": 282
        }
      },
      "execution_count": 2,
      "outputs": [
        {
          "output_type": "execute_result",
          "data": {
            "text/plain": [
              "[<matplotlib.lines.Line2D at 0x7f2e10ff3690>]"
            ]
          },
          "metadata": {},
          "execution_count": 2
        },
        {
          "output_type": "display_data",
          "data": {
            "text/plain": [
              "<Figure size 432x288 with 1 Axes>"
            ],
            "image/png": "[encoded data removed]"
          },
          "metadata": {
            "needs_background": "light"
          }
        }
      ]
    }
  ]
}