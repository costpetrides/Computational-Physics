{
  "nbformat": 4,
  "nbformat_minor": 0,
  "metadata": {
    "colab": {
      "provenance": [],
      "authorship_tag": "ABX9TyOtY2sPa5q7xhZgofI4XYDT",
      "include_colab_link": true
    },
    "kernelspec": {
      "name": "python3",
      "display_name": "Python 3"
    },
    "language_info": {
      "name": "python"
    }
  },
  "cells": [
    {
      "cell_type": "markdown",
      "metadata": {
        "id": "view-in-github",
        "colab_type": "text"
      },
      "source": [
        "<a href=\"https://colab.research.google.com/github/costpetrides/Computational-Physics/blob/main/Monte%20Carlo/Monty%20Hall.ipynb\" target=\"_parent\"><img src=\"https://colab.research.google.com/assets/colab-badge.svg\" alt=\"Open In Colab\"/></a>"
      ]
    },
    {
      "cell_type": "markdown",
      "source": [
        "# Is it to your advantage to switch your choice?"
      ],
      "metadata": {
        "id": "QibHgXD77zRj"
      }
    },
    {
      "cell_type": "code",
      "source": [
        "from numpy import random\n",
        "import numpy as np\n",
        "import time\n",
        "\n",
        "def MontyHallSimulation (N):\n",
        "    ChoiceUnchanged=[]\n",
        "    ChoiceChanged=[]\n",
        "    NN=1\n",
        "    for i in range(0,N):\n",
        "        WinningDoor=random.choice(['Door 1', 'Door 2', 'Door 3']) # Placed the car  behind a random door.\n",
        "\n",
        "        FirstSelection=random.choice(['Door 1', 'Door 2', 'Door 3']) # The contestant selects a random door.\n",
        "\n",
        "        HostOpens=list(set(['Door 1', 'Door 2', 'Door 3'])-set([FirstSelection,WinningDoor]))[0]  # The host opens a door that is different than the contestants choice and not the door with the car.\n",
        "\n",
        "        OtherDoor=list(set(['Door 1', 'Door 2', 'Door 3'])-set([FirstSelection,HostOpens]))[0]#  The other door is not the participant's selected door and not the opened door.\n",
        "\n",
        "        ChoiceUnchanged.append(FirstSelection==WinningDoor) # Add \"True\" to a list where the participant DOES NOT change their selection AND thier  selection identified the door with the car.\n",
        "\n",
        "        ChoiceChanged.append(OtherDoor==WinningDoor) # Add \"True\" to a list where the participant DOES change their selection and thier  new selected door has the car behind it.\n",
        "\n",
        "    print(f'\\n\\\n",
        "    {N:,} games were played. Chances of winning the car \\n\\\n",
        "    Remaining with initial selection: {\"{:.1%}\".format(sum(ChoiceUnchanged)/N)}\\n\\\n",
        "    Switching doors: {\"{:.1%}\".format(sum(ChoiceChanged)/N)}')          # Use the \"sum\" function to get the total number of wins  for each strategy (True=1, False=0).\n",
        "\n",
        "\n",
        "Start_time = time.time()\n",
        "MontyHallSimulation(N=100000)\n"
      ],
      "metadata": {
        "colab": {
          "base_uri": "https://localhost:8080/"
        },
        "id": "erQRrvwmsIMr",
        "outputId": "85c4b999-72e3-487b-b871-7e8389934e38"
      },
      "execution_count": null,
      "outputs": [
        {
          "output_type": "stream",
          "name": "stdout",
          "text": [
            "\n",
            "    100,000 games were played. Chances of winning the car \n",
            "    Remaining with initial selection: 33.3%\n",
            "    Switching doors: 66.7%\n"
          ]
        }
      ]
    }
  ]
}